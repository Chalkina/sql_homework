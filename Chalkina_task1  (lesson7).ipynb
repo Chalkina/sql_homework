{
  "nbformat": 4,
  "nbformat_minor": 0,
  "metadata": {
    "kernelspec": {
      "display_name": "Python 3",
      "language": "python",
      "name": "python3"
    },
    "language_info": {
      "codemirror_mode": {
        "name": "ipython",
        "version": 3
      },
      "file_extension": ".py",
      "mimetype": "text/x-python",
      "name": "python",
      "nbconvert_exporter": "python",
      "pygments_lexer": "ipython3",
      "version": "3.8.5"
    },
    "colab": {
      "name": "demo .ipynb",
      "provenance": [],
      "include_colab_link": true
    }
  },
  "cells": [
    {
      "cell_type": "markdown",
      "metadata": {
        "id": "view-in-github",
        "colab_type": "text"
      },
      "source": [
        "<a href=\"https://colab.research.google.com/github/Chalkina/sql_homework/blob/main/Chalkina_task1%20%20(lesson7).ipynb\" target=\"_parent\"><img src=\"https://colab.research.google.com/assets/colab-badge.svg\" alt=\"Open In Colab\"/></a>"
      ]
    },
    {
      "cell_type": "code",
      "metadata": {
        "id": "bXKO_siYevy-"
      },
      "source": [
        "import sqlite3\n",
        "conn_sqlite = sqlite3.connect('TestDB_new.db')  \n",
        "\n",
        "import psycopg2\n",
        "import pandas as pd\n",
        "\n",
        "#!введите свои реквизиты!\n",
        "DB_HOST = '52.157.159.24'\n",
        "DB_USER = 'student26'\n",
        "DB_USER_PASSWORD = 'student26_password'\n",
        "DB_NAME = 'sql_ex_third_stream'\n",
        "\n",
        "conn_psql = psycopg2.connect(host=DB_HOST, user=DB_USER, password=DB_USER_PASSWORD, dbname=DB_NAME)"
      ],
      "execution_count": 81,
      "outputs": []
    },
    {
      "cell_type": "code",
      "metadata": {
        "id": "W9jXZJOJL5Ji"
      },
      "source": [
        "from google.colab import drive\n",
        "drive.mount('/content/drive')"
      ],
      "execution_count": null,
      "outputs": []
    },
    {
      "cell_type": "code",
      "metadata": {
        "scrolled": true,
        "colab": {
          "base_uri": "https://localhost:8080/"
        },
        "id": "T-_WhdQRevzH",
        "outputId": "86a7b0b7-84f2-4b8c-90a0-f97f19be9385"
      },
      "source": [
        "import sys\n",
        "!{sys.executable} -m pip install sqlitedict"
      ],
      "execution_count": 13,
      "outputs": [
        {
          "output_type": "stream",
          "name": "stdout",
          "text": [
            "Requirement already satisfied: sqlitedict in /usr/local/lib/python3.7/dist-packages (1.7.0)\n"
          ]
        }
      ]
    },
    {
      "cell_type": "code",
      "metadata": {
        "id": "Ar7Sbr99evzI"
      },
      "source": [
        "import sqlitedict\n",
        "import pandas as pd"
      ],
      "execution_count": 24,
      "outputs": []
    },
    {
      "cell_type": "code",
      "metadata": {
        "id": "bRKroflkevzJ"
      },
      "source": [
        "from sqlitedict import SqliteDict\n",
        "mydict = SqliteDict('TestDB_key_value.sqlite', autocommit=True)"
      ],
      "execution_count": 44,
      "outputs": []
    },
    {
      "cell_type": "code",
      "metadata": {
        "id": "JtKOmESqevzK"
      },
      "source": [
        "mydict['key1'] = 'value1'\n",
        "mydict['key2'] = ['123',123]\n",
        "mydict['key3'] = pd.DataFrame()\n",
        "mydict.commit()\n",
        "# mydict.close()"
      ],
      "execution_count": 45,
      "outputs": []
    },
    {
      "cell_type": "code",
      "metadata": {
        "id": "74sbuCPuHOv8"
      },
      "source": [
        "import sqlite3"
      ],
      "execution_count": 30,
      "outputs": []
    },
    {
      "cell_type": "code",
      "metadata": {
        "id": "iGqbeNH4NygB"
      },
      "source": [
        "request = \"CREATE TABLE table1(id int, telephon int, nomer int)\"\n",
        "c.execute(request)\n",
        "tables = c.fetchall()"
      ],
      "execution_count": 50,
      "outputs": []
    },
    {
      "cell_type": "code",
      "metadata": {
        "id": "oaYeXSKMNy1y"
      },
      "source": [
        "c.execute(\"SELECT count(*) from table1\")\n",
        "results = c.fetchall()"
      ],
      "execution_count": 62,
      "outputs": []
    },
    {
      "cell_type": "code",
      "metadata": {
        "id": "y5KXZaN6S4Z9"
      },
      "source": [
        "# Создаем объект типа cursor для доступа к данным\n",
        "cursor = conn_sqlite.cursor()\n",
        "# Создание простейшей таблицы, все поля (столбцы) которой имеют тип text\n",
        "cursor.execute(\"CREATE TABLE table11 (id int, number int, telephone int)\")\n",
        "# Подтверждаем изменения (обязательно)\n",
        "conn_sqlite.commit()\n",
        "# Закрываем курсор\n",
        "cursor.close()\n",
        "# Закрываем соединение (рекомендуется)\n",
        "conn_sqlite.close()"
      ],
      "execution_count": 68,
      "outputs": []
    },
    {
      "cell_type": "code",
      "metadata": {
        "colab": {
          "base_uri": "https://localhost:8080/",
          "height": 232
        },
        "id": "v1Qf-AjaVFlO",
        "outputId": "4b929df3-7c5b-4738-9e19-c182bdbf0515"
      },
      "source": [
        "conn_sqlite = sqlite3.connect(request)\n",
        "c = conn_sqlite.cursor()\n",
        "\n",
        "sql  = \"INSERT INTO table1 VALUES (?, ?, ?, ?, ?)\"\n",
        "val1 = (\"23\", \"77\", \"88\", \"67\", \"43\")\n",
        "val2 = (\"3\", \"5\", \"8\", \"4\", \"9\")\n",
        "c.execute(sql, val1)\n",
        "c.execute(sql, val2)\n",
        "conn.commit()\n",
        "c.close()\n",
        "conn.close()"
      ],
      "execution_count": 83,
      "outputs": [
        {
          "output_type": "error",
          "ename": "OperationalError",
          "evalue": "ignored",
          "traceback": [
            "\u001b[0;31m---------------------------------------------------------------------------\u001b[0m",
            "\u001b[0;31mOperationalError\u001b[0m                          Traceback (most recent call last)",
            "\u001b[0;32m<ipython-input-83-789a98b215cd>\u001b[0m in \u001b[0;36m<module>\u001b[0;34m()\u001b[0m\n\u001b[1;32m      5\u001b[0m \u001b[0mval1\u001b[0m \u001b[0;34m=\u001b[0m \u001b[0;34m(\u001b[0m\u001b[0;34m\"23\"\u001b[0m\u001b[0;34m,\u001b[0m \u001b[0;34m\"77\"\u001b[0m\u001b[0;34m,\u001b[0m \u001b[0;34m\"88\"\u001b[0m\u001b[0;34m,\u001b[0m \u001b[0;34m\"67\"\u001b[0m\u001b[0;34m,\u001b[0m \u001b[0;34m\"43\"\u001b[0m\u001b[0;34m)\u001b[0m\u001b[0;34m\u001b[0m\u001b[0;34m\u001b[0m\u001b[0m\n\u001b[1;32m      6\u001b[0m \u001b[0mval2\u001b[0m \u001b[0;34m=\u001b[0m \u001b[0;34m(\u001b[0m\u001b[0;34m\"3\"\u001b[0m\u001b[0;34m,\u001b[0m \u001b[0;34m\"5\"\u001b[0m\u001b[0;34m,\u001b[0m \u001b[0;34m\"8\"\u001b[0m\u001b[0;34m,\u001b[0m \u001b[0;34m\"4\"\u001b[0m\u001b[0;34m,\u001b[0m \u001b[0;34m\"9\"\u001b[0m\u001b[0;34m)\u001b[0m\u001b[0;34m\u001b[0m\u001b[0;34m\u001b[0m\u001b[0m\n\u001b[0;32m----> 7\u001b[0;31m \u001b[0mc\u001b[0m\u001b[0;34m.\u001b[0m\u001b[0mexecute\u001b[0m\u001b[0;34m(\u001b[0m\u001b[0msql\u001b[0m\u001b[0;34m,\u001b[0m \u001b[0mval1\u001b[0m\u001b[0;34m)\u001b[0m\u001b[0;34m\u001b[0m\u001b[0;34m\u001b[0m\u001b[0m\n\u001b[0m\u001b[1;32m      8\u001b[0m \u001b[0mc\u001b[0m\u001b[0;34m.\u001b[0m\u001b[0mexecute\u001b[0m\u001b[0;34m(\u001b[0m\u001b[0msql\u001b[0m\u001b[0;34m,\u001b[0m \u001b[0mval2\u001b[0m\u001b[0;34m)\u001b[0m\u001b[0;34m\u001b[0m\u001b[0;34m\u001b[0m\u001b[0m\n\u001b[1;32m      9\u001b[0m \u001b[0mconn\u001b[0m\u001b[0;34m.\u001b[0m\u001b[0mcommit\u001b[0m\u001b[0;34m(\u001b[0m\u001b[0;34m)\u001b[0m\u001b[0;34m\u001b[0m\u001b[0;34m\u001b[0m\u001b[0m\n",
            "\u001b[0;31mOperationalError\u001b[0m: no such table: table1"
          ]
        }
      ]
    }
  ]
}