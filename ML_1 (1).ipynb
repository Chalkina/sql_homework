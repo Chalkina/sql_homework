{
 "cells": [
  {
   "cell_type": "code",
   "execution_count": 1,
   "id": "85fa30ed-ae28-4592-beab-e9016b4292d6",
   "metadata": {},
   "outputs": [],
   "source": [
    "import pandas as pd"
   ]
  },
  {
   "cell_type": "code",
   "execution_count": 2,
   "id": "8c866088-ec99-42f5-a312-9b77d122313b",
   "metadata": {},
   "outputs": [],
   "source": [
    "df = pd.read_csv('housing.csv')"
   ]
  },
  {
   "cell_type": "code",
   "execution_count": 3,
   "id": "ec6939cc-f69a-4e01-bb5f-4ada38118039",
   "metadata": {},
   "outputs": [],
   "source": [
    "from sklearn.linear_model import LinearRegression"
   ]
  },
  {
   "cell_type": "code",
   "execution_count": 4,
   "id": "6f1c59b5-b6d6-494b-8ad3-3bd1a5642ef0",
   "metadata": {},
   "outputs": [
    {
     "data": {
      "text/plain": "      CRIM    ZN  INDUS  CHAS    NOX     RM   AGE     DIS  RAD    TAX  \\\n0  0.00632  18.0   2.31   0.0  0.538  6.575  65.2  4.0900  1.0  296.0   \n1  0.02731   0.0   7.07   0.0  0.469  6.421  78.9  4.9671  2.0  242.0   \n2  0.02729   0.0   7.07   0.0  0.469  7.185  61.1  4.9671  2.0  242.0   \n3  0.03237   0.0   2.18   0.0  0.458  6.998  45.8  6.0622  3.0  222.0   \n4  0.06905   0.0   2.18   0.0  0.458  7.147  54.2  6.0622  3.0  222.0   \n\n   PTRATIO       B  LSTAT  MEDV  \n0     15.3  396.90   4.98  24.0  \n1     17.8  396.90   9.14  21.6  \n2     17.8  392.83   4.03  34.7  \n3     18.7  394.63   2.94  33.4  \n4     18.7  396.90   5.33  36.2  ",
      "text/html": "<div>\n<style scoped>\n    .dataframe tbody tr th:only-of-type {\n        vertical-align: middle;\n    }\n\n    .dataframe tbody tr th {\n        vertical-align: top;\n    }\n\n    .dataframe thead th {\n        text-align: right;\n    }\n</style>\n<table border=\"1\" class=\"dataframe\">\n  <thead>\n    <tr style=\"text-align: right;\">\n      <th></th>\n      <th>CRIM</th>\n      <th>ZN</th>\n      <th>INDUS</th>\n      <th>CHAS</th>\n      <th>NOX</th>\n      <th>RM</th>\n      <th>AGE</th>\n      <th>DIS</th>\n      <th>RAD</th>\n      <th>TAX</th>\n      <th>PTRATIO</th>\n      <th>B</th>\n      <th>LSTAT</th>\n      <th>MEDV</th>\n    </tr>\n  </thead>\n  <tbody>\n    <tr>\n      <th>0</th>\n      <td>0.00632</td>\n      <td>18.0</td>\n      <td>2.31</td>\n      <td>0.0</td>\n      <td>0.538</td>\n      <td>6.575</td>\n      <td>65.2</td>\n      <td>4.0900</td>\n      <td>1.0</td>\n      <td>296.0</td>\n      <td>15.3</td>\n      <td>396.90</td>\n      <td>4.98</td>\n      <td>24.0</td>\n    </tr>\n    <tr>\n      <th>1</th>\n      <td>0.02731</td>\n      <td>0.0</td>\n      <td>7.07</td>\n      <td>0.0</td>\n      <td>0.469</td>\n      <td>6.421</td>\n      <td>78.9</td>\n      <td>4.9671</td>\n      <td>2.0</td>\n      <td>242.0</td>\n      <td>17.8</td>\n      <td>396.90</td>\n      <td>9.14</td>\n      <td>21.6</td>\n    </tr>\n    <tr>\n      <th>2</th>\n      <td>0.02729</td>\n      <td>0.0</td>\n      <td>7.07</td>\n      <td>0.0</td>\n      <td>0.469</td>\n      <td>7.185</td>\n      <td>61.1</td>\n      <td>4.9671</td>\n      <td>2.0</td>\n      <td>242.0</td>\n      <td>17.8</td>\n      <td>392.83</td>\n      <td>4.03</td>\n      <td>34.7</td>\n    </tr>\n    <tr>\n      <th>3</th>\n      <td>0.03237</td>\n      <td>0.0</td>\n      <td>2.18</td>\n      <td>0.0</td>\n      <td>0.458</td>\n      <td>6.998</td>\n      <td>45.8</td>\n      <td>6.0622</td>\n      <td>3.0</td>\n      <td>222.0</td>\n      <td>18.7</td>\n      <td>394.63</td>\n      <td>2.94</td>\n      <td>33.4</td>\n    </tr>\n    <tr>\n      <th>4</th>\n      <td>0.06905</td>\n      <td>0.0</td>\n      <td>2.18</td>\n      <td>0.0</td>\n      <td>0.458</td>\n      <td>7.147</td>\n      <td>54.2</td>\n      <td>6.0622</td>\n      <td>3.0</td>\n      <td>222.0</td>\n      <td>18.7</td>\n      <td>396.90</td>\n      <td>5.33</td>\n      <td>36.2</td>\n    </tr>\n  </tbody>\n</table>\n</div>"
     },
     "execution_count": 4,
     "metadata": {},
     "output_type": "execute_result"
    }
   ],
   "source": [
    "df.head()"
   ]
  },
  {
   "cell_type": "code",
   "execution_count": 5,
   "id": "8f540434-71ff-4649-8fce-590052e300c5",
   "metadata": {},
   "outputs": [],
   "source": [
    "from sklearn.model_selection import train_test_split"
   ]
  },
  {
   "cell_type": "code",
   "execution_count": 6,
   "id": "808343e4-b28a-4a6e-914a-ffa0f8d78ee8",
   "metadata": {},
   "outputs": [],
   "source": [
    "X_train, X_test, y_train, y_test = train_test_split(df.drop('ZN', axis=1),\n",
    "                                                    df['ZN'],\n",
    "                                                       test_size=0.2, random_state=123)"
   ]
  },
  {
   "cell_type": "code",
   "execution_count": 7,
   "id": "21406940-44b3-4cf7-867f-e2fc369960e2",
   "metadata": {},
   "outputs": [
    {
     "data": {
      "text/plain": "        CRIM  INDUS  CHAS     NOX     RM    AGE     DIS   RAD    TAX  PTRATIO  \\\n203  0.03510   2.68   0.0  0.4161  7.853   33.2  5.1180   4.0  224.0     14.7   \n441  9.72418  18.10   0.0  0.7400  6.406   97.2  2.0651  24.0  666.0     20.2   \n172  0.13914   4.05   0.0  0.5100  5.572   88.5  2.5961   5.0  296.0     16.6   \n95   0.12204   2.89   0.0  0.4450  6.625   57.8  3.4952   2.0  276.0     18.0   \n54   0.01360   4.00   0.0  0.4100  5.888   47.6  7.3197   3.0  469.0     21.1   \n..       ...    ...   ...     ...    ...    ...     ...   ...    ...      ...   \n98   0.08187   2.89   0.0  0.4450  7.820   36.9  3.4952   2.0  276.0     18.0   \n476  4.87141  18.10   0.0  0.6140  6.484   93.6  2.3053  24.0  666.0     20.2   \n322  0.35114   7.38   0.0  0.4930  6.041   49.9  4.7211   5.0  287.0     19.6   \n382  9.18702  18.10   0.0  0.7000  5.536  100.0  1.5804  24.0  666.0     20.2   \n365  4.55587  18.10   0.0  0.7180  3.561   87.9  1.6132  24.0  666.0     20.2   \n\n          B  LSTAT  MEDV  \n203  392.78   3.81  48.5  \n441  385.96  19.52  17.1  \n172  396.90  14.69  23.1  \n95   357.98   6.65  28.4  \n54   396.90  14.80  18.9  \n..      ...    ...   ...  \n98   393.53   3.57  43.8  \n476  396.21  18.68  16.7  \n322  396.90   7.70  20.4  \n382  396.90  23.60  11.3  \n365  354.70   7.12  27.5  \n\n[404 rows x 13 columns]",
      "text/html": "<div>\n<style scoped>\n    .dataframe tbody tr th:only-of-type {\n        vertical-align: middle;\n    }\n\n    .dataframe tbody tr th {\n        vertical-align: top;\n    }\n\n    .dataframe thead th {\n        text-align: right;\n    }\n</style>\n<table border=\"1\" class=\"dataframe\">\n  <thead>\n    <tr style=\"text-align: right;\">\n      <th></th>\n      <th>CRIM</th>\n      <th>INDUS</th>\n      <th>CHAS</th>\n      <th>NOX</th>\n      <th>RM</th>\n      <th>AGE</th>\n      <th>DIS</th>\n      <th>RAD</th>\n      <th>TAX</th>\n      <th>PTRATIO</th>\n      <th>B</th>\n      <th>LSTAT</th>\n      <th>MEDV</th>\n    </tr>\n  </thead>\n  <tbody>\n    <tr>\n      <th>203</th>\n      <td>0.03510</td>\n      <td>2.68</td>\n      <td>0.0</td>\n      <td>0.4161</td>\n      <td>7.853</td>\n      <td>33.2</td>\n      <td>5.1180</td>\n      <td>4.0</td>\n      <td>224.0</td>\n      <td>14.7</td>\n      <td>392.78</td>\n      <td>3.81</td>\n      <td>48.5</td>\n    </tr>\n    <tr>\n      <th>441</th>\n      <td>9.72418</td>\n      <td>18.10</td>\n      <td>0.0</td>\n      <td>0.7400</td>\n      <td>6.406</td>\n      <td>97.2</td>\n      <td>2.0651</td>\n      <td>24.0</td>\n      <td>666.0</td>\n      <td>20.2</td>\n      <td>385.96</td>\n      <td>19.52</td>\n      <td>17.1</td>\n    </tr>\n    <tr>\n      <th>172</th>\n      <td>0.13914</td>\n      <td>4.05</td>\n      <td>0.0</td>\n      <td>0.5100</td>\n      <td>5.572</td>\n      <td>88.5</td>\n      <td>2.5961</td>\n      <td>5.0</td>\n      <td>296.0</td>\n      <td>16.6</td>\n      <td>396.90</td>\n      <td>14.69</td>\n      <td>23.1</td>\n    </tr>\n    <tr>\n      <th>95</th>\n      <td>0.12204</td>\n      <td>2.89</td>\n      <td>0.0</td>\n      <td>0.4450</td>\n      <td>6.625</td>\n      <td>57.8</td>\n      <td>3.4952</td>\n      <td>2.0</td>\n      <td>276.0</td>\n      <td>18.0</td>\n      <td>357.98</td>\n      <td>6.65</td>\n      <td>28.4</td>\n    </tr>\n    <tr>\n      <th>54</th>\n      <td>0.01360</td>\n      <td>4.00</td>\n      <td>0.0</td>\n      <td>0.4100</td>\n      <td>5.888</td>\n      <td>47.6</td>\n      <td>7.3197</td>\n      <td>3.0</td>\n      <td>469.0</td>\n      <td>21.1</td>\n      <td>396.90</td>\n      <td>14.80</td>\n      <td>18.9</td>\n    </tr>\n    <tr>\n      <th>...</th>\n      <td>...</td>\n      <td>...</td>\n      <td>...</td>\n      <td>...</td>\n      <td>...</td>\n      <td>...</td>\n      <td>...</td>\n      <td>...</td>\n      <td>...</td>\n      <td>...</td>\n      <td>...</td>\n      <td>...</td>\n      <td>...</td>\n    </tr>\n    <tr>\n      <th>98</th>\n      <td>0.08187</td>\n      <td>2.89</td>\n      <td>0.0</td>\n      <td>0.4450</td>\n      <td>7.820</td>\n      <td>36.9</td>\n      <td>3.4952</td>\n      <td>2.0</td>\n      <td>276.0</td>\n      <td>18.0</td>\n      <td>393.53</td>\n      <td>3.57</td>\n      <td>43.8</td>\n    </tr>\n    <tr>\n      <th>476</th>\n      <td>4.87141</td>\n      <td>18.10</td>\n      <td>0.0</td>\n      <td>0.6140</td>\n      <td>6.484</td>\n      <td>93.6</td>\n      <td>2.3053</td>\n      <td>24.0</td>\n      <td>666.0</td>\n      <td>20.2</td>\n      <td>396.21</td>\n      <td>18.68</td>\n      <td>16.7</td>\n    </tr>\n    <tr>\n      <th>322</th>\n      <td>0.35114</td>\n      <td>7.38</td>\n      <td>0.0</td>\n      <td>0.4930</td>\n      <td>6.041</td>\n      <td>49.9</td>\n      <td>4.7211</td>\n      <td>5.0</td>\n      <td>287.0</td>\n      <td>19.6</td>\n      <td>396.90</td>\n      <td>7.70</td>\n      <td>20.4</td>\n    </tr>\n    <tr>\n      <th>382</th>\n      <td>9.18702</td>\n      <td>18.10</td>\n      <td>0.0</td>\n      <td>0.7000</td>\n      <td>5.536</td>\n      <td>100.0</td>\n      <td>1.5804</td>\n      <td>24.0</td>\n      <td>666.0</td>\n      <td>20.2</td>\n      <td>396.90</td>\n      <td>23.60</td>\n      <td>11.3</td>\n    </tr>\n    <tr>\n      <th>365</th>\n      <td>4.55587</td>\n      <td>18.10</td>\n      <td>0.0</td>\n      <td>0.7180</td>\n      <td>3.561</td>\n      <td>87.9</td>\n      <td>1.6132</td>\n      <td>24.0</td>\n      <td>666.0</td>\n      <td>20.2</td>\n      <td>354.70</td>\n      <td>7.12</td>\n      <td>27.5</td>\n    </tr>\n  </tbody>\n</table>\n<p>404 rows × 13 columns</p>\n</div>"
     },
     "execution_count": 7,
     "metadata": {},
     "output_type": "execute_result"
    }
   ],
   "source": [
    "X_train"
   ]
  },
  {
   "cell_type": "code",
   "execution_count": 8,
   "id": "819d54fd-eda3-49d3-aa78-079c4e054671",
   "metadata": {},
   "outputs": [],
   "source": [
    "model = LinearRegression()"
   ]
  },
  {
   "cell_type": "code",
   "execution_count": 9,
   "outputs": [
    {
     "data": {
      "text/plain": "LinearRegression()"
     },
     "execution_count": 9,
     "metadata": {},
     "output_type": "execute_result"
    }
   ],
   "source": [
    "model.fit(X_train,y_train)"
   ],
   "metadata": {
    "collapsed": false,
    "pycharm": {
     "name": "#%%\n"
    }
   }
  },
  {
   "cell_type": "code",
   "execution_count": 10,
   "outputs": [],
   "source": [
    "pred = model.predict(X_test)"
   ],
   "metadata": {
    "collapsed": false,
    "pycharm": {
     "name": "#%%\n"
    }
   }
  },
  {
   "cell_type": "code",
   "execution_count": 11,
   "outputs": [],
   "source": [
    "from sklearn.metrics import mean_squared_error\n",
    "from math import sqrt"
   ],
   "metadata": {
    "collapsed": false,
    "pycharm": {
     "name": "#%%\n"
    }
   }
  },
  {
   "cell_type": "code",
   "execution_count": 15,
   "outputs": [
    {
     "name": "stdout",
     "output_type": "stream",
     "text": [
      "Ошибка RMSE LinearRegression =  15.093594087836633\n"
     ]
    }
   ],
   "source": [
    "print('Ошибка RMSE LinearRegression = ',sqrt(mean_squared_error(y_test,pred)))"
   ],
   "metadata": {
    "collapsed": false,
    "pycharm": {
     "name": "#%%\n"
    }
   }
  },
  {
   "cell_type": "code",
   "execution_count": null,
   "outputs": [],
   "source": [
    "#Решающие деревья для задачи регрессии"
   ],
   "metadata": {
    "collapsed": false,
    "pycharm": {
     "name": "#%%\n"
    }
   }
  },
  {
   "cell_type": "code",
   "execution_count": 14,
   "outputs": [
    {
     "data": {
      "text/plain": "DecisionTreeRegressor()"
     },
     "execution_count": 14,
     "metadata": {},
     "output_type": "execute_result"
    }
   ],
   "source": [
    "from sklearn import tree\n",
    "tree_regressor = tree.DecisionTreeRegressor()\n",
    "tree_regressor.fit(X_train,y_train)"
   ],
   "metadata": {
    "collapsed": false,
    "pycharm": {
     "name": "#%%\n"
    }
   }
  },
  {
   "cell_type": "code",
   "execution_count": 16,
   "outputs": [],
   "source": [
    "tree_pred = tree_regressor.predict(X_test)"
   ],
   "metadata": {
    "collapsed": false,
    "pycharm": {
     "name": "#%%\n"
    }
   }
  },
  {
   "cell_type": "code",
   "execution_count": 18,
   "outputs": [
    {
     "name": "stdout",
     "output_type": "stream",
     "text": [
      "Ошибка RMSE DecisionTreeRegressor =  6.595824585355823\n"
     ]
    }
   ],
   "source": [
    "print('Ошибка RMSE DecisionTreeRegressor = ',sqrt(mean_squared_error(y_test,tree_pred)))"
   ],
   "metadata": {
    "collapsed": false,
    "pycharm": {
     "name": "#%%\n"
    }
   }
  },
  {
   "cell_type": "code",
   "execution_count": 19,
   "outputs": [
    {
     "data": {
      "text/plain": "    Важность параметров Параметры\n3              0.675166       NOX\n1              0.153201     INDUS\n8              0.065944       TAX\n7              0.028041       RAD\n0              0.022908      CRIM\n9              0.022500   PTRATIO\n5              0.017585       AGE\n6              0.009016       DIS\n10             0.004241         B\n11             0.001377     LSTAT\n4              0.000020        RM\n2              0.000000      CHAS\n12             0.000000      MEDV",
      "text/html": "<div>\n<style scoped>\n    .dataframe tbody tr th:only-of-type {\n        vertical-align: middle;\n    }\n\n    .dataframe tbody tr th {\n        vertical-align: top;\n    }\n\n    .dataframe thead th {\n        text-align: right;\n    }\n</style>\n<table border=\"1\" class=\"dataframe\">\n  <thead>\n    <tr style=\"text-align: right;\">\n      <th></th>\n      <th>Важность параметров</th>\n      <th>Параметры</th>\n    </tr>\n  </thead>\n  <tbody>\n    <tr>\n      <th>3</th>\n      <td>0.675166</td>\n      <td>NOX</td>\n    </tr>\n    <tr>\n      <th>1</th>\n      <td>0.153201</td>\n      <td>INDUS</td>\n    </tr>\n    <tr>\n      <th>8</th>\n      <td>0.065944</td>\n      <td>TAX</td>\n    </tr>\n    <tr>\n      <th>7</th>\n      <td>0.028041</td>\n      <td>RAD</td>\n    </tr>\n    <tr>\n      <th>0</th>\n      <td>0.022908</td>\n      <td>CRIM</td>\n    </tr>\n    <tr>\n      <th>9</th>\n      <td>0.022500</td>\n      <td>PTRATIO</td>\n    </tr>\n    <tr>\n      <th>5</th>\n      <td>0.017585</td>\n      <td>AGE</td>\n    </tr>\n    <tr>\n      <th>6</th>\n      <td>0.009016</td>\n      <td>DIS</td>\n    </tr>\n    <tr>\n      <th>10</th>\n      <td>0.004241</td>\n      <td>B</td>\n    </tr>\n    <tr>\n      <th>11</th>\n      <td>0.001377</td>\n      <td>LSTAT</td>\n    </tr>\n    <tr>\n      <th>4</th>\n      <td>0.000020</td>\n      <td>RM</td>\n    </tr>\n    <tr>\n      <th>2</th>\n      <td>0.000000</td>\n      <td>CHAS</td>\n    </tr>\n    <tr>\n      <th>12</th>\n      <td>0.000000</td>\n      <td>MEDV</td>\n    </tr>\n  </tbody>\n</table>\n</div>"
     },
     "execution_count": 19,
     "metadata": {},
     "output_type": "execute_result"
    }
   ],
   "source": [
    "frame = {'Важность параметров': tree_regressor.feature_importances_,'Параметры':X_train.columns}\n",
    "result = pd.DataFrame(frame)\n",
    "result.sort_values(by='Важность параметров', ascending=False)"
   ],
   "metadata": {
    "collapsed": false,
    "pycharm": {
     "name": "#%%\n"
    }
   }
  },
  {
   "cell_type": "code",
   "execution_count": null,
   "outputs": [],
   "source": [],
   "metadata": {
    "collapsed": false,
    "pycharm": {
     "name": "#%%\n"
    }
   }
  }
 ],
 "metadata": {
  "kernelspec": {
   "display_name": "Python 3",
   "language": "python",
   "name": "python3"
  },
  "language_info": {
   "codemirror_mode": {
    "name": "ipython",
    "version": 3
   },
   "file_extension": ".py",
   "mimetype": "text/x-python",
   "name": "python",
   "nbconvert_exporter": "python",
   "pygments_lexer": "ipython3",
   "version": "3.7.8"
  }
 },
 "nbformat": 4,
 "nbformat_minor": 5
}