{
 "cells": [
  {
   "cell_type": "code",
   "execution_count": 17,
   "outputs": [],
   "source": [
    "import pandas as pd\n",
    "from sklearn.model_selection import train_test_split, cross_val_score, ShuffleSplit\n",
    "from sklearn.metrics import accuracy_score, precision_score, recall_score, f1_score, roc_auc_score, roc_curve,auc\n",
    "import matplotlib.pyplot as plt\n",
    "from sklearn.ensemble import RandomForestClassifier"
   ],
   "metadata": {
    "collapsed": false,
    "pycharm": {
     "name": "#%%\n"
    }
   }
  },
  {
   "cell_type": "code",
   "execution_count": 5,
   "outputs": [],
   "source": [
    "titanic_df = pd.read_csv('/Users/Roman/Desktop/ML Сергей Русских/titanicdf.csv')"
   ],
   "metadata": {
    "collapsed": false,
    "pycharm": {
     "name": "#%%\n"
    }
   }
  },
  {
   "cell_type": "code",
   "execution_count": 37,
   "outputs": [
    {
     "data": {
      "text/plain": "Survived    0\nPclass      0\nAge         0\nFare        0\nyouth_10    0\ndtype: int64"
     },
     "execution_count": 37,
     "metadata": {},
     "output_type": "execute_result"
    }
   ],
   "source": [
    "titanic_df.isna().sum()"
   ],
   "metadata": {
    "collapsed": false,
    "pycharm": {
     "name": "#%%\n"
    }
   }
  },
  {
   "cell_type": "code",
   "execution_count": 6,
   "outputs": [
    {
     "data": {
      "text/plain": "0    0.616162\n1    0.383838\nName: Survived, dtype: float64"
     },
     "execution_count": 6,
     "metadata": {},
     "output_type": "execute_result"
    }
   ],
   "source": [
    "titanic_df.Survived.value_counts(normalize=True)"
   ],
   "metadata": {
    "collapsed": false,
    "pycharm": {
     "name": "#%%\n"
    }
   }
  },
  {
   "cell_type": "code",
   "execution_count": 7,
   "outputs": [],
   "source": [
    "titanic_df = titanic_df[['Survived','Pclass','Age','Fare']]"
   ],
   "metadata": {
    "collapsed": false,
    "pycharm": {
     "name": "#%%\n"
    }
   }
  },
  {
   "cell_type": "code",
   "execution_count": 11,
   "outputs": [],
   "source": [
    "titanic_df.dropna(inplace=True)"
   ],
   "metadata": {
    "collapsed": false,
    "pycharm": {
     "name": "#%%\n"
    }
   }
  },
  {
   "cell_type": "code",
   "execution_count": 12,
   "outputs": [],
   "source": [
    "def check_age_for_ten_years(df):\n",
    "    return df.Age // 10 * 10"
   ],
   "metadata": {
    "collapsed": false,
    "pycharm": {
     "name": "#%%\n"
    }
   }
  },
  {
   "cell_type": "code",
   "execution_count": 13,
   "outputs": [],
   "source": [
    "titanic_df['youth_10'] = titanic_df.apply(check_age_for_ten_years,axis=1)"
   ],
   "metadata": {
    "collapsed": false,
    "pycharm": {
     "name": "#%%\n"
    }
   }
  },
  {
   "cell_type": "code",
   "execution_count": 14,
   "outputs": [],
   "source": [
    "X_train, X_test, y_train, y_test = train_test_split(titanic_df.drop('Survived',axis=1), titanic_df['Survived'], test_size=0.33, random_state=42)"
   ],
   "metadata": {
    "collapsed": false,
    "pycharm": {
     "name": "#%%\n"
    }
   }
  },
  {
   "cell_type": "code",
   "execution_count": 15,
   "outputs": [
    {
     "data": {
      "text/plain": "     Pclass   Age      Fare  youth_10\n271       3  25.0    0.0000      20.0\n853       1  16.0   39.4000      10.0\n696       3  44.0    8.0500      40.0\n518       2  36.0   26.0000      30.0\n609       1  40.0  153.4625      40.0",
      "text/html": "<div>\n<style scoped>\n    .dataframe tbody tr th:only-of-type {\n        vertical-align: middle;\n    }\n\n    .dataframe tbody tr th {\n        vertical-align: top;\n    }\n\n    .dataframe thead th {\n        text-align: right;\n    }\n</style>\n<table border=\"1\" class=\"dataframe\">\n  <thead>\n    <tr style=\"text-align: right;\">\n      <th></th>\n      <th>Pclass</th>\n      <th>Age</th>\n      <th>Fare</th>\n      <th>youth_10</th>\n    </tr>\n  </thead>\n  <tbody>\n    <tr>\n      <th>271</th>\n      <td>3</td>\n      <td>25.0</td>\n      <td>0.0000</td>\n      <td>20.0</td>\n    </tr>\n    <tr>\n      <th>853</th>\n      <td>1</td>\n      <td>16.0</td>\n      <td>39.4000</td>\n      <td>10.0</td>\n    </tr>\n    <tr>\n      <th>696</th>\n      <td>3</td>\n      <td>44.0</td>\n      <td>8.0500</td>\n      <td>40.0</td>\n    </tr>\n    <tr>\n      <th>518</th>\n      <td>2</td>\n      <td>36.0</td>\n      <td>26.0000</td>\n      <td>30.0</td>\n    </tr>\n    <tr>\n      <th>609</th>\n      <td>1</td>\n      <td>40.0</td>\n      <td>153.4625</td>\n      <td>40.0</td>\n    </tr>\n  </tbody>\n</table>\n</div>"
     },
     "execution_count": 15,
     "metadata": {},
     "output_type": "execute_result"
    }
   ],
   "source": [
    "X_train.head()"
   ],
   "metadata": {
    "collapsed": false,
    "pycharm": {
     "name": "#%%\n"
    }
   }
  },
  {
   "cell_type": "code",
   "execution_count": 18,
   "outputs": [],
   "source": [
    "clf = RandomForestClassifier()"
   ],
   "metadata": {
    "collapsed": false,
    "pycharm": {
     "name": "#%%\n"
    }
   }
  },
  {
   "cell_type": "code",
   "execution_count": 19,
   "outputs": [],
   "source": [
    "model = clf.fit(X_train, y_train)\n",
    "pred = model.predict(X_test)"
   ],
   "metadata": {
    "collapsed": false,
    "pycharm": {
     "name": "#%%\n"
    }
   }
  },
  {
   "cell_type": "markdown",
   "source": [
    "#Оценить метрики бинарной классификации (Precision, recall, F1)"
   ],
   "metadata": {
    "collapsed": false,
    "pycharm": {
     "name": "#%% md\n"
    }
   }
  },
  {
   "cell_type": "code",
   "execution_count": 20,
   "outputs": [
    {
     "name": "stdout",
     "output_type": "stream",
     "text": [
      "Accuracy: 0.673728813559322\n",
      "Precision: 0.6309523809523809\n",
      "Recall: 0.5353535353535354\n",
      "F1: 0.5792349726775956\n"
     ]
    }
   ],
   "source": [
    "print('Accuracy:',accuracy_score(y_test,pred))\n",
    "print('Precision:',precision_score(y_test,pred))\n",
    "print('Recall:',recall_score(y_test,pred))\n",
    "print('F1:',f1_score(y_test,pred))"
   ],
   "metadata": {
    "collapsed": false,
    "pycharm": {
     "name": "#%%\n"
    }
   }
  },
  {
   "cell_type": "code",
   "execution_count": 21,
   "outputs": [
    {
     "data": {
      "text/plain": "array([1, 1, 1, 1, 0, 1, 0, 0, 0, 0, 1, 1, 1, 0, 1, 0, 0, 1, 1, 0, 0, 0,\n       1, 1, 0, 0, 0, 0, 1, 0, 0, 0, 1, 0, 0, 0, 0, 0, 0, 0, 0, 0, 1, 0,\n       1, 0, 0, 0, 0, 1, 1, 0, 1, 0, 0, 0, 1, 0, 1, 0, 0, 0, 0, 0, 0, 1,\n       1, 1, 0, 0, 0, 1, 0, 0, 0, 0, 0, 0, 0, 1, 0, 1, 0, 0, 0, 0, 0, 0,\n       0, 0, 0, 1, 1, 0, 0, 0, 0, 1, 0, 0, 1, 1, 0, 1, 1, 0, 0, 1, 0, 1,\n       1, 0, 0, 0, 0, 1, 0, 1, 1, 0, 1, 0, 0, 0, 1, 0, 0, 0, 1, 0, 0, 0,\n       0, 0, 1, 0, 0, 1, 0, 0, 0, 0, 1, 0, 0, 0, 0, 0, 1, 0, 1, 0, 0, 0,\n       0, 0, 0, 1, 1, 1, 1, 0, 1, 1, 0, 0, 1, 0, 1, 0, 0, 1, 0, 0, 1, 1,\n       0, 0, 0, 0, 1, 0, 1, 1, 1, 0, 1, 1, 0, 1, 1, 1, 0, 0, 0, 1, 0, 0,\n       1, 0, 0, 0, 0, 1, 1, 1, 1, 0, 0, 1, 0, 0, 1, 0, 0, 0, 1, 0, 0, 1,\n       1, 0, 0, 0, 0, 0, 1, 0, 0, 1, 0, 1, 0, 0, 1, 0])"
     },
     "execution_count": 21,
     "metadata": {},
     "output_type": "execute_result"
    }
   ],
   "source": [
    "model.predict(X_test)"
   ],
   "metadata": {
    "collapsed": false,
    "pycharm": {
     "name": "#%%\n"
    }
   }
  },
  {
   "cell_type": "code",
   "execution_count": 22,
   "outputs": [
    {
     "data": {
      "text/plain": "array([0.96      , 0.99      , 0.8775    , 0.92      , 0.        ,\n       0.77      , 0.2275    , 0.18      , 0.14      , 0.02      ,\n       0.72      , 0.82016667, 0.86      , 0.09166667, 0.79      ,\n       0.01      , 0.39      , 0.74      , 0.505     , 0.17      ,\n       0.04      , 0.19      , 0.88      , 0.79      , 0.08      ,\n       0.15      , 0.47      , 0.11      , 0.77      , 0.10583333,\n       0.02      , 0.21      , 0.965     , 0.        , 0.20233333,\n       0.18      , 0.46066667, 0.07      , 0.        , 0.        ,\n       0.38      , 0.1       , 0.99      , 0.06      , 0.92      ,\n       0.1       , 0.22      , 0.15      , 0.23      , 0.51      ,\n       0.94      , 0.42345238, 0.85      , 0.06      , 0.18      ,\n       0.3       , 0.74      , 0.25      , 0.6       , 0.09      ,\n       0.12      , 0.39      , 0.09      , 0.15      , 0.32      ,\n       0.57      , 1.        , 0.88      , 0.2245    , 0.14      ,\n       0.15      , 0.76      , 0.11      , 0.19      , 0.04      ,\n       0.1       , 0.32      , 0.32      , 0.05      , 0.95      ,\n       0.09      , 0.68      , 0.09      , 0.47466667, 0.        ,\n       0.01      , 0.13      , 0.        , 0.31666667, 0.03      ,\n       0.14      , 0.54      , 0.63      , 0.5       , 0.30466667,\n       0.1       , 0.43      , 0.86      , 0.36245238, 0.05083333,\n       0.7975    , 0.51      , 0.02      , 0.77      , 0.88      ,\n       0.27466667, 0.19      , 0.86      , 0.17566667, 0.51      ,\n       0.7       , 0.01      , 0.24      , 0.43      , 0.09      ,\n       0.5675    , 0.362     , 0.84      , 0.53      , 0.07      ,\n       0.83      , 0.01      , 0.36333333, 0.19      , 0.63      ,\n       0.08      , 0.01      , 0.38      , 0.51      , 0.22      ,\n       0.        , 0.38666667, 0.22      , 0.04833333, 0.73      ,\n       0.01      , 0.24      , 0.78      , 0.04      , 0.3       ,\n       0.        , 0.02      , 0.855     , 0.12      , 0.2       ,\n       0.2875    , 0.        , 0.05      , 0.69      , 0.04      ,\n       0.71      , 0.03      , 0.        , 0.01      , 0.4       ,\n       0.14      , 0.18      , 0.81035714, 0.86      , 0.83      ,\n       0.51      , 0.14      , 0.53      , 0.98      , 0.31156349,\n       0.02      , 1.        , 0.08833333, 0.58      , 0.        ,\n       0.08      , 0.51      , 0.04      , 0.38133333, 0.69      ,\n       0.62785714, 0.04      , 0.13      , 0.09833333, 0.0625    ,\n       0.87      , 0.422     , 0.66      , 0.93      , 0.57      ,\n       0.1965    , 0.52      , 0.76      , 0.04916667, 0.57      ,\n       0.868     , 0.9       , 0.25      , 0.24      , 0.47      ,\n       0.91      , 0.02      , 0.1575    , 0.89      , 0.02      ,\n       0.07666667, 0.43      , 0.08      , 0.91      , 0.7975    ,\n       0.75      , 0.67      , 0.23      , 0.11      , 0.95      ,\n       0.        , 0.07      , 0.92      , 0.06      , 0.1       ,\n       0.        , 0.86      , 0.25      , 0.01      , 0.68      ,\n       0.58      , 0.18      , 0.14      , 0.065     , 0.15      ,\n       0.33      , 0.505     , 0.02      , 0.35      , 0.93      ,\n       0.4865    , 1.        , 0.18      , 0.27      , 0.84      ,\n       0.07      ])"
     },
     "execution_count": 22,
     "metadata": {},
     "output_type": "execute_result"
    }
   ],
   "source": [
    "model.predict_proba(X_test)[:,1]"
   ],
   "metadata": {
    "collapsed": false,
    "pycharm": {
     "name": "#%%\n"
    }
   }
  },
  {
   "cell_type": "code",
   "execution_count": 23,
   "outputs": [],
   "source": [
    "pred_proba = model.predict_proba(X_test)[:,1]"
   ],
   "metadata": {
    "collapsed": false,
    "pycharm": {
     "name": "#%%\n"
    }
   }
  },
  {
   "cell_type": "code",
   "execution_count": 24,
   "outputs": [
    {
     "name": "stdout",
     "output_type": "stream",
     "text": [
      "RandomForestClassifierr: ROC AUC=0.716\n"
     ]
    }
   ],
   "source": [
    "fpr, tpr, treshold = roc_curve(y_test, pred_proba)\n",
    "tree_auc = roc_auc_score(y_test, pred_proba)\n",
    "print('RandomForestClassifierr: ROC AUC=%.3f' % (tree_auc))"
   ],
   "metadata": {
    "collapsed": false,
    "pycharm": {
     "name": "#%%\n"
    }
   }
  },
  {
   "cell_type": "markdown",
   "source": [
    "#Построить ROC-кривую для оценки качества классификатора"
   ],
   "metadata": {
    "collapsed": false,
    "pycharm": {
     "name": "#%% md\n"
    }
   }
  },
  {
   "cell_type": "code",
   "execution_count": 25,
   "outputs": [
    {
     "data": {
      "text/plain": "<Figure size 432x288 with 1 Axes>",
      "image/png": "[encoded data removed]"
     },
     "metadata": {
      "needs_background": "light"
     },
     "output_type": "display_data"
    }
   ],
   "source": [
    "roc_auc = auc(fpr, tpr)\n",
    "# строим график\n",
    "plt.plot(fpr, tpr,  color='darkorange',\n",
    "         label='ROC кривая (area = %0.2f)' % roc_auc)\n",
    "plt.plot([0, 1], [0, 1], color='navy', linestyle='--')\n",
    "plt.xlim([0.0, 1.0])\n",
    "plt.ylim([0.0, 1.05])\n",
    "plt.xlabel('False Positive Rate')\n",
    "plt.ylabel('True Positive Rate')\n",
    "plt.title('Пример ROC-кривой')\n",
    "plt.legend(loc=\"lower right\")\n",
    "plt.show()"
   ],
   "metadata": {
    "collapsed": false,
    "pycharm": {
     "name": "#%%\n"
    }
   }
  },
  {
   "cell_type": "markdown",
   "source": [
    "#Подобрать лучшие гиперпараметры (n_estimators, criterion, max_depth)"
   ],
   "metadata": {
    "collapsed": false,
    "pycharm": {
     "name": "#%% md\n"
    }
   }
  },
  {
   "cell_type": "code",
   "execution_count": 30,
   "outputs": [],
   "source": [
    "test_deep = []\n",
    "for deep in range (1,31):\n",
    "    for leaf in range (1,5):\n",
    "        clf = RandomForestClassifier(n_estimators=1, max_depth=deep, criterion='entropy')\n",
    "        model = clf.fit(X_train, y_train)\n",
    "        pred = model.predict(X_test)\n",
    "        test_deep.append([deep,leaf,f1_score(y_test,pred),recall_score(y_test,pred)])"
   ],
   "metadata": {
    "collapsed": false,
    "pycharm": {
     "name": "#%%\n"
    }
   }
  },
  {
   "cell_type": "code",
   "execution_count": 31,
   "outputs": [],
   "source": [
    "test_deep = pd.DataFrame(test_deep)\n",
    "test_deep.columns = ['forest_depth','leaf','f1_score','recall_score']"
   ],
   "metadata": {
    "collapsed": false,
    "pycharm": {
     "name": "#%%\n"
    }
   }
  },
  {
   "cell_type": "code",
   "execution_count": 32,
   "outputs": [
    {
     "data": {
      "text/plain": "    forest_depth  leaf  f1_score  recall_score\n7              2     4  0.681818      0.757576\n12             4     1  0.644444      0.585859\n10             3     3  0.638743      0.616162\n17             5     2  0.632768      0.565657\n53            14     2  0.617021      0.585859\n66            17     3  0.615385      0.606061\n19             5     4  0.615385      0.525253\n37            10     2  0.612440      0.646465\n26             7     3  0.602273      0.535354\n16             5     1  0.602273      0.535354",
      "text/html": "<div>\n<style scoped>\n    .dataframe tbody tr th:only-of-type {\n        vertical-align: middle;\n    }\n\n    .dataframe tbody tr th {\n        vertical-align: top;\n    }\n\n    .dataframe thead th {\n        text-align: right;\n    }\n</style>\n<table border=\"1\" class=\"dataframe\">\n  <thead>\n    <tr style=\"text-align: right;\">\n      <th></th>\n      <th>forest_depth</th>\n      <th>leaf</th>\n      <th>f1_score</th>\n      <th>recall_score</th>\n    </tr>\n  </thead>\n  <tbody>\n    <tr>\n      <th>7</th>\n      <td>2</td>\n      <td>4</td>\n      <td>0.681818</td>\n      <td>0.757576</td>\n    </tr>\n    <tr>\n      <th>12</th>\n      <td>4</td>\n      <td>1</td>\n      <td>0.644444</td>\n      <td>0.585859</td>\n    </tr>\n    <tr>\n      <th>10</th>\n      <td>3</td>\n      <td>3</td>\n      <td>0.638743</td>\n      <td>0.616162</td>\n    </tr>\n    <tr>\n      <th>17</th>\n      <td>5</td>\n      <td>2</td>\n      <td>0.632768</td>\n      <td>0.565657</td>\n    </tr>\n    <tr>\n      <th>53</th>\n      <td>14</td>\n      <td>2</td>\n      <td>0.617021</td>\n      <td>0.585859</td>\n    </tr>\n    <tr>\n      <th>66</th>\n      <td>17</td>\n      <td>3</td>\n      <td>0.615385</td>\n      <td>0.606061</td>\n    </tr>\n    <tr>\n      <th>19</th>\n      <td>5</td>\n      <td>4</td>\n      <td>0.615385</td>\n      <td>0.525253</td>\n    </tr>\n    <tr>\n      <th>37</th>\n      <td>10</td>\n      <td>2</td>\n      <td>0.612440</td>\n      <td>0.646465</td>\n    </tr>\n    <tr>\n      <th>26</th>\n      <td>7</td>\n      <td>3</td>\n      <td>0.602273</td>\n      <td>0.535354</td>\n    </tr>\n    <tr>\n      <th>16</th>\n      <td>5</td>\n      <td>1</td>\n      <td>0.602273</td>\n      <td>0.535354</td>\n    </tr>\n  </tbody>\n</table>\n</div>"
     },
     "execution_count": 32,
     "metadata": {},
     "output_type": "execute_result"
    }
   ],
   "source": [
    "test_deep.sort_values(by='f1_score',ascending=False).head(10)"
   ],
   "metadata": {
    "collapsed": false,
    "pycharm": {
     "name": "#%%\n"
    }
   }
  },
  {
   "cell_type": "markdown",
   "source": [
    "#Провести кросс-валидацию модели"
   ],
   "metadata": {
    "collapsed": false,
    "pycharm": {
     "name": "#%% md\n"
    }
   }
  },
  {
   "cell_type": "code",
   "execution_count": 34,
   "outputs": [],
   "source": [
    "cv = ShuffleSplit(n_splits=10, test_size=0.33, random_state=0)\n",
    "scores = cross_val_score(model, X_train, y_train, cv=cv, scoring='recall')"
   ],
   "metadata": {
    "collapsed": false,
    "pycharm": {
     "name": "#%%\n"
    }
   }
  },
  {
   "cell_type": "code",
   "execution_count": 35,
   "outputs": [
    {
     "data": {
      "text/plain": "0.5856074076818717"
     },
     "execution_count": 35,
     "metadata": {},
     "output_type": "execute_result"
    }
   ],
   "source": [
    "scores.mean()"
   ],
   "metadata": {
    "collapsed": false,
    "pycharm": {
     "name": "#%%\n"
    }
   }
  },
  {
   "cell_type": "code",
   "execution_count": 36,
   "outputs": [
    {
     "data": {
      "text/plain": "array([0.61904762, 0.56896552, 0.55555556, 0.59649123, 0.57142857,\n       0.62121212, 0.59259259, 0.64285714, 0.52542373, 0.5625    ])"
     },
     "execution_count": 36,
     "metadata": {},
     "output_type": "execute_result"
    }
   ],
   "source": [
    "scores"
   ],
   "metadata": {
    "collapsed": false,
    "pycharm": {
     "name": "#%%\n"
    }
   }
  },
  {
   "cell_type": "code",
   "execution_count": null,
   "outputs": [],
   "source": [],
   "metadata": {
    "collapsed": false,
    "pycharm": {
     "name": "#%%\n"
    }
   }
  }
 ],
 "metadata": {
  "kernelspec": {
   "display_name": "Python 3",
   "language": "python",
   "name": "python3"
  },
  "language_info": {
   "codemirror_mode": {
    "name": "ipython",
    "version": 3
   },
   "file_extension": ".py",
   "mimetype": "text/x-python",
   "name": "python",
   "nbconvert_exporter": "python",
   "pygments_lexer": "ipython3",
   "version": "3.7.8"
  }
 },
 "nbformat": 4,
 "nbformat_minor": 5
}