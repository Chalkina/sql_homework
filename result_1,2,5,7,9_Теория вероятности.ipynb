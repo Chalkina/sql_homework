{
  "nbformat": 4,
  "nbformat_minor": 0,
  "metadata": {
    "colab": {
      "name": "Untitled3.ipynb",
      "provenance": [],
      "authorship_tag": "ABX9TyPNIuiY7LbPYMXgKg4CLRwj",
      "include_colab_link": true
    },
    "kernelspec": {
      "name": "python3",
      "display_name": "Python 3"
    },
    "language_info": {
      "name": "python"
    }
  },
  "cells": [
    {
      "cell_type": "markdown",
      "metadata": {
        "id": "view-in-github",
        "colab_type": "text"
      },
      "source": [
        "<a href=\"https://colab.research.google.com/github/Chalkina/sql_homework/blob/main/result_1%2C2%2C5%2C7%2C9_%D0%A2%D0%B5%D0%BE%D1%80%D0%B8%D1%8F%20%D0%B2%D0%B5%D1%80%D0%BE%D1%8F%D1%82%D0%BD%D0%BE%D1%81%D1%82%D0%B8.ipynb\" target=\"_parent\"><img src=\"https://colab.research.google.com/assets/colab-badge.svg\" alt=\"Open In Colab\"/></a>"
      ]
    },
    {
      "cell_type": "code",
      "execution_count": null,
      "metadata": {
        "colab": {
          "base_uri": "https://localhost:8080/"
        },
        "id": "_OoLp9En0F6W",
        "outputId": "4deec783-ac13-4f6e-d7a7-be454ba96c19"
      },
      "outputs": [
        {
          "output_type": "stream",
          "name": "stdout",
          "text": [
            "0.5\n"
          ]
        }
      ],
      "source": [
        "#Определение вероятности. События\n",
        "#Требуется сгенерировать необходимые выборки и произвести по ним расчеты\n",
        "#Задача 1\n",
        "#Брошено две монеты. Найти вероятность того, что монеты выпали разными сторонами\n",
        "import random\n",
        "orel1 = 0\n",
        "resh1 = 0\n",
        "orel2 = 0\n",
        "resh2 = 0\n",
        "i = 0\n",
        "while i<100000:\n",
        "    i += 1\n",
        "    coin = random.randint(1,4)\n",
        "    if coin == 1:\n",
        "        orel1 += 1\n",
        "    if coin == 2:\n",
        "        resh1 += 1\n",
        "    if coin == 3:\n",
        "        orel2 += 1\n",
        "    if coin == 4:\n",
        "        resh2 += 1   \n",
        "p1 = float (resh1+orel2)/100000\n",
        "p2 = float (orel1+resh2)/100000\n",
        "p3 = float (p1+p2)/2\n",
        "print (p3)"
      ]
    },
    {
      "cell_type": "code",
      "source": [
        "#Вариант преподавателя\n",
        "import pandas as pd\n",
        "import numpy as np\n",
        "N = 900000\n",
        "c1 = np.random.randint(0,2,size=N)\n",
        "c2 = np.random.randint(0,2,size=N)\n",
        "cases = pd.DataFrame(zip(c1,c2), columns=['Coin1','Coin2'])\n",
        "p = cases[cases['Coin1'] !=cases['Coin2']].shape[0]/N\n",
        "print (p)"
      ],
      "metadata": {
        "colab": {
          "base_uri": "https://localhost:8080/"
        },
        "id": "J_ZpDHsi0O07",
        "outputId": "9830aa8e-1892-470b-e230-10a28678cd6c"
      },
      "execution_count": null,
      "outputs": [
        {
          "output_type": "stream",
          "name": "stdout",
          "text": [
            "0.5007377777777777\n"
          ]
        }
      ]
    },
    {
      "cell_type": "code",
      "source": [
        "#Задача 2 Брошено три монеты. Описать множество всех элементарных событий. Найти вероятности следующих событий:\n",
        "#A = {не выпало ни одного герба}\n",
        "#B = {выпало четное число гербов}\n",
        "#C = {на третьей монете выпал герб}\n",
        "import pandas as pd\n",
        "import numpy as np\n",
        "N = 900000\n",
        "c1 = np.random.randint(0,2,size=N)\n",
        "c2 = np.random.randint(0,2,size=N)\n",
        "c3 = np.random.randint(0,2,size=N)\n",
        "cases_ = pd.DataFrame(zip(c1,c2,c3), columns=['Coin1','Coin2','Coin3'])\n",
        "print (cases_)"
      ],
      "metadata": {
        "colab": {
          "base_uri": "https://localhost:8080/"
        },
        "id": "Pri6AmiR0TWi",
        "outputId": "cbd61bf9-7b21-4df2-e1e5-6a23ba0636d1"
      },
      "execution_count": null,
      "outputs": [
        {
          "output_type": "stream",
          "name": "stdout",
          "text": [
            "        Coin1  Coin2  Coin3\n",
            "0           1      1      0\n",
            "1           0      1      1\n",
            "2           0      1      0\n",
            "3           1      0      1\n",
            "4           0      1      1\n",
            "...       ...    ...    ...\n",
            "899995      0      0      0\n",
            "899996      0      1      1\n",
            "899997      0      0      1\n",
            "899998      1      0      0\n",
            "899999      1      0      0\n",
            "\n",
            "[900000 rows x 3 columns]\n"
          ]
        }
      ]
    },
    {
      "cell_type": "code",
      "source": [
        "#Описать множество всех элементарных событий\n",
        "row_list=[]\n",
        "for i in range((cases_.shape[0])):\n",
        "  row_list.append(list(cases_.iloc[i, :]))"
      ],
      "metadata": {
        "id": "8wy37hgf2A-q"
      },
      "execution_count": null,
      "outputs": []
    },
    {
      "cell_type": "code",
      "source": [
        "#A = {не выпало ни одного герба}\n",
        "p_ = cases_[(cases_['Coin1']==1) & (cases_['Coin2']==1) & (cases_['Coin3']==1)]\n",
        "p__ = len(p_)/N\n",
        "print (p__)"
      ],
      "metadata": {
        "colab": {
          "base_uri": "https://localhost:8080/"
        },
        "id": "sFl5yAlx0XQh",
        "outputId": "b5da1b8a-3a46-483e-dfff-bcf212defdea"
      },
      "execution_count": null,
      "outputs": [
        {
          "output_type": "stream",
          "name": "stdout",
          "text": [
            "0.12507666666666667\n"
          ]
        }
      ]
    },
    {
      "cell_type": "code",
      "source": [
        "#B = {выпало четное число гербов}\n",
        "p2 = cases_[(cases_['Coin1']==1) & (cases_['Coin2']==1) & (cases_['Coin3']==0)]\n",
        "p3 = cases_[(cases_['Coin1']==0) & (cases_['Coin2']==1) & (cases_['Coin3']==1)]\n",
        "p4 = cases_[(cases_['Coin1']==1) & (cases_['Coin2']==0) & (cases_['Coin3']==1)]\n",
        "p_total = len(p2)+len(p3)+len(p4)\n",
        "pp = p_total/N \n",
        "print (pp)"
      ],
      "metadata": {
        "colab": {
          "base_uri": "https://localhost:8080/"
        },
        "id": "_BAV0uTG0c6J",
        "outputId": "4e5f0d1b-5ca6-41fa-c0a5-b8c03207f663"
      },
      "execution_count": null,
      "outputs": [
        {
          "output_type": "stream",
          "name": "stdout",
          "text": [
            "0.3753444444444444\n"
          ]
        }
      ]
    },
    {
      "cell_type": "code",
      "source": [
        "#C = {на третьей монете выпал герб}\n",
        "p5 = cases_[cases_['Coin3']==0]\n",
        "ppp = len(p5)/N \n",
        "print(ppp)"
      ],
      "metadata": {
        "colab": {
          "base_uri": "https://localhost:8080/"
        },
        "id": "GvTLrRIE0gBR",
        "outputId": "83fa5dc2-0f41-449c-ba48-c95961278b58"
      },
      "execution_count": null,
      "outputs": [
        {
          "output_type": "stream",
          "name": "stdout",
          "text": [
            "0.49971777777777776\n"
          ]
        }
      ]
    },
    {
      "cell_type": "code",
      "source": [
        "#Вероятность суммы событий\n",
        "#Задача 5\n",
        "#Брошены две игральные кости. Найти вероятность события D = {выпала хотя бы одна шестёрка}\n",
        "import random as random_number\n",
        "\n",
        "N = 100000\n",
        "M = 0\n",
        "for i in range(N):\n",
        "    six = 0\n",
        "    r1 = random_number.randint(1, 6)\n",
        "    if r1 == 6:\n",
        "        six += 1\n",
        "    r2 = random_number.randint(1, 6)\n",
        "    if r2 == 6:\n",
        "        six += 1\n",
        "    if six >= 1:\n",
        "        M += 1\n",
        "\n",
        "p = float(M)/N\n",
        "print (p)"
      ],
      "metadata": {
        "colab": {
          "base_uri": "https://localhost:8080/"
        },
        "id": "adzZoo0F0ikS",
        "outputId": "114d45d6-bd80-4f7a-ca28-b2222282e1d9"
      },
      "execution_count": null,
      "outputs": [
        {
          "output_type": "stream",
          "name": "stdout",
          "text": [
            "0.30619\n"
          ]
        }
      ]
    },
    {
      "cell_type": "code",
      "source": [
        "#Случайные величины\n",
        "#Задача 7\n",
        "#В лотерее имеется 10 билетов, из которых один выигрышный. Размер выигрыша 10 ден. ед.; стоимость билета 1 ден ед. Найти закон распределения случайной величины X, \n",
        "#равной чистому выигрышу участника лотереи, который вытаскивает билет первым.\n",
        "N = 10 \n",
        "N1 = 1 \n",
        "amount = 10\n",
        "price = 1\n",
        "v = [0, 9]\n",
        "\n",
        "proba_0 =  .1\n",
        "proba_1 = 1-proba_0\n",
        "probabilities = [proba_1, proba_0]"
      ],
      "metadata": {
        "id": "XU_XLsPW0pxQ"
      },
      "execution_count": 2,
      "outputs": []
    },
    {
      "cell_type": "code",
      "source": [
        "import numpy as np\n",
        "tickets = np.random.choice(v, N, p=probabilities)                      \n",
        "tickets"
      ],
      "metadata": {
        "colab": {
          "base_uri": "https://localhost:8080/"
        },
        "id": "rvP2clk_nIkn",
        "outputId": "474501fe-5c59-4307-e164-746911c47142"
      },
      "execution_count": 5,
      "outputs": [
        {
          "output_type": "execute_result",
          "data": {
            "text/plain": [
              "array([0, 0, 9, 0, 0, 9, 0, 0, 0, 0])"
            ]
          },
          "metadata": {},
          "execution_count": 5
        }
      ]
    },
    {
      "cell_type": "code",
      "source": [
        "total_tickets = list(map(lambda x: \n",
        "                np.random.choice(v, 1, p= probabilities)[0]\n",
        "                if x == tickets[0] \n",
        "                else np.random.choice(v, 1, p=probabilities)[0],\n",
        "                tickets))\n",
        "total_tickets"
      ],
      "metadata": {
        "colab": {
          "base_uri": "https://localhost:8080/"
        },
        "id": "XnAxyvbKolCI",
        "outputId": "3b7f7ed3-d15a-4964-b312-3995dbd534e5"
      },
      "execution_count": 6,
      "outputs": [
        {
          "output_type": "execute_result",
          "data": {
            "text/plain": [
              "[9, 0, 0, 9, 0, 0, 9, 0, 0, 0]"
            ]
          },
          "metadata": {},
          "execution_count": 6
        }
      ]
    },
    {
      "cell_type": "code",
      "source": [
        "import pandas as pd\n",
        "df = pd.DataFrame(columns = ['v', 'probabilities'])\n",
        "df['v'] = v\n",
        "df['probabilities'] = probabilities\n",
        "df"
      ],
      "metadata": {
        "colab": {
          "base_uri": "https://localhost:8080/",
          "height": 111
        },
        "id": "kw2Sslmko-B7",
        "outputId": "a2d50241-030a-4d6e-99e8-e3654e6cd2f4"
      },
      "execution_count": 8,
      "outputs": [
        {
          "output_type": "execute_result",
          "data": {
            "text/html": [
              "\n",
              "  <div id=\"df-4333d745-9363-4592-8a4b-34a711e2de5d\">\n",
              "    <div class=\"colab-df-container\">\n",
              "      <div>\n",
              "<style scoped>\n",
              "    .dataframe tbody tr th:only-of-type {\n",
              "        vertical-align: middle;\n",
              "    }\n",
              "\n",
              "    .dataframe tbody tr th {\n",
              "        vertical-align: top;\n",
              "    }\n",
              "\n",
              "    .dataframe thead th {\n",
              "        text-align: right;\n",
              "    }\n",
              "</style>\n",
              "<table border=\"1\" class=\"dataframe\">\n",
              "  <thead>\n",
              "    <tr style=\"text-align: right;\">\n",
              "      <th></th>\n",
              "      <th>v</th>\n",
              "      <th>probabilities</th>\n",
              "    </tr>\n",
              "  </thead>\n",
              "  <tbody>\n",
              "    <tr>\n",
              "      <th>0</th>\n",
              "      <td>0</td>\n",
              "      <td>0.9</td>\n",
              "    </tr>\n",
              "    <tr>\n",
              "      <th>1</th>\n",
              "      <td>9</td>\n",
              "      <td>0.1</td>\n",
              "    </tr>\n",
              "  </tbody>\n",
              "</table>\n",
              "</div>\n",
              "      <button class=\"colab-df-convert\" onclick=\"convertToInteractive('df-4333d745-9363-4592-8a4b-34a711e2de5d')\"\n",
              "              title=\"Convert this dataframe to an interactive table.\"\n",
              "              style=\"display:none;\">\n",
              "        \n",
              "  <svg xmlns=\"http://www.w3.org/2000/svg\" height=\"24px\"viewBox=\"0 0 24 24\"\n",
              "       width=\"24px\">\n",
              "    <path d=\"M0 0h24v24H0V0z\" fill=\"none\"/>\n",
              "    <path d=\"M18.56 5.44l.94 2.06.94-2.06 2.06-.94-2.06-.94-.94-2.06-.94 2.06-2.06.94zm-11 1L8.5 8.5l.94-2.06 2.06-.94-2.06-.94L8.5 2.5l-.94 2.06-2.06.94zm10 10l.94 2.06.94-2.06 2.06-.94-2.06-.94-.94-2.06-.94 2.06-2.06.94z\"/><path d=\"M17.41 7.96l-1.37-1.37c-.4-.4-.92-.59-1.43-.59-.52 0-1.04.2-1.43.59L10.3 9.45l-7.72 7.72c-.78.78-.78 2.05 0 2.83L4 21.41c.39.39.9.59 1.41.59.51 0 1.02-.2 1.41-.59l7.78-7.78 2.81-2.81c.8-.78.8-2.07 0-2.86zM5.41 20L4 18.59l7.72-7.72 1.47 1.35L5.41 20z\"/>\n",
              "  </svg>\n",
              "      </button>\n",
              "      \n",
              "  <style>\n",
              "    .colab-df-container {\n",
              "      display:flex;\n",
              "      flex-wrap:wrap;\n",
              "      gap: 12px;\n",
              "    }\n",
              "\n",
              "    .colab-df-convert {\n",
              "      background-color: #E8F0FE;\n",
              "      border: none;\n",
              "      border-radius: 50%;\n",
              "      cursor: pointer;\n",
              "      display: none;\n",
              "      fill: #1967D2;\n",
              "      height: 32px;\n",
              "      padding: 0 0 0 0;\n",
              "      width: 32px;\n",
              "    }\n",
              "\n",
              "    .colab-df-convert:hover {\n",
              "      background-color: #E2EBFA;\n",
              "      box-shadow: 0px 1px 2px rgba(60, 64, 67, 0.3), 0px 1px 3px 1px rgba(60, 64, 67, 0.15);\n",
              "      fill: #174EA6;\n",
              "    }\n",
              "\n",
              "    [theme=dark] .colab-df-convert {\n",
              "      background-color: #3B4455;\n",
              "      fill: #D2E3FC;\n",
              "    }\n",
              "\n",
              "    [theme=dark] .colab-df-convert:hover {\n",
              "      background-color: #434B5C;\n",
              "      box-shadow: 0px 1px 3px 1px rgba(0, 0, 0, 0.15);\n",
              "      filter: drop-shadow(0px 1px 2px rgba(0, 0, 0, 0.3));\n",
              "      fill: #FFFFFF;\n",
              "    }\n",
              "  </style>\n",
              "\n",
              "      <script>\n",
              "        const buttonEl =\n",
              "          document.querySelector('#df-4333d745-9363-4592-8a4b-34a711e2de5d button.colab-df-convert');\n",
              "        buttonEl.style.display =\n",
              "          google.colab.kernel.accessAllowed ? 'block' : 'none';\n",
              "\n",
              "        async function convertToInteractive(key) {\n",
              "          const element = document.querySelector('#df-4333d745-9363-4592-8a4b-34a711e2de5d');\n",
              "          const dataTable =\n",
              "            await google.colab.kernel.invokeFunction('convertToInteractive',\n",
              "                                                     [key], {});\n",
              "          if (!dataTable) return;\n",
              "\n",
              "          const docLinkHtml = 'Like what you see? Visit the ' +\n",
              "            '<a target=\"_blank\" href=https://colab.research.google.com/notebooks/data_table.ipynb>data table notebook</a>'\n",
              "            + ' to learn more about interactive tables.';\n",
              "          element.innerHTML = '';\n",
              "          dataTable['output_type'] = 'display_data';\n",
              "          await google.colab.output.renderOutput(dataTable, element);\n",
              "          const docLink = document.createElement('div');\n",
              "          docLink.innerHTML = docLinkHtml;\n",
              "          element.appendChild(docLink);\n",
              "        }\n",
              "      </script>\n",
              "    </div>\n",
              "  </div>\n",
              "  "
            ],
            "text/plain": [
              "   v  probabilities\n",
              "0  0            0.9\n",
              "1  9            0.1"
            ]
          },
          "metadata": {},
          "execution_count": 8
        }
      ]
    },
    {
      "cell_type": "code",
      "source": [
        "#Условные вероятности\n",
        "#Задача 9\n",
        "#Из колоды (36 карт) вынимают последовательно без возвращения две карты. \n",
        "#Найти вероятность того, что первой картой была шестерка, а второй — семерка. Найти условную вероятность того же события при условии, что обе карты бубновой масти.\n",
        "values = np.array(['6diamond','7diamond', '8diamond','9diamond','10diamond','Vdiamond','Ddiamond','Kdiamond','Tdiamond','6spade','7spade','8spade','9spade','10spade','Vspade','Dspade','Kspade','Tspade','6club','7club','8club','9club','10club','Vclub','Dclub','Kclub','Tclub','6heart','7heart','8heart','9heart','10heart','Vheart','Dheart','Kheart','Theart'])\n",
        "card1 = np.random.choice(values, 100000)\n",
        "card2 = np.random.choice(values, 100000)\n",
        "\n",
        "df = pd.DataFrame(zip(card1,card2), columns = ['card1','card2'])"
      ],
      "metadata": {
        "id": "I7YeVJ8B00B2"
      },
      "execution_count": 10,
      "outputs": []
    },
    {
      "cell_type": "code",
      "source": [
        "#Найти вероятность того, что первой картой была шестерка, а второй — семерка. \n",
        "p1 = len(df.query('card1==\"6diamond\" | card1==\"6spade\" | card1==\"6club\" | card1==\"6heart\"'))/len(df)\n",
        "p2 = len(df.query('card2==\"7diamond\" | card2==\"7spade\" | card2==\"7club\" | card2==\"7heart\"'))/(len(df)-1)\n",
        "p = p1*p2\n",
        "p"
      ],
      "metadata": {
        "colab": {
          "base_uri": "https://localhost:8080/"
        },
        "id": "PWenQt6Qr9wS",
        "outputId": "85f05c96-ef92-40cc-f893-386473c4a233"
      },
      "execution_count": 11,
      "outputs": [
        {
          "output_type": "execute_result",
          "data": {
            "text/plain": [
              "0.01245060570605706"
            ]
          },
          "metadata": {},
          "execution_count": 11
        }
      ]
    },
    {
      "cell_type": "code",
      "source": [
        "#Найти условную вероятность того же события при условии, что обе карты бубновой масти.\n",
        "p3 = len(df.query('card1==\"6diamond\" ')) / len(df)\n",
        "p4 = len(df.query('card2==\"7diamond\"')) / (len(df)-1)\n",
        "p5 = p3*p4\n",
        "p5"
      ],
      "metadata": {
        "colab": {
          "base_uri": "https://localhost:8080/"
        },
        "id": "FFCv9UEyslWO",
        "outputId": "60a77df8-ba79-4257-b7e3-e674e92cf2eb"
      },
      "execution_count": 12,
      "outputs": [
        {
          "output_type": "execute_result",
          "data": {
            "text/plain": [
              "0.0007648010480104801"
            ]
          },
          "metadata": {},
          "execution_count": 12
        }
      ]
    }
  ]
}