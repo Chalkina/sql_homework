{
  "nbformat": 4,
  "nbformat_minor": 0,
  "metadata": {
    "colab": {
      "name": "Untitled3.ipynb",
      "provenance": [],
      "authorship_tag": "ABX9TyOjwP6E7B3fzrCKWWl/MSku",
      "include_colab_link": true
    },
    "kernelspec": {
      "name": "python3",
      "display_name": "Python 3"
    },
    "language_info": {
      "name": "python"
    }
  },
  "cells": [
    {
      "cell_type": "markdown",
      "metadata": {
        "id": "view-in-github",
        "colab_type": "text"
      },
      "source": [
        "<a href=\"https://colab.research.google.com/github/Chalkina/sql_homework/blob/main/v2_1%2C2%2C5%2C7%2C9_%D0%A2%D0%B5%D0%BE%D1%80%D0%B8%D1%8F%20%D0%B2%D0%B5%D1%80%D0%BE%D1%8F%D1%82%D0%BD%D0%BE%D1%81%D1%82%D0%B8.ipynb\" target=\"_parent\"><img src=\"https://colab.research.google.com/assets/colab-badge.svg\" alt=\"Open In Colab\"/></a>"
      ]
    },
    {
      "cell_type": "code",
      "execution_count": null,
      "metadata": {
        "colab": {
          "base_uri": "https://localhost:8080/"
        },
        "id": "_OoLp9En0F6W",
        "outputId": "4deec783-ac13-4f6e-d7a7-be454ba96c19"
      },
      "outputs": [
        {
          "output_type": "stream",
          "name": "stdout",
          "text": [
            "0.5\n"
          ]
        }
      ],
      "source": [
        "#Определение вероятности. События\n",
        "#Требуется сгенерировать необходимые выборки и произвести по ним расчеты\n",
        "#Задача 1\n",
        "#Брошено две монеты. Найти вероятность того, что монеты выпали разными сторонами\n",
        "import random\n",
        "orel1 = 0\n",
        "resh1 = 0\n",
        "orel2 = 0\n",
        "resh2 = 0\n",
        "i = 0\n",
        "while i<100000:\n",
        "    i += 1\n",
        "    coin = random.randint(1,4)\n",
        "    if coin == 1:\n",
        "        orel1 += 1\n",
        "    if coin == 2:\n",
        "        resh1 += 1\n",
        "    if coin == 3:\n",
        "        orel2 += 1\n",
        "    if coin == 4:\n",
        "        resh2 += 1   \n",
        "p1 = float (resh1+orel2)/100000\n",
        "p2 = float (orel1+resh2)/100000\n",
        "p3 = float (p1+p2)/2\n",
        "print (p3)"
      ]
    },
    {
      "cell_type": "code",
      "source": [
        "#Вариант преподавателя\n",
        "import pandas as pd\n",
        "import numpy as np\n",
        "N = 900000\n",
        "c1 = np.random.randint(0,2,size=N)\n",
        "c2 = np.random.randint(0,2,size=N)\n",
        "cases = pd.DataFrame(zip(c1,c2), columns=['Coin1','Coin2'])\n",
        "p = cases[cases['Coin1'] !=cases['Coin2']].shape[0]/N\n",
        "print (p)"
      ],
      "metadata": {
        "colab": {
          "base_uri": "https://localhost:8080/"
        },
        "id": "J_ZpDHsi0O07",
        "outputId": "9830aa8e-1892-470b-e230-10a28678cd6c"
      },
      "execution_count": null,
      "outputs": [
        {
          "output_type": "stream",
          "name": "stdout",
          "text": [
            "0.5007377777777777\n"
          ]
        }
      ]
    },
    {
      "cell_type": "code",
      "source": [
        "#Задача 2 Брошено три монеты. Описать множество всех элементарных событий. Найти вероятности следующих событий:\n",
        "#A = {не выпало ни одного герба}\n",
        "#B = {выпало четное число гербов}\n",
        "#C = {на третьей монете выпал герб}\n",
        "import pandas as pd\n",
        "import numpy as np\n",
        "N = 900000\n",
        "c1 = np.random.randint(0,2,size=N)\n",
        "c2 = np.random.randint(0,2,size=N)\n",
        "c3 = np.random.randint(0,2,size=N)\n",
        "cases_ = pd.DataFrame(zip(c1,c2,c3), columns=['Coin1','Coin2','Coin3'])\n",
        "print (cases_)"
      ],
      "metadata": {
        "colab": {
          "base_uri": "https://localhost:8080/"
        },
        "id": "Pri6AmiR0TWi",
        "outputId": "cbd61bf9-7b21-4df2-e1e5-6a23ba0636d1"
      },
      "execution_count": null,
      "outputs": [
        {
          "output_type": "stream",
          "name": "stdout",
          "text": [
            "        Coin1  Coin2  Coin3\n",
            "0           1      1      0\n",
            "1           0      1      1\n",
            "2           0      1      0\n",
            "3           1      0      1\n",
            "4           0      1      1\n",
            "...       ...    ...    ...\n",
            "899995      0      0      0\n",
            "899996      0      1      1\n",
            "899997      0      0      1\n",
            "899998      1      0      0\n",
            "899999      1      0      0\n",
            "\n",
            "[900000 rows x 3 columns]\n"
          ]
        }
      ]
    },
    {
      "cell_type": "code",
      "source": [
        "#Описать множество всех элементарных событий\n",
        "row_list=[]\n",
        "for i in range((cases_.shape[0])):\n",
        "  row_list.append(list(cases_.iloc[i, :]))"
      ],
      "metadata": {
        "id": "8wy37hgf2A-q"
      },
      "execution_count": null,
      "outputs": []
    },
    {
      "cell_type": "code",
      "source": [
        "#A = {не выпало ни одного герба}\n",
        "p_ = cases_[(cases_['Coin1']==1) & (cases_['Coin2']==1) & (cases_['Coin3']==1)]\n",
        "p__ = len(p_)/N\n",
        "print (p__)"
      ],
      "metadata": {
        "colab": {
          "base_uri": "https://localhost:8080/"
        },
        "id": "sFl5yAlx0XQh",
        "outputId": "b5da1b8a-3a46-483e-dfff-bcf212defdea"
      },
      "execution_count": null,
      "outputs": [
        {
          "output_type": "stream",
          "name": "stdout",
          "text": [
            "0.12507666666666667\n"
          ]
        }
      ]
    },
    {
      "cell_type": "code",
      "source": [
        "#B = {выпало четное число гербов}\n",
        "p2 = cases_[(cases_['Coin1']==1) & (cases_['Coin2']==1) & (cases_['Coin3']==0)]\n",
        "p3 = cases_[(cases_['Coin1']==0) & (cases_['Coin2']==1) & (cases_['Coin3']==1)]\n",
        "p4 = cases_[(cases_['Coin1']==1) & (cases_['Coin2']==0) & (cases_['Coin3']==1)]\n",
        "p_total = len(p2)+len(p3)+len(p4)\n",
        "pp = p_total/N \n",
        "print (pp)"
      ],
      "metadata": {
        "colab": {
          "base_uri": "https://localhost:8080/"
        },
        "id": "_BAV0uTG0c6J",
        "outputId": "4e5f0d1b-5ca6-41fa-c0a5-b8c03207f663"
      },
      "execution_count": null,
      "outputs": [
        {
          "output_type": "stream",
          "name": "stdout",
          "text": [
            "0.3753444444444444\n"
          ]
        }
      ]
    },
    {
      "cell_type": "code",
      "source": [
        "#C = {на третьей монете выпал герб}\n",
        "p5 = cases_[cases_['Coin3']==0]\n",
        "ppp = len(p5)/N \n",
        "print(ppp)"
      ],
      "metadata": {
        "colab": {
          "base_uri": "https://localhost:8080/"
        },
        "id": "GvTLrRIE0gBR",
        "outputId": "83fa5dc2-0f41-449c-ba48-c95961278b58"
      },
      "execution_count": null,
      "outputs": [
        {
          "output_type": "stream",
          "name": "stdout",
          "text": [
            "0.49971777777777776\n"
          ]
        }
      ]
    },
    {
      "cell_type": "code",
      "source": [
        "#Вероятность суммы событий\n",
        "#Задача 5\n",
        "#Брошены две игральные кости. Найти вероятность события D = {выпала хотя бы одна шестёрка}\n",
        "import random as random_number\n",
        "\n",
        "N = 100000\n",
        "M = 0\n",
        "for i in range(N):\n",
        "    six = 0\n",
        "    r1 = random_number.randint(1, 6)\n",
        "    if r1 == 6:\n",
        "        six += 1\n",
        "    r2 = random_number.randint(1, 6)\n",
        "    if r2 == 6:\n",
        "        six += 1\n",
        "    if six >= 1:\n",
        "        M += 1\n",
        "\n",
        "p = float(M)/N\n",
        "print (p)"
      ],
      "metadata": {
        "colab": {
          "base_uri": "https://localhost:8080/"
        },
        "id": "adzZoo0F0ikS",
        "outputId": "114d45d6-bd80-4f7a-ca28-b2222282e1d9"
      },
      "execution_count": null,
      "outputs": [
        {
          "output_type": "stream",
          "name": "stdout",
          "text": [
            "0.30619\n"
          ]
        }
      ]
    },
    {
      "cell_type": "code",
      "source": [
        "#Случайные величины\n",
        "#Задача 7\n",
        "#В лотерее имеется 10 билетов, из которых один выигрышный. Размер выигрыша 10 ден. ед.; стоимость билета 1 ден ед. Найти закон распределения случайной величины X, \n",
        "#равной чистому выигрышу участника лотереи, который вытаскивает билет первым.\n",
        "import pandas as pd\n",
        "import numpy as np\n",
        "size = 10\n",
        "proba_0 = 0.8\n",
        "t1 = np.random.choice([0,1], size=size,p=[proba_0, 1-proba_0])\n",
        "t2 = np.random.choice([0,1],size=size,p=[proba_0, 1-proba_0])\n",
        "t3 = np.random.choice([0,1],size=size,p=[proba_0, 1-proba_0])\n",
        "t4 = np.random.choice([0,1],size=size,p=[proba_0, 1-proba_0])\n",
        "t5 = np.random.choice([0,1],size=size,p=[proba_0, 1-proba_0])\n",
        "t6 = np.random.choice([0,1],size=size,p=[proba_0, 1-proba_0])\n",
        "t7 = np.random.choice([0,1],size=size,p=[proba_0, 1-proba_0])\n",
        "t8 = np.random.choice([0,1],size=size,p=[proba_0, 1-proba_0])\n",
        "t9 = np.random.choice([0,1],size=size,p=[proba_0, 1-proba_0])\n",
        "t10 = np.random.choice([0,1],size=size,p=[proba_0, 1-proba_0])\n",
        "tickets = pd.DataFrame(zip(t1,t2,t3,t4,t5,t6,t7,t8,t9,t10), columns=['Ticket1','Ticket2','Ticket13','Ticket4','Ticket5','Ticket6','Ticket7','Ticket8','Ticket9','Ticket10'])\n",
        "print (tickets)"
      ],
      "metadata": {
        "colab": {
          "base_uri": "https://localhost:8080/"
        },
        "id": "XU_XLsPW0pxQ",
        "outputId": "467e8d2d-933c-4ff0-86c5-b399e52c6713"
      },
      "execution_count": null,
      "outputs": [
        {
          "output_type": "stream",
          "name": "stdout",
          "text": [
            "   Ticket1  Ticket2  Ticket13  Ticket4  ...  Ticket7  Ticket8  Ticket9  Ticket10\n",
            "0        0        0         0        0  ...        0        1        0         0\n",
            "1        0        1         1        0  ...        0        0        0         0\n",
            "2        0        1         0        1  ...        0        0        0         0\n",
            "3        0        0         0        0  ...        0        0        1         1\n",
            "4        0        1         0        0  ...        0        0        0         0\n",
            "5        0        1         0        1  ...        0        0        0         0\n",
            "6        0        0         1        0  ...        0        0        0         0\n",
            "7        0        0         0        1  ...        0        0        1         0\n",
            "8        1        1         1        0  ...        0        1        0         0\n",
            "9        0        1         0        0  ...        1        1        0         1\n",
            "\n",
            "[10 rows x 10 columns]\n"
          ]
        }
      ]
    },
    {
      "cell_type": "code",
      "source": [
        "#Условные вероятности\n",
        "#Задача 9\n",
        "#Из колоды (36 карт) вынимают последовательно без возвращения две карты. \n",
        "#Найти вероятность того, что первой картой была шестерка, а второй — семерка. Найти условную вероятность того же события при условии, что обе карты бубновой масти.\n",
        "import random\n",
        "\n",
        "suits = [\"spade\", \"club\", \"heart\", \"diamond\"]\n",
        "faces = [\"6\", \"7\", \"8\", \"9\", \"10\", \"J\", \"Q\", \"K\", \"A\"]\n",
        "\n",
        "cards = []\n",
        "for suit in suits:\n",
        "    for face in faces:\n",
        "        cards.append((suit, face))\n",
        "        cards_new = random.shuffle(cards)"
      ],
      "metadata": {
        "id": "I7YeVJ8B00B2"
      },
      "execution_count": 19,
      "outputs": []
    },
    {
      "cell_type": "code",
      "source": [
        "print(cards)"
      ],
      "metadata": {
        "colab": {
          "base_uri": "https://localhost:8080/"
        },
        "id": "lq_MuhC3MrKS",
        "outputId": "71f35333-800b-46d5-9cc1-4c97ef4d02d5"
      },
      "execution_count": 7,
      "outputs": [
        {
          "output_type": "stream",
          "name": "stdout",
          "text": [
            "[('club', '10'), ('spade', 'K'), ('heart', 'A'), ('spade', '10'), ('heart', '9'), ('spade', '7'), ('heart', 'J'), ('diamond', '6'), ('spade', 'J'), ('club', 'K'), ('diamond', 'K'), ('diamond', 'Q'), ('diamond', 'J'), ('club', 'J'), ('diamond', '7'), ('spade', '8'), ('club', 'Q'), ('club', '9'), ('heart', '6'), ('heart', '10'), ('heart', '8'), ('spade', '6'), ('heart', '7'), ('club', '7'), ('heart', 'K'), ('spade', 'A'), ('diamond', '9'), ('club', '6'), ('spade', '9'), ('diamond', '8'), ('spade', 'Q'), ('club', 'A'), ('diamond', '10'), ('heart', 'Q'), ('diamond', 'A'), ('club', '8')]\n"
          ]
        }
      ]
    },
    {
      "cell_type": "code",
      "source": [
        "#Вариант1 - вынимают последовательно без возвращения две карты\n",
        "import random as random_number\n",
        "def draw_cards(cards):\n",
        "    index = random_number.randint(0, len(cards)-1)\n",
        "    (suit, face) = cards.pop(index)\n",
        "    return (suit, face), cards\n",
        "\n",
        "cardss = []\n",
        "for i in range(2):  # n - число карт\n",
        "    (suit, face), cards = draw_cards(cards)\n",
        "    cards.append(suit)\n",
        "print ('Got the cards', cards)"
      ],
      "metadata": {
        "colab": {
          "base_uri": "https://localhost:8080/"
        },
        "id": "67d1vsqId6aj",
        "outputId": "2303ca84-118c-4215-db85-dd70be9d50df"
      },
      "execution_count": 33,
      "outputs": [
        {
          "output_type": "stream",
          "name": "stdout",
          "text": [
            "Got the cards [('club', '9'), ('diamond', '8'), ('diamond', '7'), ('club', 'K'), ('spade', '9'), ('club', 'A'), ('spade', '10'), ('spade', 'J'), ('club', 'J'), ('spade', 'A'), ('club', '6'), ('heart', '6'), ('diamond', '10'), ('diamond', '6'), ('diamond', 'K'), ('diamond', 'Q'), ('diamond', 'J'), ('heart', '10'), ('club', '8'), ('heart', 'Q'), ('heart', 'K'), ('spade', '8'), ('diamond', '9'), ('heart', '7'), ('heart', 'J'), ('club', '10'), ('diamond', 'A'), ('heart', '8'), ('heart', 'A'), ('spade', '6'), ('club', 'Q'), ('spade', '7'), ('spade', 'K'), ('spade', 'Q'), 'club', 'heart']\n"
          ]
        }
      ]
    },
    {
      "cell_type": "code",
      "source": [
        "#Вариант2 - вынимают последовательно без возвращения две карты\n",
        "import random\n",
        "sd1 = random.sample(cards,2)\n",
        "sd2 = random.sample(cards,2)\n",
        "sd3 = random.sample(cards,2)\n",
        "sd4 = random.sample(cards,2)\n",
        "sd5 = random.sample(cards,2)\n",
        "sd6 = random.sample(cards,2)\n",
        "sd7 = random.sample(cards,2)\n",
        "sd8 = random.sample(cards,2)\n",
        "sd9 = random.sample(cards,2)\n",
        "sd10 = random.sample(cards,2)\n",
        "sd11 = random.sample(cards,2)\n",
        "sd12 = random.sample(cards,2)\n",
        "sd13 = random.sample(cards,2)\n",
        "sd14 = random.sample(cards,2)\n",
        "sd15 = random.sample(cards,2)\n",
        "sd16 = random.sample(cards,2)\n",
        "sd17 = random.sample(cards,2)\n",
        "sd18 = random.sample(cards,2)\n",
        "print(sd1,sd2,sd3,sd4,sd5,sd6,sd7,sd8,sd9,sd10,sd11,sd12,sd13,sd14,sd15,sd16,sd17,sd18)"
      ],
      "metadata": {
        "colab": {
          "base_uri": "https://localhost:8080/"
        },
        "id": "v3UHwnR-PxDc",
        "outputId": "24b6b20e-7c95-4cd2-b9eb-5341c2a0000f"
      },
      "execution_count": 24,
      "outputs": [
        {
          "output_type": "stream",
          "name": "stdout",
          "text": [
            "[('diamond', '7'), ('diamond', '8')] [('diamond', '9'), ('heart', '9')] [('spade', '8'), ('heart', 'A')] [('diamond', '8'), ('diamond', 'A')] [('spade', 'Q'), ('spade', '9')] [('spade', 'Q'), ('diamond', 'K')] [('spade', '6'), ('heart', 'A')] [('heart', '6'), ('spade', 'A')] [('heart', 'A'), ('diamond', 'K')] [('club', 'A'), ('club', 'Q')] [('heart', 'K'), ('diamond', '9')] [('club', '10'), ('heart', 'Q')] [('heart', '10'), ('heart', '7')] [('spade', '7'), ('heart', 'K')] [('spade', 'J'), ('heart', '8')] [('spade', 'A'), ('club', '8')] [('diamond', '10'), ('heart', '9')] [('spade', 'Q'), ('spade', '9')]\n"
          ]
        }
      ]
    },
    {
      "cell_type": "code",
      "source": [
        "import pandas as pd\n",
        "sd_total = pd.DataFrame(zip(sd1,sd2,sd3,sd4,sd5,sd6,sd7,sd8,sd9,sd10,sd11,sd12,sd13,sd14,sd15,sd16,sd17,sd18), columns=['sd1','sd2','sd3','sd4','sd5','sd6','sd7','sd8','sd9','sd10','sd11','sd12','sd13','sd14','sd15','sd16','sd17','sd18'])\n",
        "print (sd_total)"
      ],
      "metadata": {
        "colab": {
          "base_uri": "https://localhost:8080/"
        },
        "id": "1y0jyRQBaIMD",
        "outputId": "f8a63dab-a69d-4929-8bdb-d3fa46ad1c88"
      },
      "execution_count": 26,
      "outputs": [
        {
          "output_type": "stream",
          "name": "stdout",
          "text": [
            "            sd1           sd2  ...           sd17        sd18\n",
            "0  (diamond, 7)  (diamond, 9)  ...  (diamond, 10)  (spade, Q)\n",
            "1  (diamond, 8)    (heart, 9)  ...     (heart, 9)  (spade, 9)\n",
            "\n",
            "[2 rows x 18 columns]\n"
          ]
        }
      ]
    },
    {
      "cell_type": "code",
      "source": [
        "N = 1000\n",
        "M = 0\n",
        "for e in range(N):\n",
        "    cards = new_cards()\n",
        "    cardss = []\n",
        "    for i in range(1):\n",
        "        (suit, face), cards = draw_cards(cards)\n",
        "        cardss.append((suit, face))\n",
        "    if cards.count('('club', '6')') >= 1:\n",
        "        M += 1 \n",
        "print 'Probability:', float(M)/N"
      ],
      "metadata": {
        "colab": {
          "base_uri": "https://localhost:8080/",
          "height": 130
        },
        "id": "49pUpuI1mNNe",
        "outputId": "d03b00e5-61f9-4a71-a531-d79788584707"
      },
      "execution_count": 42,
      "outputs": [
        {
          "output_type": "error",
          "ename": "SyntaxError",
          "evalue": "ignored",
          "traceback": [
            "\u001b[0;36m  File \u001b[0;32m\"<ipython-input-42-1390daaa7ccd>\"\u001b[0;36m, line \u001b[0;32m9\u001b[0m\n\u001b[0;31m    if cards.count('('club', '6')') >= 1:\u001b[0m\n\u001b[0m                         ^\u001b[0m\n\u001b[0;31mSyntaxError\u001b[0m\u001b[0;31m:\u001b[0m invalid syntax\n"
          ]
        }
      ]
    },
    {
      "cell_type": "code",
      "source": [
        "N = 36\n",
        "p2 = sd_total[(sd_total['sd1']==(diamond, 7)) | (sd_total['sd1']==(heart, 6)) | (sd_total['sd1']==(spade, 6)) | (sd_total['sd1']==(club, 6))]\n",
        "pp = p2/N \n",
        "print (pp)"
      ],
      "metadata": {
        "colab": {
          "base_uri": "https://localhost:8080/",
          "height": 215
        },
        "id": "y5oFNaUjpWDB",
        "outputId": "3190ce9c-bb1a-42f3-b700-87f735dd038f"
      },
      "execution_count": 41,
      "outputs": [
        {
          "output_type": "error",
          "ename": "NameError",
          "evalue": "ignored",
          "traceback": [
            "\u001b[0;31m---------------------------------------------------------------------------\u001b[0m",
            "\u001b[0;31mNameError\u001b[0m                                 Traceback (most recent call last)",
            "\u001b[0;32m<ipython-input-41-fe4b9424d623>\u001b[0m in \u001b[0;36m<module>\u001b[0;34m()\u001b[0m\n\u001b[1;32m      1\u001b[0m \u001b[0mN\u001b[0m \u001b[0;34m=\u001b[0m \u001b[0;36m36\u001b[0m\u001b[0;34m\u001b[0m\u001b[0;34m\u001b[0m\u001b[0m\n\u001b[0;32m----> 2\u001b[0;31m \u001b[0mp2\u001b[0m \u001b[0;34m=\u001b[0m \u001b[0msd_total\u001b[0m\u001b[0;34m[\u001b[0m\u001b[0;34m(\u001b[0m\u001b[0msd_total\u001b[0m\u001b[0;34m[\u001b[0m\u001b[0;34m'sd1'\u001b[0m\u001b[0;34m]\u001b[0m\u001b[0;34m==\u001b[0m\u001b[0;34m(\u001b[0m\u001b[0mdiamond\u001b[0m\u001b[0;34m,\u001b[0m \u001b[0;36m7\u001b[0m\u001b[0;34m)\u001b[0m\u001b[0;34m)\u001b[0m \u001b[0;34m|\u001b[0m \u001b[0;34m(\u001b[0m\u001b[0msd_total\u001b[0m\u001b[0;34m[\u001b[0m\u001b[0;34m'sd1'\u001b[0m\u001b[0;34m]\u001b[0m\u001b[0;34m==\u001b[0m\u001b[0;34m(\u001b[0m\u001b[0mheart\u001b[0m\u001b[0;34m,\u001b[0m \u001b[0;36m6\u001b[0m\u001b[0;34m)\u001b[0m\u001b[0;34m)\u001b[0m \u001b[0;34m|\u001b[0m \u001b[0;34m(\u001b[0m\u001b[0msd_total\u001b[0m\u001b[0;34m[\u001b[0m\u001b[0;34m'sd1'\u001b[0m\u001b[0;34m]\u001b[0m\u001b[0;34m==\u001b[0m\u001b[0;34m(\u001b[0m\u001b[0mspade\u001b[0m\u001b[0;34m,\u001b[0m \u001b[0;36m6\u001b[0m\u001b[0;34m)\u001b[0m\u001b[0;34m)\u001b[0m \u001b[0;34m|\u001b[0m \u001b[0;34m(\u001b[0m\u001b[0msd_total\u001b[0m\u001b[0;34m[\u001b[0m\u001b[0;34m'sd1'\u001b[0m\u001b[0;34m]\u001b[0m\u001b[0;34m==\u001b[0m\u001b[0;34m(\u001b[0m\u001b[0mclub\u001b[0m\u001b[0;34m,\u001b[0m \u001b[0;36m6\u001b[0m\u001b[0;34m)\u001b[0m\u001b[0;34m)\u001b[0m\u001b[0;34m]\u001b[0m\u001b[0;34m\u001b[0m\u001b[0;34m\u001b[0m\u001b[0m\n\u001b[0m\u001b[1;32m      3\u001b[0m \u001b[0mpp\u001b[0m \u001b[0;34m=\u001b[0m \u001b[0mp2\u001b[0m\u001b[0;34m/\u001b[0m\u001b[0mN\u001b[0m\u001b[0;34m\u001b[0m\u001b[0;34m\u001b[0m\u001b[0m\n\u001b[1;32m      4\u001b[0m \u001b[0mprint\u001b[0m \u001b[0;34m(\u001b[0m\u001b[0mpp\u001b[0m\u001b[0;34m)\u001b[0m\u001b[0;34m\u001b[0m\u001b[0;34m\u001b[0m\u001b[0m\n",
            "\u001b[0;31mNameError\u001b[0m: name 'diamond' is not defined"
          ]
        }
      ]
    }
  ]
}