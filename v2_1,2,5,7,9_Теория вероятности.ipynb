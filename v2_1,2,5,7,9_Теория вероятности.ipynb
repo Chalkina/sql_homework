{
  "nbformat": 4,
  "nbformat_minor": 0,
  "metadata": {
    "colab": {
      "name": "Untitled3.ipynb",
      "provenance": [],
      "authorship_tag": "ABX9TyNoK1WL1KrcRtnA9FoQnsn1",
      "include_colab_link": true
    },
    "kernelspec": {
      "name": "python3",
      "display_name": "Python 3"
    },
    "language_info": {
      "name": "python"
    }
  },
  "cells": [
    {
      "cell_type": "markdown",
      "metadata": {
        "id": "view-in-github",
        "colab_type": "text"
      },
      "source": [
        "<a href=\"https://colab.research.google.com/github/Chalkina/sql_homework/blob/main/v2_1%2C2%2C5%2C7%2C9_%D0%A2%D0%B5%D0%BE%D1%80%D0%B8%D1%8F%20%D0%B2%D0%B5%D1%80%D0%BE%D1%8F%D1%82%D0%BD%D0%BE%D1%81%D1%82%D0%B8.ipynb\" target=\"_parent\"><img src=\"https://colab.research.google.com/assets/colab-badge.svg\" alt=\"Open In Colab\"/></a>"
      ]
    },
    {
      "cell_type": "code",
      "execution_count": null,
      "metadata": {
        "colab": {
          "base_uri": "https://localhost:8080/"
        },
        "id": "_OoLp9En0F6W",
        "outputId": "4deec783-ac13-4f6e-d7a7-be454ba96c19"
      },
      "outputs": [
        {
          "output_type": "stream",
          "name": "stdout",
          "text": [
            "0.5\n"
          ]
        }
      ],
      "source": [
        "#Определение вероятности. События\n",
        "#Требуется сгенерировать необходимые выборки и произвести по ним расчеты\n",
        "#Задача 1\n",
        "#Брошено две монеты. Найти вероятность того, что монеты выпали разными сторонами\n",
        "import random\n",
        "orel1 = 0\n",
        "resh1 = 0\n",
        "orel2 = 0\n",
        "resh2 = 0\n",
        "i = 0\n",
        "while i<100000:\n",
        "    i += 1\n",
        "    coin = random.randint(1,4)\n",
        "    if coin == 1:\n",
        "        orel1 += 1\n",
        "    if coin == 2:\n",
        "        resh1 += 1\n",
        "    if coin == 3:\n",
        "        orel2 += 1\n",
        "    if coin == 4:\n",
        "        resh2 += 1   \n",
        "p1 = float (resh1+orel2)/100000\n",
        "p2 = float (orel1+resh2)/100000\n",
        "p3 = float (p1+p2)/2\n",
        "print (p3)"
      ]
    },
    {
      "cell_type": "code",
      "source": [
        "#Вариант преподавателя\n",
        "import pandas as pd\n",
        "import numpy as np\n",
        "N = 900000\n",
        "c1 = np.random.randint(0,2,size=N)\n",
        "c2 = np.random.randint(0,2,size=N)\n",
        "cases = pd.DataFrame(zip(c1,c2), columns=['Coin1','Coin2'])\n",
        "p = cases[cases['Coin1'] !=cases['Coin2']].shape[0]/N\n",
        "print (p)"
      ],
      "metadata": {
        "colab": {
          "base_uri": "https://localhost:8080/"
        },
        "id": "J_ZpDHsi0O07",
        "outputId": "9830aa8e-1892-470b-e230-10a28678cd6c"
      },
      "execution_count": null,
      "outputs": [
        {
          "output_type": "stream",
          "name": "stdout",
          "text": [
            "0.5007377777777777\n"
          ]
        }
      ]
    },
    {
      "cell_type": "code",
      "source": [
        "#Задача 2 Брошено три монеты. Описать множество всех элементарных событий. Найти вероятности следующих событий:\n",
        "#A = {не выпало ни одного герба}\n",
        "#B = {выпало четное число гербов}\n",
        "#C = {на третьей монете выпал герб}\n",
        "import pandas as pd\n",
        "import numpy as np\n",
        "N = 900000\n",
        "c1 = np.random.randint(0,2,size=N)\n",
        "c2 = np.random.randint(0,2,size=N)\n",
        "c3 = np.random.randint(0,2,size=N)\n",
        "cases_ = pd.DataFrame(zip(c1,c2,c3), columns=['Coin1','Coin2','Coin3'])\n",
        "print (cases_)"
      ],
      "metadata": {
        "colab": {
          "base_uri": "https://localhost:8080/"
        },
        "id": "Pri6AmiR0TWi",
        "outputId": "cbd61bf9-7b21-4df2-e1e5-6a23ba0636d1"
      },
      "execution_count": null,
      "outputs": [
        {
          "output_type": "stream",
          "name": "stdout",
          "text": [
            "        Coin1  Coin2  Coin3\n",
            "0           1      1      0\n",
            "1           0      1      1\n",
            "2           0      1      0\n",
            "3           1      0      1\n",
            "4           0      1      1\n",
            "...       ...    ...    ...\n",
            "899995      0      0      0\n",
            "899996      0      1      1\n",
            "899997      0      0      1\n",
            "899998      1      0      0\n",
            "899999      1      0      0\n",
            "\n",
            "[900000 rows x 3 columns]\n"
          ]
        }
      ]
    },
    {
      "cell_type": "code",
      "source": [
        "#Описать множество всех элементарных событий\n",
        "row_list=[]\n",
        "for i in range((cases_.shape[0])):\n",
        "  row_list.append(list(cases_.iloc[i, :]))"
      ],
      "metadata": {
        "id": "8wy37hgf2A-q"
      },
      "execution_count": null,
      "outputs": []
    },
    {
      "cell_type": "code",
      "source": [
        "#A = {не выпало ни одного герба}\n",
        "p_ = cases_[(cases_['Coin1']==1) & (cases_['Coin2']==1) & (cases_['Coin3']==1)]\n",
        "p__ = len(p_)/N\n",
        "print (p__)"
      ],
      "metadata": {
        "colab": {
          "base_uri": "https://localhost:8080/"
        },
        "id": "sFl5yAlx0XQh",
        "outputId": "b5da1b8a-3a46-483e-dfff-bcf212defdea"
      },
      "execution_count": null,
      "outputs": [
        {
          "output_type": "stream",
          "name": "stdout",
          "text": [
            "0.12507666666666667\n"
          ]
        }
      ]
    },
    {
      "cell_type": "code",
      "source": [
        "#B = {выпало четное число гербов}\n",
        "p2 = cases_[(cases_['Coin1']==1) & (cases_['Coin2']==1) & (cases_['Coin3']==0)]\n",
        "p3 = cases_[(cases_['Coin1']==0) & (cases_['Coin2']==1) & (cases_['Coin3']==1)]\n",
        "p4 = cases_[(cases_['Coin1']==1) & (cases_['Coin2']==0) & (cases_['Coin3']==1)]\n",
        "p_total = len(p2)+len(p3)+len(p4)\n",
        "pp = p_total/N \n",
        "print (pp)"
      ],
      "metadata": {
        "colab": {
          "base_uri": "https://localhost:8080/"
        },
        "id": "_BAV0uTG0c6J",
        "outputId": "4e5f0d1b-5ca6-41fa-c0a5-b8c03207f663"
      },
      "execution_count": null,
      "outputs": [
        {
          "output_type": "stream",
          "name": "stdout",
          "text": [
            "0.3753444444444444\n"
          ]
        }
      ]
    },
    {
      "cell_type": "code",
      "source": [
        "#C = {на третьей монете выпал герб}\n",
        "p5 = cases_[cases_['Coin3']==0]\n",
        "ppp = len(p5)/N \n",
        "print(ppp)"
      ],
      "metadata": {
        "colab": {
          "base_uri": "https://localhost:8080/"
        },
        "id": "GvTLrRIE0gBR",
        "outputId": "83fa5dc2-0f41-449c-ba48-c95961278b58"
      },
      "execution_count": null,
      "outputs": [
        {
          "output_type": "stream",
          "name": "stdout",
          "text": [
            "0.49971777777777776\n"
          ]
        }
      ]
    },
    {
      "cell_type": "code",
      "source": [
        "#Вероятность суммы событий\n",
        "#Задача 5\n",
        "#Брошены две игральные кости. Найти вероятность события D = {выпала хотя бы одна шестёрка}\n",
        "import random as random_number\n",
        "\n",
        "N = 100000\n",
        "M = 0\n",
        "for i in range(N):\n",
        "    six = 0\n",
        "    r1 = random_number.randint(1, 6)\n",
        "    if r1 == 6:\n",
        "        six += 1\n",
        "    r2 = random_number.randint(1, 6)\n",
        "    if r2 == 6:\n",
        "        six += 1\n",
        "    if six >= 1:\n",
        "        M += 1\n",
        "\n",
        "p = float(M)/N\n",
        "print (p)"
      ],
      "metadata": {
        "colab": {
          "base_uri": "https://localhost:8080/"
        },
        "id": "adzZoo0F0ikS",
        "outputId": "114d45d6-bd80-4f7a-ca28-b2222282e1d9"
      },
      "execution_count": null,
      "outputs": [
        {
          "output_type": "stream",
          "name": "stdout",
          "text": [
            "0.30619\n"
          ]
        }
      ]
    },
    {
      "cell_type": "code",
      "source": [
        "#Случайные величины\n",
        "#Задача 7\n",
        "#В лотерее имеется 10 билетов, из которых один выигрышный. Размер выигрыша 10 ден. ед.; стоимость билета 1 ден ед. Найти закон распределения случайной величины X, \n",
        "#равной чистому выигрышу участника лотереи, который вытаскивает билет первым.\n",
        "import pandas as pd\n",
        "import numpy as np\n",
        "size = 10\n",
        "proba_0 = 0.8\n",
        "t1 = np.random.choice([0,1], size=size,p=[proba_0, 1-proba_0])\n",
        "t2 = np.random.choice([0,1],size=size,p=[proba_0, 1-proba_0])\n",
        "t3 = np.random.choice([0,1],size=size,p=[proba_0, 1-proba_0])\n",
        "t4 = np.random.choice([0,1],size=size,p=[proba_0, 1-proba_0])\n",
        "t5 = np.random.choice([0,1],size=size,p=[proba_0, 1-proba_0])\n",
        "t6 = np.random.choice([0,1],size=size,p=[proba_0, 1-proba_0])\n",
        "t7 = np.random.choice([0,1],size=size,p=[proba_0, 1-proba_0])\n",
        "t8 = np.random.choice([0,1],size=size,p=[proba_0, 1-proba_0])\n",
        "t9 = np.random.choice([0,1],size=size,p=[proba_0, 1-proba_0])\n",
        "t10 = np.random.choice([0,1],size=size,p=[proba_0, 1-proba_0])\n",
        "tickets = pd.DataFrame(zip(t1,t2,t3,t4,t5,t6,t7,t8,t9,t10), columns=['Ticket1','Ticket2','Ticket13','Ticket4','Ticket5','Ticket6','Ticket7','Ticket8','Ticket9','Ticket10'])\n",
        "print (tickets)"
      ],
      "metadata": {
        "colab": {
          "base_uri": "https://localhost:8080/"
        },
        "id": "XU_XLsPW0pxQ",
        "outputId": "467e8d2d-933c-4ff0-86c5-b399e52c6713"
      },
      "execution_count": null,
      "outputs": [
        {
          "output_type": "stream",
          "name": "stdout",
          "text": [
            "   Ticket1  Ticket2  Ticket13  Ticket4  ...  Ticket7  Ticket8  Ticket9  Ticket10\n",
            "0        0        0         0        0  ...        0        1        0         0\n",
            "1        0        1         1        0  ...        0        0        0         0\n",
            "2        0        1         0        1  ...        0        0        0         0\n",
            "3        0        0         0        0  ...        0        0        1         1\n",
            "4        0        1         0        0  ...        0        0        0         0\n",
            "5        0        1         0        1  ...        0        0        0         0\n",
            "6        0        0         1        0  ...        0        0        0         0\n",
            "7        0        0         0        1  ...        0        0        1         0\n",
            "8        1        1         1        0  ...        0        1        0         0\n",
            "9        0        1         0        0  ...        1        1        0         1\n",
            "\n",
            "[10 rows x 10 columns]\n"
          ]
        }
      ]
    },
    {
      "cell_type": "code",
      "source": [
        "#Условные вероятности\n",
        "#Задача 9\n",
        "#Из колоды (36 карт) вынимают последовательно без возвращения две карты. \n",
        "#Найти вероятность того, что первой картой была шестерка, а второй — семерка. Найти условную вероятность того же события при условии, что обе карты бубновой масти.\n",
        "import random\n",
        "\n",
        "suits = [\"spade\", \"club\", \"heart\", \"diamond\"]\n",
        "faces = [\"6\", \"7\", \"8\", \"9\", \"10\", \"J\", \"Q\", \"K\", \"A\"]\n",
        "\n",
        "cards = []\n",
        "for suit in suits:\n",
        "    for face in faces:\n",
        "        cards.append((suit, face))\n",
        "        cards_new = random.shuffle(cards)"
      ],
      "metadata": {
        "id": "I7YeVJ8B00B2"
      },
      "execution_count": 3,
      "outputs": []
    },
    {
      "cell_type": "code",
      "source": [
        "print(cards)"
      ],
      "metadata": {
        "colab": {
          "base_uri": "https://localhost:8080/"
        },
        "id": "lq_MuhC3MrKS",
        "outputId": "3707bc77-bac7-42a5-974f-3c5c28cd705e"
      },
      "execution_count": 4,
      "outputs": [
        {
          "output_type": "stream",
          "name": "stdout",
          "text": [
            "[('spade', 'Q'), ('spade', 'A'), ('spade', '9'), ('club', '7'), ('diamond', 'J'), ('club', '10'), ('heart', 'Q'), ('heart', '9'), ('diamond', '6'), ('club', '8'), ('club', '6'), ('club', 'K'), ('club', 'J'), ('diamond', '8'), ('diamond', 'K'), ('spade', '8'), ('diamond', '9'), ('diamond', '10'), ('heart', 'A'), ('heart', '7'), ('spade', '7'), ('diamond', 'Q'), ('heart', '8'), ('club', '9'), ('spade', '10'), ('diamond', '7'), ('diamond', 'A'), ('spade', 'K'), ('heart', '6'), ('club', 'Q'), ('heart', 'K'), ('heart', 'J'), ('heart', '10'), ('spade', '6'), ('spade', 'J'), ('club', 'A')]\n"
          ]
        }
      ]
    },
    {
      "cell_type": "code",
      "source": [
        "#Вариант1 - вынимают последовательно без возвращения две карты\n",
        "import random as random_number\n",
        "def draw_cards(cards):\n",
        "    index = random_number.randint(0, len(cards)-1)\n",
        "    (suit, face) = cards.pop(index)\n",
        "    return (suit, face), cards\n",
        "\n",
        "cardss = []\n",
        "for i in range(2):  # n - число карт\n",
        "    (suit, face), cards = draw_cards(cards)\n",
        "    cards.append(suit)\n",
        "print ('Got the cards', cards)"
      ],
      "metadata": {
        "colab": {
          "base_uri": "https://localhost:8080/"
        },
        "id": "67d1vsqId6aj",
        "outputId": "0ef1ae6e-074b-47e8-d505-dc44ec9bff1c"
      },
      "execution_count": 5,
      "outputs": [
        {
          "output_type": "stream",
          "name": "stdout",
          "text": [
            "Got the cards [('spade', 'Q'), ('spade', 'A'), ('spade', '9'), ('club', '7'), ('diamond', 'J'), ('club', '10'), ('heart', 'Q'), ('heart', '9'), ('club', '8'), ('club', '6'), ('club', 'K'), ('club', 'J'), ('diamond', '8'), ('diamond', 'K'), ('spade', '8'), ('diamond', '9'), ('diamond', '10'), ('heart', 'A'), ('heart', '7'), ('spade', '7'), ('diamond', 'Q'), ('heart', '8'), ('club', '9'), ('spade', '10'), ('diamond', '7'), ('diamond', 'A'), ('spade', 'K'), ('heart', '6'), ('club', 'Q'), ('heart', 'K'), ('heart', 'J'), ('spade', '6'), ('spade', 'J'), ('club', 'A'), 'diamond', 'heart']\n"
          ]
        }
      ]
    },
    {
      "cell_type": "code",
      "source": [
        "#Вариант2 - вынимают последовательно без возвращения две карты\n",
        "import random\n",
        "sd1 = random.sample(cards,2)\n",
        "sd2 = random.sample(cards,2)\n",
        "sd3 = random.sample(cards,2)\n",
        "sd4 = random.sample(cards,2)\n",
        "sd5 = random.sample(cards,2)\n",
        "sd6 = random.sample(cards,2)\n",
        "sd7 = random.sample(cards,2)\n",
        "sd8 = random.sample(cards,2)\n",
        "sd9 = random.sample(cards,2)\n",
        "sd10 = random.sample(cards,2)\n",
        "sd11 = random.sample(cards,2)\n",
        "sd12 = random.sample(cards,2)\n",
        "sd13 = random.sample(cards,2)\n",
        "sd14 = random.sample(cards,2)\n",
        "sd15 = random.sample(cards,2)\n",
        "sd16 = random.sample(cards,2)\n",
        "sd17 = random.sample(cards,2)\n",
        "sd18 = random.sample(cards,2)\n",
        "print(sd1,sd2,sd3,sd4,sd5,sd6,sd7,sd8,sd9,sd10,sd11,sd12,sd13,sd14,sd15,sd16,sd17,sd18)"
      ],
      "metadata": {
        "colab": {
          "base_uri": "https://localhost:8080/"
        },
        "id": "v3UHwnR-PxDc",
        "outputId": "9279d63a-5ae6-4e67-b37f-13f3ba1e545d"
      },
      "execution_count": 7,
      "outputs": [
        {
          "output_type": "stream",
          "name": "stdout",
          "text": [
            "[('spade', 'J'), ('spade', '9')] [('spade', '8'), ('heart', '8')] [('spade', 'Q'), ('spade', '9')] [('club', '9'), ('club', 'K')] [('diamond', '10'), ('spade', '7')] [('heart', '6'), ('diamond', 'J')] [('diamond', '9'), ('spade', '9')] [('spade', '6'), ('heart', '9')] [('club', '7'), 'diamond'] [('club', '7'), ('club', 'J')] [('diamond', '8'), ('spade', 'K')] [('heart', 'A'), ('diamond', '8')] [('heart', 'K'), ('diamond', '10')] [('diamond', '10'), ('club', 'Q')] [('heart', 'Q'), ('club', '8')] [('diamond', 'K'), ('spade', 'Q')] [('diamond', 'A'), ('club', 'A')] [('diamond', '9'), ('diamond', 'A')]\n"
          ]
        }
      ]
    },
    {
      "cell_type": "code",
      "source": [
        "import pandas as pd\n",
        "sd_total = pd.DataFrame(zip(sd1,sd2,sd3,sd4,sd5,sd6,sd7,sd8,sd9,sd10,sd11,sd12,sd13,sd14,sd15,sd16,sd17,sd18), columns=['sd1','sd2','sd3','sd4','sd5','sd6','sd7','sd8','sd9','sd10','sd11','sd12','sd13','sd14','sd15','sd16','sd17','sd18'])\n",
        "print (sd_total)"
      ],
      "metadata": {
        "colab": {
          "base_uri": "https://localhost:8080/"
        },
        "id": "1y0jyRQBaIMD",
        "outputId": "a2562076-55af-4e43-ab3a-7e647e02a130"
      },
      "execution_count": 20,
      "outputs": [
        {
          "output_type": "stream",
          "name": "stdout",
          "text": [
            "          sd1         sd2         sd3  ...          sd16          sd17          sd18\n",
            "0  (spade, J)  (spade, 8)  (spade, Q)  ...  (diamond, K)  (diamond, A)  (diamond, 9)\n",
            "1  (spade, 9)  (heart, 8)  (spade, 9)  ...    (spade, Q)     (club, A)  (diamond, A)\n",
            "\n",
            "[2 rows x 18 columns]\n"
          ]
        }
      ]
    },
    {
      "cell_type": "code",
      "source": [
        "formatted_df = pd.melt(sd_total, var_name=\"sd\")\n",
        "print(formatted_df)"
      ],
      "metadata": {
        "colab": {
          "base_uri": "https://localhost:8080/"
        },
        "id": "UsIMULWEIrD6",
        "outputId": "d1ae4e14-b7c5-49a9-f4ba-bfdf87d122a8"
      },
      "execution_count": 19,
      "outputs": [
        {
          "output_type": "stream",
          "name": "stdout",
          "text": [
            "      sd          value\n",
            "0    sd1     (spade, J)\n",
            "1    sd1     (spade, 9)\n",
            "2    sd2     (spade, 8)\n",
            "3    sd2     (heart, 8)\n",
            "4    sd3     (spade, Q)\n",
            "5    sd3     (spade, 9)\n",
            "6    sd4      (club, 9)\n",
            "7    sd4      (club, K)\n",
            "8    sd5  (diamond, 10)\n",
            "9    sd5     (spade, 7)\n",
            "10   sd6     (heart, 6)\n",
            "11   sd6   (diamond, J)\n",
            "12   sd7   (diamond, 9)\n",
            "13   sd7     (spade, 9)\n",
            "14   sd8     (spade, 6)\n",
            "15   sd8     (heart, 9)\n",
            "16   sd9      (club, 7)\n",
            "17   sd9        diamond\n",
            "18  sd10      (club, 7)\n",
            "19  sd10      (club, J)\n",
            "20  sd11   (diamond, 8)\n",
            "21  sd11     (spade, K)\n",
            "22  sd12     (heart, A)\n",
            "23  sd12   (diamond, 8)\n",
            "24  sd13     (heart, K)\n",
            "25  sd13  (diamond, 10)\n",
            "26  sd14  (diamond, 10)\n",
            "27  sd14      (club, Q)\n",
            "28  sd15     (heart, Q)\n",
            "29  sd15      (club, 8)\n",
            "30  sd16   (diamond, K)\n",
            "31  sd16     (spade, Q)\n",
            "32  sd17   (diamond, A)\n",
            "33  sd17      (club, A)\n",
            "34  sd18   (diamond, 9)\n",
            "35  sd18   (diamond, A)\n"
          ]
        }
      ]
    },
    {
      "cell_type": "code",
      "source": [
        "N = 1000\n",
        "M = 0\n",
        "for e in range(N):\n",
        "    cards = new_cards()\n",
        "    cardss = []\n",
        "    for i in range(1):\n",
        "        (suit, face), cards = draw_cards(cards)\n",
        "        cardss.append((suit, face))\n",
        "    if cardss.sd1('('club', '6')') = 1:\n",
        "        M += 1 \n",
        "print 'Probability:', float(M)/N"
      ],
      "metadata": {
        "colab": {
          "base_uri": "https://localhost:8080/",
          "height": 130
        },
        "id": "49pUpuI1mNNe",
        "outputId": "73a5fd3e-3795-4774-d751-50c8335148eb"
      },
      "execution_count": 14,
      "outputs": [
        {
          "output_type": "error",
          "ename": "SyntaxError",
          "evalue": "ignored",
          "traceback": [
            "\u001b[0;36m  File \u001b[0;32m\"<ipython-input-14-46905fef1f8c>\"\u001b[0;36m, line \u001b[0;32m9\u001b[0m\n\u001b[0;31m    if cardss.sd1('('club', '6')') >= 1:\u001b[0m\n\u001b[0m                        ^\u001b[0m\n\u001b[0;31mSyntaxError\u001b[0m\u001b[0;31m:\u001b[0m invalid syntax\n"
          ]
        }
      ]
    },
    {
      "cell_type": "code",
      "source": [
        "N = 36\n",
        "p2 = formatted_df[(formatted_df['value']==(diamond, 6)) | (sd_total['value']==(heart, 6)) | (sd_total['value']==(spade, 6)) | (sd_total['value']==(club, 6))]\n",
        "pp = p2/N \n",
        "print (pp)"
      ],
      "metadata": {
        "colab": {
          "base_uri": "https://localhost:8080/",
          "height": 215
        },
        "id": "y5oFNaUjpWDB",
        "outputId": "d4553112-ecd7-4855-dda5-867f2e0a7a18"
      },
      "execution_count": 23,
      "outputs": [
        {
          "output_type": "error",
          "ename": "NameError",
          "evalue": "ignored",
          "traceback": [
            "\u001b[0;31m---------------------------------------------------------------------------\u001b[0m",
            "\u001b[0;31mNameError\u001b[0m                                 Traceback (most recent call last)",
            "\u001b[0;32m<ipython-input-23-237251cca994>\u001b[0m in \u001b[0;36m<module>\u001b[0;34m()\u001b[0m\n\u001b[1;32m      1\u001b[0m \u001b[0mN\u001b[0m \u001b[0;34m=\u001b[0m \u001b[0;36m36\u001b[0m\u001b[0;34m\u001b[0m\u001b[0;34m\u001b[0m\u001b[0m\n\u001b[0;32m----> 2\u001b[0;31m \u001b[0mp2\u001b[0m \u001b[0;34m=\u001b[0m \u001b[0mformatted_df\u001b[0m\u001b[0;34m[\u001b[0m\u001b[0;34m(\u001b[0m\u001b[0mformatted_df\u001b[0m\u001b[0;34m[\u001b[0m\u001b[0;34m'value'\u001b[0m\u001b[0;34m]\u001b[0m\u001b[0;34m==\u001b[0m\u001b[0;34m(\u001b[0m\u001b[0mdiamond\u001b[0m\u001b[0;34m,\u001b[0m \u001b[0mJ\u001b[0m\u001b[0;34m)\u001b[0m\u001b[0;34m)\u001b[0m \u001b[0;34m|\u001b[0m \u001b[0;34m(\u001b[0m\u001b[0msd_total\u001b[0m\u001b[0;34m[\u001b[0m\u001b[0;34m'value'\u001b[0m\u001b[0;34m]\u001b[0m\u001b[0;34m==\u001b[0m\u001b[0;34m(\u001b[0m\u001b[0mheart\u001b[0m\u001b[0;34m,\u001b[0m \u001b[0;36m6\u001b[0m\u001b[0;34m)\u001b[0m\u001b[0;34m)\u001b[0m \u001b[0;34m|\u001b[0m \u001b[0;34m(\u001b[0m\u001b[0msd_total\u001b[0m\u001b[0;34m[\u001b[0m\u001b[0;34m'value'\u001b[0m\u001b[0;34m]\u001b[0m\u001b[0;34m==\u001b[0m\u001b[0;34m(\u001b[0m\u001b[0mspade\u001b[0m\u001b[0;34m,\u001b[0m \u001b[0;36m6\u001b[0m\u001b[0;34m)\u001b[0m\u001b[0;34m)\u001b[0m \u001b[0;34m|\u001b[0m \u001b[0;34m(\u001b[0m\u001b[0msd_total\u001b[0m\u001b[0;34m[\u001b[0m\u001b[0;34m'value'\u001b[0m\u001b[0;34m]\u001b[0m\u001b[0;34m==\u001b[0m\u001b[0;34m(\u001b[0m\u001b[0mclub\u001b[0m\u001b[0;34m,\u001b[0m \u001b[0;36m6\u001b[0m\u001b[0;34m)\u001b[0m\u001b[0;34m)\u001b[0m\u001b[0;34m]\u001b[0m\u001b[0;34m\u001b[0m\u001b[0;34m\u001b[0m\u001b[0m\n\u001b[0m\u001b[1;32m      3\u001b[0m \u001b[0mpp\u001b[0m \u001b[0;34m=\u001b[0m \u001b[0mp2\u001b[0m\u001b[0;34m/\u001b[0m\u001b[0mN\u001b[0m\u001b[0;34m\u001b[0m\u001b[0;34m\u001b[0m\u001b[0m\n\u001b[1;32m      4\u001b[0m \u001b[0mprint\u001b[0m \u001b[0;34m(\u001b[0m\u001b[0mpp\u001b[0m\u001b[0;34m)\u001b[0m\u001b[0;34m\u001b[0m\u001b[0;34m\u001b[0m\u001b[0m\n",
            "\u001b[0;31mNameError\u001b[0m: name 'diamond' is not defined"
          ]
        }
      ]
    }
  ]
}