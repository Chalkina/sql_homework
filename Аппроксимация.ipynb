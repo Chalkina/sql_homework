{
  "nbformat": 4,
  "nbformat_minor": 0,
  "metadata": {
    "colab": {
      "name": "Untitled6.ipynb",
      "provenance": [],
      "authorship_tag": "ABX9TyNH7cIgiSk0mHFhMWgvdGvm",
      "include_colab_link": true
    },
    "kernelspec": {
      "name": "python3",
      "display_name": "Python 3"
    },
    "language_info": {
      "name": "python"
    }
  },
  "cells": [
    {
      "cell_type": "markdown",
      "metadata": {
        "id": "view-in-github",
        "colab_type": "text"
      },
      "source": [
        "<a href=\"https://colab.research.google.com/github/Chalkina/sql_homework/blob/main/%D0%90%D0%BF%D0%BF%D1%80%D0%BE%D0%BA%D1%81%D0%B8%D0%BC%D0%B0%D1%86%D0%B8%D1%8F.ipynb\" target=\"_parent\"><img src=\"https://colab.research.google.com/assets/colab-badge.svg\" alt=\"Open In Colab\"/></a>"
      ]
    },
    {
      "cell_type": "code",
      "execution_count": 1,
      "metadata": {
        "id": "uExJdgQIXNI9"
      },
      "outputs": [],
      "source": [
        "import pandas as pd\n",
        "import numpy as np\n",
        "import matplotlib.pyplot as plt\n",
        "import scipy.stats as sts\n",
        "import math\n",
        "%matplotlib inline"
      ]
    },
    {
      "cell_type": "code",
      "source": [
        "expon_rv = sts.expon()\n",
        "sample = expon_rv.rvs(100)\n",
        "sample"
      ],
      "metadata": {
        "colab": {
          "base_uri": "https://localhost:8080/"
        },
        "id": "Cp2nSIzzXTVP",
        "outputId": "8a5783cc-a3b2-4803-fdcc-294358a50243"
      },
      "execution_count": 8,
      "outputs": [
        {
          "output_type": "execute_result",
          "data": {
            "text/plain": [
              "array([3.39600001e-01, 6.94261253e-01, 2.00984158e+00, 1.15773057e+00,\n",
              "       7.44953088e-01, 2.83692704e+00, 3.44391028e-01, 1.82941845e+00,\n",
              "       2.33476956e+00, 1.20936597e-02, 2.52976974e+00, 1.15462671e+00,\n",
              "       8.84921101e-02, 1.70795948e+00, 2.86114824e-01, 4.47396288e+00,\n",
              "       1.22048465e-01, 4.65992980e-01, 5.88073897e-01, 2.48254582e-01,\n",
              "       5.44253104e+00, 9.44630680e-01, 2.11159905e-01, 9.66111128e-01,\n",
              "       7.97345336e-01, 5.41413736e-02, 7.48633956e-02, 8.02453925e-01,\n",
              "       2.52764807e+00, 3.47647626e-02, 2.99432925e-01, 1.69716677e-01,\n",
              "       4.13398054e-01, 1.62412945e-01, 9.45103722e-01, 2.76764071e+00,\n",
              "       2.42396810e+00, 3.32440245e-01, 2.43697863e+00, 1.11286731e+00,\n",
              "       2.53269381e-01, 1.73542914e+00, 2.61583139e+00, 2.26884251e+00,\n",
              "       1.24528847e+00, 1.93286300e-01, 3.78885035e-01, 9.12690925e-01,\n",
              "       9.26699405e-02, 7.68449047e-01, 3.14485120e+00, 1.10320579e+00,\n",
              "       3.28351303e-01, 6.33462732e-02, 4.90520040e-01, 1.98769088e-01,\n",
              "       8.48352224e-01, 3.18485446e+00, 1.13896119e-01, 1.95801021e+00,\n",
              "       1.66179399e-01, 1.40770925e-01, 2.15442533e-01, 2.19132458e-01,\n",
              "       5.87916111e-01, 2.92354972e-01, 7.82604877e-01, 2.52395884e+00,\n",
              "       9.29782381e-02, 7.48111186e-01, 4.99386241e-01, 3.28826600e-01,\n",
              "       5.17418977e-01, 4.40238009e-01, 3.57840250e-01, 4.33497212e-02,\n",
              "       1.54504376e-01, 1.79779018e+00, 3.72712684e-01, 5.85716677e-01,\n",
              "       1.54230017e+00, 1.45991359e+00, 3.98322699e-01, 5.85678529e-01,\n",
              "       4.55576306e-01, 4.15525009e-01, 1.80519747e+00, 8.68458635e-01,\n",
              "       9.62670298e-01, 2.20076873e+00, 2.13035005e+00, 7.48129102e-02,\n",
              "       2.69721116e-01, 5.37853985e-01, 2.29413411e+00, 2.20941131e-01,\n",
              "       4.25197324e-01, 1.14410097e+00, 1.84593023e+00, 1.22870052e-03])"
            ]
          },
          "metadata": {},
          "execution_count": 8
        }
      ]
    },
    {
      "cell_type": "code",
      "source": [
        "sample.dtype"
      ],
      "metadata": {
        "colab": {
          "base_uri": "https://localhost:8080/"
        },
        "id": "7IFssnMIYln6",
        "outputId": "314ed467-f679-4fe2-bec4-134c1f1c1cc8"
      },
      "execution_count": 9,
      "outputs": [
        {
          "output_type": "execute_result",
          "data": {
            "text/plain": [
              "dtype('float64')"
            ]
          },
          "metadata": {},
          "execution_count": 9
        }
      ]
    },
    {
      "cell_type": "code",
      "source": [
        "real_mean = cosine_rv.mean()"
      ],
      "metadata": {
        "id": "hyyWXyc3XbtO"
      },
      "execution_count": 10,
      "outputs": []
    },
    {
      "cell_type": "code",
      "source": [
        "real_var = cosine_rv.var()"
      ],
      "metadata": {
        "id": "xxcxw6uxYztm"
      },
      "execution_count": 11,
      "outputs": []
    },
    {
      "cell_type": "code",
      "source": [
        "#Постройте гистограмму выборки и теоретическую плотность распределения\n",
        "plt.hist(sample, density=True)\n",
        "x = np.linspace(0,4,10)\n",
        "pdf = expon_rv.pdf(x)\n",
        "plt.plot(x, pdf, label='теоретическая плотность', alpha=0.5)\n",
        "plt.legend()"
      ],
      "metadata": {
        "colab": {
          "base_uri": "https://localhost:8080/",
          "height": 282
        },
        "id": "bbFaludXY3Ts",
        "outputId": "e9bc6f42-384d-45ae-c1a1-4611fa9f59cc"
      },
      "execution_count": 13,
      "outputs": [
        {
          "output_type": "execute_result",
          "data": {
            "text/plain": [
              "<matplotlib.legend.Legend at 0x7facb71ad910>"
            ]
          },
          "metadata": {},
          "execution_count": 13
        },
        {
          "output_type": "display_data",
          "data": {
            "image/png": "[encoded data removed]",
            "text/plain": [
              "<Figure size 432x288 with 1 Axes>"
            ]
          },
          "metadata": {
            "needs_background": "light"
          }
        }
      ]
    },
    {
      "cell_type": "code",
      "source": [
        "sample_mean = sample.mean() # выборочное среднее\n",
        "print(sample_mean)\n",
        "sample_var = sample.var() # выборочная дисперсия\n",
        "print(sample_var)"
      ],
      "metadata": {
        "colab": {
          "base_uri": "https://localhost:8080/"
        },
        "id": "pul18RNuZLio",
        "outputId": "16c70112-48ab-4a03-df24-234a72fa1ae6"
      },
      "execution_count": 14,
      "outputs": [
        {
          "output_type": "stream",
          "name": "stdout",
          "text": [
            "0.992936049119247\n",
            "1.0504226627856297\n"
          ]
        }
      ]
    },
    {
      "cell_type": "code",
      "source": [
        "#Оценим распределение выборочного среднего для разных объёмов выборок\n",
        "#Для этого постройте на одном полотне гистограмму выборочных средних и теоретическое распределение выборочных средних по ЦПТ для разных объёмов выборок.\n",
        "#Для теоретического распределение используйте настоящие значения мат ожидания и дисперсии (не приближенные на основе выборки)."
      ],
      "metadata": {
        "id": "QrDo82lPbpwU"
      },
      "execution_count": 18,
      "outputs": []
    },
    {
      "cell_type": "code",
      "source": [
        "a = 1\n",
        "b = 6\n",
        "uniform_rv = sts.uniform(a, b-a)\n",
        "uniform_rv.rvs(10)"
      ],
      "metadata": {
        "colab": {
          "base_uri": "https://localhost:8080/"
        },
        "id": "Oeb7otNlcuFK",
        "outputId": "03c9c685-b102-4f3a-dcdc-fa6e8e8f083e"
      },
      "execution_count": 20,
      "outputs": [
        {
          "output_type": "execute_result",
          "data": {
            "text/plain": [
              "array([5.23514517, 1.80448914, 4.5122539 , 2.8936045 , 4.4784525 ,\n",
              "       2.46657983, 1.0222225 , 4.90817158, 2.017855  , 1.01521806])"
            ]
          },
          "metadata": {},
          "execution_count": 20
        }
      ]
    },
    {
      "cell_type": "code",
      "source": [
        "N = 100\n",
        "# сгенерируем много выборочных средних\n",
        "sample = []\n",
        "for i in range(10000):\n",
        "  sample.append(np.mean(uniform_rv.rvs(N)))"
      ],
      "metadata": {
        "id": "ZZQJMWfZdSE0"
      },
      "execution_count": 22,
      "outputs": []
    },
    {
      "cell_type": "code",
      "source": [
        "plt.hist(sample, density=True, bins='auto')"
      ],
      "metadata": {
        "colab": {
          "base_uri": "https://localhost:8080/",
          "height": 724
        },
        "id": "WjFYQlUWdjfF",
        "outputId": "45e5bc34-74fd-462c-d4e6-4f499faa6e9e"
      },
      "execution_count": 23,
      "outputs": [
        {
          "output_type": "execute_result",
          "data": {
            "text/plain": [
              "(array([0.0111993 , 0.0111993 , 0.00559965, 0.02239859, 0.05039683,\n",
              "        0.02239859, 0.06719578, 0.08399472, 0.13439155, 0.19598768,\n",
              "        0.22958557, 0.33597888, 0.34157852, 0.397575  , 0.55436515,\n",
              "        0.83434754, 0.92394191, 1.15352748, 1.15912712, 1.43350987,\n",
              "        1.79748699, 1.75268981, 1.87588206, 2.23425953, 2.11666692,\n",
              "        2.51424193, 2.82222256, 2.92301622, 2.73262819, 2.74382749,\n",
              "        2.91181693, 2.55903911, 2.50304263, 2.29025601, 2.12226657,\n",
              "        2.04947115, 1.98787502, 1.32711656, 1.30471797, 1.06953276,\n",
              "        0.96873909, 0.64395951, 0.59916233, 0.49836867, 0.42557324,\n",
              "        0.29118169, 0.28558204, 0.19038803, 0.16798944, 0.09519401,\n",
              "        0.06719578, 0.03919754, 0.05599648, 0.01679894, 0.0111993 ,\n",
              "        0.01679894, 0.0111993 , 0.        , 0.        , 0.        ,\n",
              "        0.        , 0.00559965]),\n",
              " array([2.98744294, 3.00530121, 3.02315947, 3.04101774, 3.05887601,\n",
              "        3.07673427, 3.09459254, 3.1124508 , 3.13030907, 3.14816733,\n",
              "        3.1660256 , 3.18388386, 3.20174213, 3.2196004 , 3.23745866,\n",
              "        3.25531693, 3.27317519, 3.29103346, 3.30889172, 3.32674999,\n",
              "        3.34460825, 3.36246652, 3.38032479, 3.39818305, 3.41604132,\n",
              "        3.43389958, 3.45175785, 3.46961611, 3.48747438, 3.50533264,\n",
              "        3.52319091, 3.54104918, 3.55890744, 3.57676571, 3.59462397,\n",
              "        3.61248224, 3.6303405 , 3.64819877, 3.66605703, 3.6839153 ,\n",
              "        3.70177357, 3.71963183, 3.7374901 , 3.75534836, 3.77320663,\n",
              "        3.79106489, 3.80892316, 3.82678142, 3.84463969, 3.86249796,\n",
              "        3.88035622, 3.89821449, 3.91607275, 3.93393102, 3.95178928,\n",
              "        3.96964755, 3.98750582, 4.00536408, 4.02322235, 4.04108061,\n",
              "        4.05893888, 4.07679714, 4.09465541]),\n",
              " <a list of 62 Patch objects>)"
            ]
          },
          "metadata": {},
          "execution_count": 23
        },
        {
          "output_type": "display_data",
          "data": {
            "image/png": "[encoded data removed]",
            "text/plain": [
              "<Figure size 432x288 with 1 Axes>"
            ]
          },
          "metadata": {
            "needs_background": "light"
          }
        }
      ]
    },
    {
      "cell_type": "code",
      "source": [
        "plt.figure(figsize=(16,9))\n",
        "# сгенерируем много выборочных средних\n",
        "for N in [10, 100, 1000, 10000]:\n",
        "  sample = []\n",
        "  for i in range(1000):\n",
        "    sample.append(np.mean(uniform_rv.rvs(N)))\n",
        "  plt.hist(sample, alpha=0.5)\n",
        "\n",
        "plt.legend(['10', '100', '1000', '10000'])\n",
        "plt.show()"
      ],
      "metadata": {
        "colab": {
          "base_uri": "https://localhost:8080/",
          "height": 537
        },
        "id": "6E8-PAo4dqCm",
        "outputId": "09325046-1fad-4ab2-c81c-f4c56559c7d4"
      },
      "execution_count": 24,
      "outputs": [
        {
          "output_type": "display_data",
          "data": {
            "image/png": "[encoded data removed]",
            "text/plain": [
              "<Figure size 1152x648 with 1 Axes>"
            ]
          },
          "metadata": {
            "needs_background": "light"
          }
        }
      ]
    },
    {
      "cell_type": "code",
      "source": [
        "N = 30\n",
        "# сгенерируем много выборочных средних\n",
        "sample = []\n",
        "for i in range(1000):\n",
        "  sample.append(np.mean(uniform_rv.rvs(N)))\n",
        "sample = np.array(sample).astype(np.float32)"
      ],
      "metadata": {
        "id": "WD6Le-XGd6-n"
      },
      "execution_count": 25,
      "outputs": []
    },
    {
      "cell_type": "code",
      "source": [
        "uniform_rv.mean()"
      ],
      "metadata": {
        "colab": {
          "base_uri": "https://localhost:8080/"
        },
        "id": "OX1pvqIWeG13",
        "outputId": "1e735a2e-d998-4f98-a9b0-7cfe08a82430"
      },
      "execution_count": 26,
      "outputs": [
        {
          "output_type": "execute_result",
          "data": {
            "text/plain": [
              "3.5"
            ]
          },
          "metadata": {},
          "execution_count": 26
        }
      ]
    },
    {
      "cell_type": "code",
      "source": [
        "uniform_rv.var()"
      ],
      "metadata": {
        "colab": {
          "base_uri": "https://localhost:8080/"
        },
        "id": "OzwQLlM5eJ5q",
        "outputId": "9c56744e-1388-4639-fe27-3484ada3485c"
      },
      "execution_count": 27,
      "outputs": [
        {
          "output_type": "execute_result",
          "data": {
            "text/plain": [
              "2.083333333333333"
            ]
          },
          "metadata": {},
          "execution_count": 27
        }
      ]
    },
    {
      "cell_type": "code",
      "source": [
        "uniform_rv.std()"
      ],
      "metadata": {
        "colab": {
          "base_uri": "https://localhost:8080/"
        },
        "id": "8nUqbQkBeMsR",
        "outputId": "683e2570-11ae-4362-d970-1eb65b3ffb26"
      },
      "execution_count": 28,
      "outputs": [
        {
          "output_type": "execute_result",
          "data": {
            "text/plain": [
              "1.4433756729740643"
            ]
          },
          "metadata": {},
          "execution_count": 28
        }
      ]
    },
    {
      "cell_type": "code",
      "source": [
        "norm_rv = sts.norm(loc=uniform_rv.mean(), scale=uniform_rv.std() / np.sqrt(N))\n",
        "plt.hist(sample, density=True, bins=40)\n",
        "x = np.linspace(2.5,4,6)\n",
        "pdf = norm_rv.pdf(x)\n",
        "plt.plot(x, pdf, label='Теоретическая плотность', alpha=0.5)\n",
        "plt.legend()\n",
        "plt.plot()"
      ],
      "metadata": {
        "colab": {
          "base_uri": "https://localhost:8080/",
          "height": 282
        },
        "id": "-jKt6wnqeQM3",
        "outputId": "83016a3e-8f50-40e5-cbac-ccbe644e040b"
      },
      "execution_count": 31,
      "outputs": [
        {
          "output_type": "execute_result",
          "data": {
            "text/plain": [
              "[]"
            ]
          },
          "metadata": {},
          "execution_count": 31
        },
        {
          "output_type": "display_data",
          "data": {
            "image/png": "[encoded data removed]",
            "text/plain": [
              "<Figure size 432x288 with 1 Axes>"
            ]
          },
          "metadata": {
            "needs_background": "light"
          }
        }
      ]
    },
    {
      "cell_type": "code",
      "source": [
        "data = uniform_rv.rvs(N)\n",
        "print(\"Доверительный интервал для среднего по цпт, если нам известна дисперсия: [{}, {}] \".format(\n",
        "    np.mean(data) - 2 * uniform_rv.std() / np.sqrt(N), np.mean(data) + 2 * uniform_rv.std() / np.sqrt(N) \n",
        "))"
      ],
      "metadata": {
        "colab": {
          "base_uri": "https://localhost:8080/"
        },
        "id": "oV2ptOjlegf3",
        "outputId": "8f55f22a-0bcb-4a7d-8051-81295587f36e"
      },
      "execution_count": 32,
      "outputs": [
        {
          "output_type": "stream",
          "name": "stdout",
          "text": [
            "Доверительный интервал для среднего по цпт, если нам известна дисперсия: [3.5364435099253537, 4.590536063314813] \n"
          ]
        }
      ]
    },
    {
      "cell_type": "code",
      "source": [
        "#Как вы считаете, для выбранного распределения аппроксимация распределения выборочного среднего работает хорошо или плохо? \n",
        "#Ваш ответ: на мой взгляд аппроксимация работает хорошо, описание экспериментальных точек представлено довольно наглядно. "
      ],
      "metadata": {
        "id": "hNq-eIDDxZ14"
      },
      "execution_count": null,
      "outputs": []
    }
  ]
}