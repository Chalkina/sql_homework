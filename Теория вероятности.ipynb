{
  "nbformat": 4,
  "nbformat_minor": 0,
  "metadata": {
    "colab": {
      "name": "Untitled1.ipynb",
      "provenance": [],
      "authorship_tag": "ABX9TyM0bpbiajdQ5lwEhV12oyPy",
      "include_colab_link": true
    },
    "kernelspec": {
      "name": "python3",
      "display_name": "Python 3"
    },
    "language_info": {
      "name": "python"
    }
  },
  "cells": [
    {
      "cell_type": "markdown",
      "metadata": {
        "id": "view-in-github",
        "colab_type": "text"
      },
      "source": [
        "<a href=\"https://colab.research.google.com/github/Chalkina/sql_homework/blob/main/%D0%A2%D0%B5%D0%BE%D1%80%D0%B8%D1%8F%20%D0%B2%D0%B5%D1%80%D0%BE%D1%8F%D1%82%D0%BD%D0%BE%D1%81%D1%82%D0%B8.ipynb\" target=\"_parent\"><img src=\"https://colab.research.google.com/assets/colab-badge.svg\" alt=\"Open In Colab\"/></a>"
      ]
    },
    {
      "cell_type": "code",
      "execution_count": null,
      "metadata": {
        "id": "QB9EZ5EO5_Sk"
      },
      "outputs": [],
      "source": [
        "#Определение вероятности. События\n",
        "\n",
        "#Требуется сгенерировать необходимые выборки и произвести по ним расчеты\n",
        "\n",
        "#Задача 1\n",
        "\n",
        "#Брошено две монеты. Найти вероятность того, что монеты выпали разными сторонами"
      ]
    },
    {
      "cell_type": "code",
      "source": [
        "import pandas as pd\n",
        "import numpy as np\n",
        "n = 1\n",
        "p = .45\n",
        "size = 1000\n",
        "coin = np.random.binomial(n, p, size=size)\n",
        "len(coin[coin == 1])/len(coin)"
      ],
      "metadata": {
        "colab": {
          "base_uri": "https://localhost:8080/"
        },
        "id": "mHMzyjzW6ObB",
        "outputId": "1a26bf00-5acb-49d9-a083-a2c81877bf5d"
      },
      "execution_count": null,
      "outputs": [
        {
          "output_type": "execute_result",
          "data": {
            "text/plain": [
              "0.448"
            ]
          },
          "metadata": {},
          "execution_count": 1
        }
      ]
    },
    {
      "cell_type": "code",
      "source": [
        "#Задача 2 Брошено три монеты. Описать множество всех элементарных событий. Найти вероятности следующих событий:\n",
        "\n",
        "---A = {не выпало ни одного герба}\n",
        "---B = {выпало четное число гербов}\n",
        "---C = {на третьей монете выпал герб}"
      ],
      "metadata": {
        "id": "gWUTQqbM6Wxi"
      },
      "execution_count": null,
      "outputs": []
    },
    {
      "cell_type": "code",
      "source": [
        "import random\n",
        "A = 0\n",
        "B = 0\n",
        "C = 0\n",
        "i = 0\n",
        "while i<3:\n",
        "    i += 1\n",
        "    coin = random.randint(1,2)\n",
        "    if coin == 1:\n",
        "        A += 1\n",
        "    if coin == 2:\n",
        "        B += 1\n",
        "        if coin == 3:\n",
        "          C += 1\n",
        "print (\"A\", A)\n",
        "print (\"B\", B)\n",
        "print (\"C\", C)"
      ],
      "metadata": {
        "colab": {
          "base_uri": "https://localhost:8080/"
        },
        "id": "gXOyUYRF77zA",
        "outputId": "3db1fd7f-e21f-4748-98a9-d2a816fede90"
      },
      "execution_count": null,
      "outputs": [
        {
          "output_type": "stream",
          "name": "stdout",
          "text": [
            "A 1\n",
            "B 2\n",
            "C 0\n"
          ]
        }
      ]
    },
    {
      "cell_type": "code",
      "source": [
        "#Задача 3\n",
        "\n",
        "#Из двух претендентов E и L на ответственную должность три члена комиссии должны отобрать одного. Каждый член комиссии должен указать либо одного достойного, \n",
        "#либо забраковать обоих. Претендент считается выбранным, если он был признана достойным хотя бы двумя членами комиссии. Найти вероятность событий:\n",
        "\n",
        "#A = {рекомендован L}, B = {рекомендован E}"
      ],
      "metadata": {
        "id": "Pq7Um1ip8ARf"
      },
      "execution_count": null,
      "outputs": []
    },
    {
      "cell_type": "code",
      "source": [
        "import pandas as pd\n",
        "import numpy as np\n",
        "n = 1\n",
        "p = .29\n",
        "size = 27\n",
        "coin = np.random.binomial(n, p, size=size)\n",
        "len(coin[coin == 1])/len(coin)"
      ],
      "metadata": {
        "colab": {
          "base_uri": "https://localhost:8080/"
        },
        "id": "DRIey93B8JiZ",
        "outputId": "8221a86c-da20-483c-a6cd-16098752fba9"
      },
      "execution_count": null,
      "outputs": [
        {
          "output_type": "execute_result",
          "data": {
            "text/plain": [
              "0.2962962962962963"
            ]
          },
          "metadata": {},
          "execution_count": 12
        }
      ]
    },
    {
      "cell_type": "code",
      "source": [
        "#Задача 4\n",
        "#Брошено две игральных кости. Описать множество элементарных событий. Найти вероятности событий:\n",
        "\n",
        "#A = {вышло две \"шестерки\"}\n",
        "\n",
        "#B = {сумма выпавших очков не меньше 11}\n",
        "\n",
        "#C = {не выпала ни одна \"шестерка\"}"
      ],
      "metadata": {
        "id": "vf50osqh-TTr"
      },
      "execution_count": null,
      "outputs": []
    },
    {
      "cell_type": "code",
      "source": [
        "import random\n",
        "A = 0\n",
        "B = 0\n",
        "C = 0\n",
        "i = 0\n",
        "while i<2:\n",
        "    i += 1\n",
        "    coin = random.randint(1,2)\n",
        "    if coin == 1:\n",
        "        A += 1\n",
        "    if coin == 2:\n",
        "        B += 1\n",
        "        if coin == 2:\n",
        "          C += 1\n",
        "print (\"A\", A)\n",
        "print (\"B\", B)\n",
        "print (\"C\", C)"
      ],
      "metadata": {
        "colab": {
          "base_uri": "https://localhost:8080/"
        },
        "id": "ZseN_yJ9-bPC",
        "outputId": "83c2855a-d4a0-45ce-d1e3-fa94b18198aa"
      },
      "execution_count": null,
      "outputs": [
        {
          "output_type": "stream",
          "name": "stdout",
          "text": [
            "A 1\n",
            "B 1\n",
            "C 1\n"
          ]
        }
      ]
    },
    {
      "cell_type": "code",
      "source": [
        "#Вероятность суммы событий\n",
        "#Задача 5\n",
        "\n",
        "#Брошены две игральные кости. Найти вероятность события D = {выпала хотя бы одна шестёрка}"
      ],
      "metadata": {
        "id": "sKfnRH9h-wn5"
      },
      "execution_count": null,
      "outputs": []
    },
    {
      "cell_type": "code",
      "source": [
        "N = 1000\n",
        "cases = []\n",
        "i=0\n",
        "while i <= N:\n",
        "    coin = np.random.choice((\"heads\", \"tails\"), 1)\n",
        "    cases.append(coin)\n",
        "    i+=1\n",
        "    if coin == \"heads\":\n",
        "        pass\n",
        "    elif coin == \"tails\":\n",
        "        cases.append(coin)\n",
        "        \n",
        "display(\"D: {} раз\".format(len(pd.DataFrame(cases, columns=[\"REZ\"]).query('REZ ==\"heads\"'))))"
      ],
      "metadata": {
        "colab": {
          "base_uri": "https://localhost:8080/",
          "height": 37
        },
        "id": "0rBEUHYN-2dH",
        "outputId": "42c136f7-7939-4eaa-8bbb-eac85e1f446f"
      },
      "execution_count": null,
      "outputs": [
        {
          "output_type": "display_data",
          "data": {
            "application/vnd.google.colaboratory.intrinsic+json": {
              "type": "string"
            },
            "text/plain": [
              "'D: 551 раз'"
            ]
          },
          "metadata": {}
        }
      ]
    },
    {
      "cell_type": "code",
      "source": [
        "#Задача 6\n",
        "\n",
        "#В телефонном номере три последние цифры стерлись. Считая, что все возможные значения стершихся цифр равновероятны, найти вероятность событий:\n",
        "\n",
        "#A = {Стерлись различные цифры},\n",
        "\n",
        "#B = {Стерлись одинаковые цифры},\n",
        "\n",
        "#C = {Среди стершихся цифр хотя бы две совпадают},\n",
        "\n",
        "#D = {Среди стершихся цифр хотя бы две различны}"
      ],
      "metadata": {
        "id": "8OpasY3W-2qr"
      },
      "execution_count": null,
      "outputs": []
    },
    {
      "cell_type": "code",
      "source": [
        "import pandas as pd\n",
        "import numpy as np\n",
        "n = 720\n",
        "p = .0\n",
        "size = 1000\n",
        "coin = np.random.binomial(n, p, size=size)\n",
        "len(coin[coin == 1])/len(coin)"
      ],
      "metadata": {
        "colab": {
          "base_uri": "https://localhost:8080/"
        },
        "id": "buStDUQEEYlW",
        "outputId": "9e521159-89e7-4326-8c27-c6b2d9b7e56b"
      },
      "execution_count": null,
      "outputs": [
        {
          "output_type": "execute_result",
          "data": {
            "text/plain": [
              "0.0"
            ]
          },
          "metadata": {},
          "execution_count": 43
        }
      ]
    },
    {
      "cell_type": "code",
      "source": [
        "import pandas as pd\n",
        "import numpy as np\n",
        "n = 10\n",
        "p = .5\n",
        "size = 1000\n",
        "coin = np.random.binomial(n, p, size=size)\n",
        "len(coin[coin == 1])/len(coin)"
      ],
      "metadata": {
        "colab": {
          "base_uri": "https://localhost:8080/"
        },
        "id": "SSDoBGJyDSvk",
        "outputId": "d57706fb-b36c-4395-98cb-0ff59cde1990"
      },
      "execution_count": null,
      "outputs": [
        {
          "output_type": "execute_result",
          "data": {
            "text/plain": [
              "0.011"
            ]
          },
          "metadata": {},
          "execution_count": 18
        }
      ]
    },
    {
      "cell_type": "code",
      "source": [
        "import pandas as pd\n",
        "import numpy as np\n",
        "n = 280\n",
        "p = .45\n",
        "size = 1000\n",
        "coin = np.random.binomial(n, p, size=size)\n",
        "len(coin[coin == 1])/len(coin)"
      ],
      "metadata": {
        "colab": {
          "base_uri": "https://localhost:8080/"
        },
        "id": "z9HU4kyKD84a",
        "outputId": "146b1cab-f3f5-4ec5-dfd8-be5ebd4f7ddf"
      },
      "execution_count": null,
      "outputs": [
        {
          "output_type": "execute_result",
          "data": {
            "text/plain": [
              "0.496"
            ]
          },
          "metadata": {},
          "execution_count": 34
        }
      ]
    },
    {
      "cell_type": "code",
      "source": [
        "import pandas as pd\n",
        "import numpy as np\n",
        "n = 1\n",
        "p = .97\n",
        "size = 1000\n",
        "coin = np.random.binomial(n, p, size=size)\n",
        "len(coin[coin == 1])/len(coin)"
      ],
      "metadata": {
        "colab": {
          "base_uri": "https://localhost:8080/"
        },
        "id": "UXHAOPbTD9Xf",
        "outputId": "bf008c05-b4e0-48b1-d290-37fe16e7eaf9"
      },
      "execution_count": null,
      "outputs": [
        {
          "output_type": "execute_result",
          "data": {
            "text/plain": [
              "0.971"
            ]
          },
          "metadata": {},
          "execution_count": 25
        }
      ]
    },
    {
      "cell_type": "code",
      "source": [
        "#Случайные величины\n",
        "#Задача 7\n",
        "\n",
        "#В лотерее имеется 10 билетов, из которых один выигрышный. Размер выигрыша 10 ден. ед.; стоимость билета 1 ден ед. Найти закон распределения случайной величины X, \n",
        "#равной чистому выигрышу участника лотереи, который вытаскивает билет первым."
      ],
      "metadata": {
        "id": "KH86jPATAK8p"
      },
      "execution_count": null,
      "outputs": []
    },
    {
      "cell_type": "code",
      "source": [
        "import pandas as pd\n",
        "import numpy as np\n",
        "n = 8\n",
        "p = .45\n",
        "size = 90\n",
        "coin = np.array([random.random() for i in range(90)])\n",
        "print (coin)"
      ],
      "metadata": {
        "colab": {
          "base_uri": "https://localhost:8080/"
        },
        "id": "Rc6DLeFoAUQa",
        "outputId": "3100862c-96d9-4731-cf01-466195aa387c"
      },
      "execution_count": 60,
      "outputs": [
        {
          "output_type": "stream",
          "name": "stdout",
          "text": [
            "[0.17229132 0.34774732 0.9219425  0.95558925 0.9784346  0.44939661\n",
            " 0.952657   0.89670239 0.65852558 0.14906182 0.04404603 0.73900271\n",
            " 0.87692422 0.50171988 0.91968386 0.93423245 0.60216907 0.3110441\n",
            " 0.96359004 0.13649077 0.31920985 0.55685793 0.62073882 0.09173988\n",
            " 0.7776358  0.91799013 0.8559963  0.7003999  0.04989584 0.19072419\n",
            " 0.92240628 0.2491115  0.84084888 0.30375817 0.53394196 0.34291133\n",
            " 0.67198478 0.41632431 0.98549587 0.1346531  0.83478088 0.60859132\n",
            " 0.07464147 0.59271997 0.96740444 0.5497137  0.07172229 0.75057144\n",
            " 0.34587094 0.52878626 0.44209874 0.2327377  0.27978953 0.49530142\n",
            " 0.87145781 0.06072903 0.82715099 0.35308298 0.72238436 0.34571083\n",
            " 0.28501994 0.75569948 0.60893554 0.92715719 0.72447285 0.19442515\n",
            " 0.05674996 0.85561419 0.77229782 0.85521342 0.11309443 0.33997478\n",
            " 0.52956206 0.09890771 0.27829691 0.51403791 0.06862881 0.91274561\n",
            " 0.69746951 0.33085619 0.04236194 0.49865497 0.93942391 0.32833873\n",
            " 0.91794021 0.68261913 0.17430912 0.29357176 0.65018391 0.53359456]\n"
          ]
        }
      ]
    },
    {
      "cell_type": "code",
      "source": [
        "import numpy as np\n",
        "import pandas as pd\n",
        "import matplotlib.pyplot as plt\n",
        "%matplotlib inline\n",
        "fig, ax = plt.subplots()\n",
        "ax.plot(coin)\n",
        "fig.autofmt_xdate()\n",
        "plt.show()"
      ],
      "metadata": {
        "colab": {
          "base_uri": "https://localhost:8080/",
          "height": 249
        },
        "id": "qYZAUY1INrnQ",
        "outputId": "96049c8b-5169-49e5-a439-f72a6a6b3362"
      },
      "execution_count": 63,
      "outputs": [
        {
          "output_type": "display_data",
          "data": {
            "image/png": "[encoded data removed]",
            "text/plain": [
              "<Figure size 432x288 with 1 Axes>"
            ]
          },
          "metadata": {
            "needs_background": "light"
          }
        }
      ]
    },
    {
      "cell_type": "code",
      "source": [
        "#Задача 8\n",
        "\n",
        "#Брошены две игральные кости. Найти закон распределения случайной величины X,\n",
        "#равной сумме выпавших очков. Найти вероятности событий X<=4"
      ],
      "metadata": {
        "id": "mhIfGFb9AUf8"
      },
      "execution_count": null,
      "outputs": []
    },
    {
      "cell_type": "code",
      "source": [
        "import pandas as pd\n",
        "import numpy as np\n",
        "n = 6\n",
        "p = .45\n",
        "size = 36\n",
        "coin = np.random.binomial(n, p, size=size)\n",
        "print(coin)"
      ],
      "metadata": {
        "id": "Tk7BobbaAhzN",
        "colab": {
          "base_uri": "https://localhost:8080/"
        },
        "outputId": "a4160c2e-d88d-44e9-a97b-b71732a5f40a"
      },
      "execution_count": 65,
      "outputs": [
        {
          "output_type": "stream",
          "name": "stdout",
          "text": [
            "[3 3 4 3 2 0 5 4 4 1 2 4 3 2 2 1 4 4 2 2 2 2 4 3 2 6 3 1 3 4 4 2 2 3 2 2]\n"
          ]
        }
      ]
    },
    {
      "cell_type": "code",
      "source": [
        "#Условные вероятности\n",
        "#Задача 9\n",
        "\n",
        "#Из колоды (36 карт) вынимают последовательно без возвращения две карты. \n",
        "#Найти вероятность того, что первой картой была шестерка, а второй — семерка. Найти условную вероятность того же события при условии, что обе карты бубновой масти."
      ],
      "metadata": {
        "id": "8OVBNcTiAiL-"
      },
      "execution_count": null,
      "outputs": []
    },
    {
      "cell_type": "code",
      "source": [
        "import random\n",
        "\n",
        "sample_size = 10000\n",
        "\n",
        "num_cards_at_least_six_ = 0\n",
        "num_cards_seven_ = 0\n",
        "\n",
        "for i in range(sample_size):\n",
        "    first_card = random.choice([\"six_\", \"seven_\"])\n",
        "    second_card = random.choice([\"seven_\", \"six_\"])\n",
        "    if first_card == \"seven_\" or second_card == \"six_\":\n",
        "        num_cards_at_least_six_ += 1\n",
        "        if first_card == \"six_\" and second_card == \"seven_\":\n",
        "            num_cards_seven_ += 1\n",
        "\n",
        "result = round(num_cards_seven_ / num_cards_at_least_six_, 2)\n",
        "print(result)\n"
      ],
      "metadata": {
        "id": "095Ez3OWAm5-",
        "colab": {
          "base_uri": "https://localhost:8080/"
        },
        "outputId": "aa1c99ee-836e-4d3a-abf9-9b6544eab48b"
      },
      "execution_count": 80,
      "outputs": [
        {
          "output_type": "stream",
          "name": "stdout",
          "text": [
            "0.0\n"
          ]
        }
      ]
    }
  ]
}