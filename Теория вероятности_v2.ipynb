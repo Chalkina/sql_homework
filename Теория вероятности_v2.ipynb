{
  "nbformat": 4,
  "nbformat_minor": 0,
  "metadata": {
    "colab": {
      "name": "Untitled1.ipynb",
      "provenance": [],
      "authorship_tag": "ABX9TyMnaNufPkoqYG4yfkCJTQ99",
      "include_colab_link": true
    },
    "kernelspec": {
      "name": "python3",
      "display_name": "Python 3"
    },
    "language_info": {
      "name": "python"
    }
  },
  "cells": [
    {
      "cell_type": "markdown",
      "metadata": {
        "id": "view-in-github",
        "colab_type": "text"
      },
      "source": [
        "<a href=\"https://colab.research.google.com/github/Chalkina/sql_homework/blob/main/%D0%A2%D0%B5%D0%BE%D1%80%D0%B8%D1%8F%20%D0%B2%D0%B5%D1%80%D0%BE%D1%8F%D1%82%D0%BD%D0%BE%D1%81%D1%82%D0%B8_v2.ipynb\" target=\"_parent\"><img src=\"https://colab.research.google.com/assets/colab-badge.svg\" alt=\"Open In Colab\"/></a>"
      ]
    },
    {
      "cell_type": "code",
      "execution_count": null,
      "metadata": {
        "id": "QB9EZ5EO5_Sk"
      },
      "outputs": [],
      "source": [
        "#Определение вероятности. События\n",
        "\n",
        "#Требуется сгенерировать необходимые выборки и произвести по ним расчеты\n",
        "\n",
        "#Задача 1\n",
        "\n",
        "#Брошено две монеты. Найти вероятность того, что монеты выпали разными сторонами"
      ]
    },
    {
      "cell_type": "code",
      "source": [
        "import pandas as pd\n",
        "import numpy as np\n",
        "n = 1\n",
        "p = .5\n",
        "size = 100000\n",
        "coin = np.random.binomial(n, p, size=size)\n",
        "len(coin[coin == 1])/len(coin)"
      ],
      "metadata": {
        "colab": {
          "base_uri": "https://localhost:8080/"
        },
        "id": "mHMzyjzW6ObB",
        "outputId": "09f09b2a-dab5-42b3-f9b2-7becc64c2af2"
      },
      "execution_count": null,
      "outputs": [
        {
          "output_type": "execute_result",
          "data": {
            "text/plain": [
              "0.50018"
            ]
          },
          "metadata": {},
          "execution_count": 5
        }
      ]
    },
    {
      "cell_type": "code",
      "source": [
        "#Задача 2 Брошено три монеты. Описать множество всех элементарных событий. Найти вероятности следующих событий:\n",
        "\n",
        "---A = {не выпало ни одного герба}\n",
        "---B = {выпало четное число гербов}\n",
        "---C = {на третьей монете выпал герб}"
      ],
      "metadata": {
        "id": "gWUTQqbM6Wxi"
      },
      "execution_count": null,
      "outputs": []
    },
    {
      "cell_type": "code",
      "source": [
        "n = 3\n",
        "p = .33\n",
        "size = 100000\n",
        "coin = np.random.binomial(n, p, size=size)\n",
        "len(coin[coin == 3])/len(coin)"
      ],
      "metadata": {
        "colab": {
          "base_uri": "https://localhost:8080/"
        },
        "id": "gXOyUYRF77zA",
        "outputId": "92d7e405-b89b-46c9-f4b9-dbc40186ca43"
      },
      "execution_count": null,
      "outputs": [
        {
          "output_type": "execute_result",
          "data": {
            "text/plain": [
              "0.03626"
            ]
          },
          "metadata": {},
          "execution_count": 9
        }
      ]
    },
    {
      "cell_type": "code",
      "source": [
        "#Задача 3\n",
        "\n",
        "#Из двух претендентов E и L на ответственную должность три члена комиссии должны отобрать одного. Каждый член комиссии должен указать либо одного достойного, \n",
        "#либо забраковать обоих. Претендент считается выбранным, если он был признана достойным хотя бы двумя членами комиссии. Найти вероятность событий:\n",
        "\n",
        "#A = {рекомендован L}, B = {рекомендован E}"
      ],
      "metadata": {
        "id": "Pq7Um1ip8ARf"
      },
      "execution_count": null,
      "outputs": []
    },
    {
      "cell_type": "code",
      "source": [
        "import pandas as pd\n",
        "import numpy as np\n",
        "n = 1\n",
        "p = .29\n",
        "size = 27\n",
        "coin = np.random.binomial(n, p, size=size)\n",
        "len(coin[coin == 1])/len(coin)"
      ],
      "metadata": {
        "colab": {
          "base_uri": "https://localhost:8080/"
        },
        "id": "DRIey93B8JiZ",
        "outputId": "c6b5283e-8ba6-4b57-f463-f3aea7b39927"
      },
      "execution_count": null,
      "outputs": [
        {
          "output_type": "execute_result",
          "data": {
            "text/plain": [
              "0.25925925925925924"
            ]
          },
          "metadata": {},
          "execution_count": 5
        }
      ]
    },
    {
      "cell_type": "code",
      "source": [
        "#Вероятность суммы событий\n",
        "#Задача 5\n",
        "\n",
        "#Брошены две игральные кости. Найти вероятность события D = {выпала хотя бы одна шестёрка}"
      ],
      "metadata": {
        "id": "sKfnRH9h-wn5"
      },
      "execution_count": null,
      "outputs": []
    },
    {
      "cell_type": "code",
      "source": [
        "from random import choice\n",
        "from itertools import cycle\n",
        "\n",
        "elements = np.array([1,2,3,4,5,6])\n",
        "probabilities = [0.05, 0.05, 0.3, 0.1, 0.4, 0.1]\n",
        "\n",
        "coin = np.random.choice(elements, 100000, p=probabilities)\n",
        "len(coin[coin == 1])/len(coin)"
      ],
      "metadata": {
        "colab": {
          "base_uri": "https://localhost:8080/"
        },
        "id": "0rBEUHYN-2dH",
        "outputId": "c84d0986-fa41-48b6-ce73-34f0fa823d36"
      },
      "execution_count": null,
      "outputs": [
        {
          "output_type": "execute_result",
          "data": {
            "text/plain": [
              "0.0494"
            ]
          },
          "metadata": {},
          "execution_count": 7
        }
      ]
    },
    {
      "cell_type": "code",
      "source": [
        "#Задача 6\n",
        "\n",
        "#В телефонном номере три последние цифры стерлись. Считая, что все возможные значения стершихся цифр равновероятны, найти вероятность событий:\n",
        "\n",
        "#A = {Стерлись различные цифры},\n",
        "\n",
        "#B = {Стерлись одинаковые цифры},\n",
        "\n",
        "#C = {Среди стершихся цифр хотя бы две совпадают},\n",
        "\n",
        "#D = {Среди стершихся цифр хотя бы две различны}"
      ],
      "metadata": {
        "id": "8OpasY3W-2qr"
      },
      "execution_count": null,
      "outputs": []
    },
    {
      "cell_type": "code",
      "source": [
        "import numpy as np\n",
        "import random\n",
        "coin = np.array([random.randint(0,10) for i in range(100000)])\n",
        "len(coin[coin == 1])/len(coin)"
      ],
      "metadata": {
        "colab": {
          "base_uri": "https://localhost:8080/"
        },
        "id": "S9FT4ZNLJlJi",
        "outputId": "a3ffd800-7755-4406-b521-57f914028975"
      },
      "execution_count": null,
      "outputs": [
        {
          "output_type": "execute_result",
          "data": {
            "text/plain": [
              "0.09165"
            ]
          },
          "metadata": {},
          "execution_count": 3
        }
      ]
    },
    {
      "cell_type": "code",
      "source": [
        "#Случайные величины\n",
        "#Задача 7\n",
        "\n",
        "#В лотерее имеется 10 билетов, из которых один выигрышный. Размер выигрыша 10 ден. ед.; стоимость билета 1 ден ед. Найти закон распределения случайной величины X, \n",
        "#равной чистому выигрышу участника лотереи, который вытаскивает билет первым."
      ],
      "metadata": {
        "id": "KH86jPATAK8p"
      },
      "execution_count": null,
      "outputs": []
    },
    {
      "cell_type": "code",
      "source": [
        "import pandas as pd\n",
        "import numpy as np\n",
        "n = 8\n",
        "p = .45\n",
        "size = 90\n",
        "coin = np.array([random.random() for i in range(90)])\n",
        "print (coin)"
      ],
      "metadata": {
        "colab": {
          "base_uri": "https://localhost:8080/"
        },
        "id": "Rc6DLeFoAUQa",
        "outputId": "3caa37eb-97f8-4179-db61-a4785d1ec4b1"
      },
      "execution_count": null,
      "outputs": [
        {
          "output_type": "stream",
          "name": "stdout",
          "text": [
            "[0.91496525 0.02928579 0.21191371 0.11504161 0.99812465 0.62276103\n",
            " 0.18753533 0.34582544 0.77743412 0.78312156 0.4415786  0.95596443\n",
            " 0.85567013 0.78702563 0.24128622 0.65174508 0.89459566 0.94929341\n",
            " 0.36867091 0.53906852 0.06334515 0.4938625  0.99416426 0.14715622\n",
            " 0.83056328 0.3102844  0.59214209 0.76148344 0.24033188 0.94672981\n",
            " 0.14800443 0.27503703 0.64581508 0.63061812 0.74194777 0.52263866\n",
            " 0.79493798 0.27687643 0.37322845 0.9816162  0.89171001 0.30260329\n",
            " 0.62531461 0.82938286 0.38134073 0.6691229  0.70340547 0.80549515\n",
            " 0.21859663 0.35544153 0.95190822 0.32806722 0.85667113 0.34524091\n",
            " 0.8505073  0.62809592 0.94016741 0.74451105 0.75942398 0.14542728\n",
            " 0.73678589 0.41676847 0.76653212 0.80504033 0.95398543 0.88935636\n",
            " 0.30138357 0.38073766 0.29799541 0.28470613 0.86028536 0.30502183\n",
            " 0.96673278 0.08424527 0.16211313 0.55513788 0.53026369 0.08454803\n",
            " 0.42924108 0.48415922 0.61049332 0.69672799 0.08654523 0.02321976\n",
            " 0.22489494 0.51207604 0.38749185 0.67524765 0.5002187  0.24089876]\n"
          ]
        }
      ]
    },
    {
      "cell_type": "code",
      "source": [
        "import numpy as np\n",
        "import pandas as pd\n",
        "import matplotlib.pyplot as plt\n",
        "%matplotlib inline\n",
        "fig, ax = plt.subplots()\n",
        "ax.plot(coin)\n",
        "fig.autofmt_xdate()\n",
        "plt.show()"
      ],
      "metadata": {
        "colab": {
          "base_uri": "https://localhost:8080/",
          "height": 249
        },
        "id": "qYZAUY1INrnQ",
        "outputId": "c60947f3-c6df-4cf4-8f5c-288b03d66c79"
      },
      "execution_count": null,
      "outputs": [
        {
          "output_type": "display_data",
          "data": {
            "image/png": "[encoded data removed]",
            "text/plain": [
              "<Figure size 432x288 with 1 Axes>"
            ]
          },
          "metadata": {
            "needs_background": "light"
          }
        }
      ]
    },
    {
      "cell_type": "code",
      "source": [
        "# построим график функции распределения\n",
        "import pandas as pd\n",
        "import numpy as np\n",
        "import matplotlib.pyplot as plt\n",
        "import scipy.stats as sts\n",
        "import scipy\n",
        "%matplotlib inline\n",
        "x = np.linspace(0,0.5,1)\n",
        "cdf = coin.cdf(x) # вернёт массив из значений функции распределения\n",
        "plt.plot(x, cdf)\n",
        "plt.ylabel(\"$F(x)$\")\n",
        "plt.xlabel(\"$x$\")\n",
        "plt.plot()"
      ],
      "metadata": {
        "colab": {
          "base_uri": "https://localhost:8080/",
          "height": 232
        },
        "id": "xnNOjNa5NCq-",
        "outputId": "5a7a34db-7f77-463e-f25a-1517ec39f6ee"
      },
      "execution_count": null,
      "outputs": [
        {
          "output_type": "error",
          "ename": "AttributeError",
          "evalue": "ignored",
          "traceback": [
            "\u001b[0;31m---------------------------------------------------------------------------\u001b[0m",
            "\u001b[0;31mAttributeError\u001b[0m                            Traceback (most recent call last)",
            "\u001b[0;32m<ipython-input-14-f2446e1392aa>\u001b[0m in \u001b[0;36m<module>\u001b[0;34m()\u001b[0m\n\u001b[1;32m      7\u001b[0m \u001b[0mget_ipython\u001b[0m\u001b[0;34m(\u001b[0m\u001b[0;34m)\u001b[0m\u001b[0;34m.\u001b[0m\u001b[0mmagic\u001b[0m\u001b[0;34m(\u001b[0m\u001b[0;34m'matplotlib inline'\u001b[0m\u001b[0;34m)\u001b[0m\u001b[0;34m\u001b[0m\u001b[0;34m\u001b[0m\u001b[0m\n\u001b[1;32m      8\u001b[0m \u001b[0mx\u001b[0m \u001b[0;34m=\u001b[0m \u001b[0mnp\u001b[0m\u001b[0;34m.\u001b[0m\u001b[0mlinspace\u001b[0m\u001b[0;34m(\u001b[0m\u001b[0;36m0\u001b[0m\u001b[0;34m,\u001b[0m\u001b[0;36m0.5\u001b[0m\u001b[0;34m,\u001b[0m\u001b[0;36m1\u001b[0m\u001b[0;34m)\u001b[0m\u001b[0;34m\u001b[0m\u001b[0;34m\u001b[0m\u001b[0m\n\u001b[0;32m----> 9\u001b[0;31m \u001b[0mcdf\u001b[0m \u001b[0;34m=\u001b[0m \u001b[0mcoin\u001b[0m\u001b[0;34m.\u001b[0m\u001b[0mcdf\u001b[0m\u001b[0;34m(\u001b[0m\u001b[0mx\u001b[0m\u001b[0;34m)\u001b[0m \u001b[0;31m# вернёт массив из значений функции распределения\u001b[0m\u001b[0;34m\u001b[0m\u001b[0;34m\u001b[0m\u001b[0m\n\u001b[0m\u001b[1;32m     10\u001b[0m \u001b[0mplt\u001b[0m\u001b[0;34m.\u001b[0m\u001b[0mplot\u001b[0m\u001b[0;34m(\u001b[0m\u001b[0mx\u001b[0m\u001b[0;34m,\u001b[0m \u001b[0mcdf\u001b[0m\u001b[0;34m)\u001b[0m\u001b[0;34m\u001b[0m\u001b[0;34m\u001b[0m\u001b[0m\n\u001b[1;32m     11\u001b[0m \u001b[0mplt\u001b[0m\u001b[0;34m.\u001b[0m\u001b[0mylabel\u001b[0m\u001b[0;34m(\u001b[0m\u001b[0;34m\"$F(x)$\"\u001b[0m\u001b[0;34m)\u001b[0m\u001b[0;34m\u001b[0m\u001b[0;34m\u001b[0m\u001b[0m\n",
            "\u001b[0;31mAttributeError\u001b[0m: 'numpy.ndarray' object has no attribute 'cdf'"
          ]
        }
      ]
    },
    {
      "cell_type": "code",
      "source": [
        "#Задача 8\n",
        "\n",
        "#Брошены две игральные кости. Найти закон распределения случайной величины X,\n",
        "#равной сумме выпавших очков. Найти вероятности событий X<=4"
      ],
      "metadata": {
        "id": "mhIfGFb9AUf8"
      },
      "execution_count": null,
      "outputs": []
    },
    {
      "cell_type": "code",
      "source": [
        "import pandas as pd\n",
        "import numpy as np\n",
        "n = 6\n",
        "p = .45\n",
        "size = 36\n",
        "coin_ = np.random.binomial(n, p, size=size)\n",
        "print(coin_)"
      ],
      "metadata": {
        "id": "Tk7BobbaAhzN",
        "colab": {
          "base_uri": "https://localhost:8080/"
        },
        "outputId": "481360ba-a047-4885-c050-98543da6d950"
      },
      "execution_count": 2,
      "outputs": [
        {
          "output_type": "stream",
          "name": "stdout",
          "text": [
            "[1 1 2 3 2 2 1 2 2 3 1 3 3 3 4 1 3 4 1 3 5 0 2 3 6 2 3 3 2 3 1 3 3 4 5 2]\n"
          ]
        }
      ]
    },
    {
      "cell_type": "code",
      "source": [
        "# построим график функции распределения\n",
        "import pandas as pd\n",
        "import numpy as np\n",
        "import matplotlib.pyplot as plt\n",
        "import scipy.stats as sts\n",
        "import scipy\n",
        "%matplotlib inline\n",
        "x = np.linspace(0,0.5,1)\n",
        "cdf = coin_.cdf(x) # вернёт массив из значений функции распределения\n",
        "plt.plot(x, cdf)\n",
        "plt.ylabel(\"$F(x)$\")\n",
        "plt.xlabel(\"$x$\")\n",
        "plt.plot()"
      ],
      "metadata": {
        "colab": {
          "base_uri": "https://localhost:8080/",
          "height": 232
        },
        "id": "v5vPTo4BHune",
        "outputId": "52cdf504-3e3f-49dd-c5d7-5c8f64ae4b09"
      },
      "execution_count": 3,
      "outputs": [
        {
          "output_type": "error",
          "ename": "AttributeError",
          "evalue": "ignored",
          "traceback": [
            "\u001b[0;31m---------------------------------------------------------------------------\u001b[0m",
            "\u001b[0;31mAttributeError\u001b[0m                            Traceback (most recent call last)",
            "\u001b[0;32m<ipython-input-3-8c879619416a>\u001b[0m in \u001b[0;36m<module>\u001b[0;34m()\u001b[0m\n\u001b[1;32m      7\u001b[0m \u001b[0mget_ipython\u001b[0m\u001b[0;34m(\u001b[0m\u001b[0;34m)\u001b[0m\u001b[0;34m.\u001b[0m\u001b[0mmagic\u001b[0m\u001b[0;34m(\u001b[0m\u001b[0;34m'matplotlib inline'\u001b[0m\u001b[0;34m)\u001b[0m\u001b[0;34m\u001b[0m\u001b[0;34m\u001b[0m\u001b[0m\n\u001b[1;32m      8\u001b[0m \u001b[0mx\u001b[0m \u001b[0;34m=\u001b[0m \u001b[0mnp\u001b[0m\u001b[0;34m.\u001b[0m\u001b[0mlinspace\u001b[0m\u001b[0;34m(\u001b[0m\u001b[0;36m0\u001b[0m\u001b[0;34m,\u001b[0m\u001b[0;36m0.5\u001b[0m\u001b[0;34m,\u001b[0m\u001b[0;36m1\u001b[0m\u001b[0;34m)\u001b[0m\u001b[0;34m\u001b[0m\u001b[0;34m\u001b[0m\u001b[0m\n\u001b[0;32m----> 9\u001b[0;31m \u001b[0mcdf\u001b[0m \u001b[0;34m=\u001b[0m \u001b[0mcoin_\u001b[0m\u001b[0;34m.\u001b[0m\u001b[0mcdf\u001b[0m\u001b[0;34m(\u001b[0m\u001b[0mx\u001b[0m\u001b[0;34m)\u001b[0m \u001b[0;31m# вернёт массив из значений функции распределения\u001b[0m\u001b[0;34m\u001b[0m\u001b[0;34m\u001b[0m\u001b[0m\n\u001b[0m\u001b[1;32m     10\u001b[0m \u001b[0mplt\u001b[0m\u001b[0;34m.\u001b[0m\u001b[0mplot\u001b[0m\u001b[0;34m(\u001b[0m\u001b[0mx\u001b[0m\u001b[0;34m,\u001b[0m \u001b[0mcdf\u001b[0m\u001b[0;34m)\u001b[0m\u001b[0;34m\u001b[0m\u001b[0;34m\u001b[0m\u001b[0m\n\u001b[1;32m     11\u001b[0m \u001b[0mplt\u001b[0m\u001b[0;34m.\u001b[0m\u001b[0mylabel\u001b[0m\u001b[0;34m(\u001b[0m\u001b[0;34m\"$F(x)$\"\u001b[0m\u001b[0;34m)\u001b[0m\u001b[0;34m\u001b[0m\u001b[0;34m\u001b[0m\u001b[0m\n",
            "\u001b[0;31mAttributeError\u001b[0m: 'numpy.ndarray' object has no attribute 'cdf'"
          ]
        }
      ]
    },
    {
      "cell_type": "code",
      "source": [
        "#Условные вероятности\n",
        "#Задача 9\n",
        "\n",
        "#Из колоды (36 карт) вынимают последовательно без возвращения две карты. \n",
        "#Найти вероятность того, что первой картой была шестерка, а второй — семерка. Найти условную вероятность того же события при условии, что обе карты бубновой масти."
      ],
      "metadata": {
        "id": "8OVBNcTiAiL-"
      },
      "execution_count": null,
      "outputs": []
    },
    {
      "cell_type": "code",
      "source": [
        "import random\n",
        "\n",
        "sample_size = 10000\n",
        "\n",
        "num_cards_at_least_six_ = 0\n",
        "num_cards_seven_ = 0\n",
        "\n",
        "for i in range(sample_size):\n",
        "    first_card = random.choice([\"six_\", \"seven_\"])\n",
        "    second_card = random.choice([\"seven_\", \"six_\"])\n",
        "    if first_card == \"seven_\" or second_card == \"six_\":\n",
        "        num_cards_at_least_six_ += 1\n",
        "        if first_card == \"six_\" and second_card == \"seven_\":\n",
        "            num_cards_seven_ += 1\n",
        "\n",
        "result = round(num_cards_seven_ / num_cards_at_least_six_, 2)\n",
        "print(result)\n"
      ],
      "metadata": {
        "id": "095Ez3OWAm5-",
        "colab": {
          "base_uri": "https://localhost:8080/"
        },
        "outputId": "aa1c99ee-836e-4d3a-abf9-9b6544eab48b"
      },
      "execution_count": null,
      "outputs": [
        {
          "output_type": "stream",
          "name": "stdout",
          "text": [
            "0.0\n"
          ]
        }
      ]
    }
  ]
}