{
  "nbformat": 4,
  "nbformat_minor": 0,
  "metadata": {
    "colab": {
      "name": "Untitled1.ipynb",
      "provenance": [],
      "authorship_tag": "ABX9TyNbTHe87DCv6u4AK+Gk+yPF",
      "include_colab_link": true
    },
    "kernelspec": {
      "name": "python3",
      "display_name": "Python 3"
    },
    "language_info": {
      "name": "python"
    }
  },
  "cells": [
    {
      "cell_type": "markdown",
      "metadata": {
        "id": "view-in-github",
        "colab_type": "text"
      },
      "source": [
        "<a href=\"https://colab.research.google.com/github/Chalkina/sql_homework/blob/main/%D0%A2%D0%B5%D0%BE%D1%80%D0%B8%D1%8F%20%D0%B2%D0%B5%D1%80%D0%BE%D1%8F%D1%82%D0%BD%D0%BE%D1%81%D1%82%D0%B8_v4.ipynb\" target=\"_parent\"><img src=\"https://colab.research.google.com/assets/colab-badge.svg\" alt=\"Open In Colab\"/></a>"
      ]
    },
    {
      "cell_type": "code",
      "execution_count": null,
      "metadata": {
        "id": "QB9EZ5EO5_Sk"
      },
      "outputs": [],
      "source": [
        "#Определение вероятности. События\n",
        "\n",
        "#Требуется сгенерировать необходимые выборки и произвести по ним расчеты\n",
        "\n",
        "#Задача 1\n",
        "\n",
        "#Брошено две монеты. Найти вероятность того, что монеты выпали разными сторонами"
      ]
    },
    {
      "cell_type": "code",
      "source": [
        "import random\n",
        "orel1 = 0\n",
        "resh1 = 0\n",
        "orel2 = 0\n",
        "resh2 = 0\n",
        "i = 0\n",
        "while i<100000:\n",
        "    i += 1\n",
        "    coin = random.randint(1,4)\n",
        "    if coin == 1:\n",
        "        orel1 += 1\n",
        "    if coin == 2:\n",
        "        resh1 += 1\n",
        "    if coin == 3:\n",
        "        orel2 += 1\n",
        "    if coin == 4:\n",
        "        resh2 += 1   \n",
        "print (\"Решек1\", resh1)\n",
        "print (\"Орлов1\", orel1)\n",
        "print (\"Решек2\", resh2)\n",
        "print (\"Орлов2\", orel2)\n",
        "p1 = float (resh1+orel2)/100000\n",
        "p2 = float (orel1+resh2)/100000\n",
        "print (p1,p2)"
      ],
      "metadata": {
        "colab": {
          "base_uri": "https://localhost:8080/"
        },
        "id": "0O1UZiTjR258",
        "outputId": "2a5f8d9f-661f-44c0-8837-67c55a33817d"
      },
      "execution_count": 13,
      "outputs": [
        {
          "output_type": "stream",
          "name": "stdout",
          "text": [
            "Решек1 25166\n",
            "Орлов1 24981\n",
            "Решек2 24981\n",
            "Орлов2 24872\n",
            "0.50038 0.49962\n"
          ]
        }
      ]
    },
    {
      "cell_type": "code",
      "source": [
        "#Задача 2 Брошено три монеты. Описать множество всех элементарных событий. Найти вероятности следующих событий:\n",
        "\n",
        "---A = {не выпало ни одного герба}\n",
        "---B = {выпало четное число гербов}\n",
        "---C = {на третьей монете выпал герб}"
      ],
      "metadata": {
        "id": "gWUTQqbM6Wxi"
      },
      "execution_count": null,
      "outputs": []
    },
    {
      "cell_type": "code",
      "source": [
        "import random\n",
        "A = 0\n",
        "B = 0\n",
        "C = 0\n",
        "i = 0\n",
        "while i<100000:\n",
        "    i += 1\n",
        "    coin = random.randint(1,3)\n",
        "    if coin == 1:\n",
        "        A += 1\n",
        "    if coin == 2:\n",
        "        B += 1\n",
        "    if coin == 3:\n",
        "        C += 1\n",
        "print (\"не выпало ни одного герба\", A)\n",
        "print (\"выпало четное число гербов\", B)\n",
        "print (\"на третьей монете выпал герб\", C)\n",
        "p1 = float (A)/100000\n",
        "p2 = float (B)/100000\n",
        "p3 = float (C)/100000\n",
        "print (p1,p2,p3)"
      ],
      "metadata": {
        "colab": {
          "base_uri": "https://localhost:8080/"
        },
        "id": "jT-wwuIiiqkg",
        "outputId": "da90799f-20ae-49e9-8881-035a66371b99"
      },
      "execution_count": 14,
      "outputs": [
        {
          "output_type": "stream",
          "name": "stdout",
          "text": [
            "не выпало ни одного герба 33344\n",
            "выпало четное число гербов 33338\n",
            "на третьей монете выпал герб 33318\n",
            "0.33344 0.33338 0.33318\n"
          ]
        }
      ]
    },
    {
      "cell_type": "code",
      "source": [
        "#Задача 3\n",
        "\n",
        "#Из двух претендентов E и L на ответственную должность три члена комиссии должны отобрать одного. Каждый член комиссии должен указать либо одного достойного, \n",
        "#либо забраковать обоих. Претендент считается выбранным, если он был признана достойным хотя бы двумя членами комиссии. Найти вероятность событий:\n",
        "\n",
        "#A = {рекомендован L}, B = {рекомендован E}"
      ],
      "metadata": {
        "id": "Pq7Um1ip8ARf"
      },
      "execution_count": null,
      "outputs": []
    },
    {
      "cell_type": "code",
      "source": [
        "#Вероятность суммы событий\n",
        "#Задача 5\n",
        "\n",
        "#Брошены две игральные кости. Найти вероятность события D = {выпала хотя бы одна шестёрка}"
      ],
      "metadata": {
        "id": "sKfnRH9h-wn5"
      },
      "execution_count": null,
      "outputs": []
    },
    {
      "cell_type": "code",
      "source": [
        "import random as random_number\n",
        "\n",
        "N = 100000\n",
        "M = 0\n",
        "for i in range(N):\n",
        "    six = 0\n",
        "    r1 = random_number.randint(1, 6)\n",
        "    if r1 == 6:\n",
        "        six += 1\n",
        "    r2 = random_number.randint(1, 6)\n",
        "    if r2 == 6:\n",
        "        six += 1\n",
        "    if six >= 1:\n",
        "        M += 1\n",
        "\n",
        "p = float(M)/N\n",
        "print (p)"
      ],
      "metadata": {
        "colab": {
          "base_uri": "https://localhost:8080/"
        },
        "id": "rKCdcY9DgLll",
        "outputId": "f0570ab0-c674-4079-ab45-07b1f59366ef"
      },
      "execution_count": 36,
      "outputs": [
        {
          "output_type": "stream",
          "name": "stdout",
          "text": [
            "0.30555\n"
          ]
        }
      ]
    },
    {
      "cell_type": "code",
      "source": [
        "#Задача 6\n",
        "\n",
        "#В телефонном номере три последние цифры стерлись. Считая, что все возможные значения стершихся цифр равновероятны, найти вероятность событий:\n",
        "\n",
        "#A = {Стерлись различные цифры},\n",
        "\n",
        "#B = {Стерлись одинаковые цифры},\n",
        "\n",
        "#C = {Среди стершихся цифр хотя бы две совпадают},\n",
        "\n",
        "#D = {Среди стершихся цифр хотя бы две различны}"
      ],
      "metadata": {
        "id": "8OpasY3W-2qr"
      },
      "execution_count": null,
      "outputs": []
    },
    {
      "cell_type": "code",
      "source": [
        "numbers = list(range(100,1000))\n",
        "random.choice(numbers)"
      ],
      "metadata": {
        "colab": {
          "base_uri": "https://localhost:8080/"
        },
        "id": "mQzKrbPctcwR",
        "outputId": "5248890a-3f21-4bb2-a0d9-c83381a7dca9"
      },
      "execution_count": 39,
      "outputs": [
        {
          "output_type": "execute_result",
          "data": {
            "text/plain": [
              "290"
            ]
          },
          "metadata": {},
          "execution_count": 39
        }
      ]
    },
    {
      "cell_type": "code",
      "source": [
        "import random\n",
        "A = 0\n",
        "B = 0\n",
        "C = 0\n",
        "D = 0\n",
        "i = 0\n",
        "while i<1001:\n",
        "    i += 1\n",
        "    numbers = random.randint(1,4)\n",
        "    if numbers == 1:\n",
        "        A += 1\n",
        "    if numbers == 2:\n",
        "        B += 1\n",
        "    if numbers == 3:\n",
        "        C += 1\n",
        "    if numbers == 4:\n",
        "        D += 1\n",
        "print (\"Стерлись различные цифры\", A)\n",
        "print (\"Стерлись одинаковые цифры\", B)\n",
        "print (\"Среди стершихся цифр хотя бы две совпадают\", C)\n",
        "print (\"Среди стершихся цифр хотя бы две различны\", D)"
      ],
      "metadata": {
        "colab": {
          "base_uri": "https://localhost:8080/"
        },
        "id": "ccuShI3apQ_I",
        "outputId": "64854925-a305-4b99-bbf0-d938664b015b"
      },
      "execution_count": null,
      "outputs": [
        {
          "output_type": "stream",
          "name": "stdout",
          "text": [
            "Стерлись различные цифры 248\n",
            "Стерлись одинаковые цифры 267\n",
            "Среди стершихся цифр хотя бы две совпадают 246\n",
            "Среди стершихся цифр хотя бы две различны 240\n"
          ]
        }
      ]
    },
    {
      "cell_type": "code",
      "source": [
        "#Случайные величины\n",
        "#Задача 7\n",
        "\n",
        "#В лотерее имеется 10 билетов, из которых один выигрышный. Размер выигрыша 10 ден. ед.; стоимость билета 1 ден ед. Найти закон распределения случайной величины X, \n",
        "#равной чистому выигрышу участника лотереи, который вытаскивает билет первым."
      ],
      "metadata": {
        "id": "KH86jPATAK8p"
      },
      "execution_count": null,
      "outputs": []
    },
    {
      "cell_type": "code",
      "source": [
        "import pandas as pd\n",
        "import numpy as np\n",
        "import scipy\n",
        "import scipy.stats as sts\n",
        "n = 8\n",
        "p = .45\n",
        "size = 90\n",
        "coin = np.array([random.random() for i in range(90)])\n",
        "print (coin)"
      ],
      "metadata": {
        "colab": {
          "base_uri": "https://localhost:8080/"
        },
        "id": "Rc6DLeFoAUQa",
        "outputId": "b09dd481-9d22-4599-d0f4-218b62a06716"
      },
      "execution_count": 61,
      "outputs": [
        {
          "output_type": "stream",
          "name": "stdout",
          "text": [
            "[3.31469783e-01 3.18026184e-01 7.81628134e-01 5.47926664e-01\n",
            " 2.61383611e-01 9.01290460e-01 7.31046408e-01 8.10323813e-01\n",
            " 9.98779255e-01 8.84913778e-02 1.15446186e-01 4.89226301e-01\n",
            " 2.84563792e-01 2.50841626e-01 3.29390856e-01 7.83438251e-01\n",
            " 7.65146949e-01 6.40817490e-01 2.38636039e-01 8.28294868e-01\n",
            " 4.92474862e-01 4.54455414e-01 5.16245527e-01 9.76151932e-01\n",
            " 2.14933137e-06 7.75194195e-01 8.46063272e-01 9.32522611e-02\n",
            " 2.83510386e-01 6.67771087e-01 4.26951601e-01 4.90844631e-01\n",
            " 6.82473356e-01 4.89035855e-01 8.58476251e-01 2.21455014e-01\n",
            " 2.65929377e-01 7.35095127e-02 1.40805846e-01 2.13091997e-01\n",
            " 2.33941492e-01 5.56631546e-01 7.93041853e-01 5.27010054e-01\n",
            " 7.62932137e-01 1.01743826e-01 8.97679910e-01 2.02372875e-01\n",
            " 1.84105992e-01 4.66504700e-01 9.95816127e-01 3.98404157e-02\n",
            " 2.61698101e-02 8.50908736e-01 7.21620450e-01 5.85143797e-01\n",
            " 1.24585943e-01 8.04461326e-02 2.49182733e-01 1.30623661e-01\n",
            " 2.29956151e-01 3.96870704e-01 9.18408833e-01 5.06665742e-01\n",
            " 7.76080171e-01 2.22553914e-01 6.98399245e-01 4.18328368e-01\n",
            " 1.14375777e-01 9.41098153e-01 2.78224480e-01 4.97095703e-01\n",
            " 7.98810132e-01 7.81427205e-01 5.55772285e-01 5.27115864e-01\n",
            " 9.83581992e-01 8.67040728e-01 7.92421184e-01 3.17433976e-01\n",
            " 8.66167197e-01 2.10592599e-02 4.79058078e-01 6.68592577e-02\n",
            " 7.74022612e-01 9.84162446e-01 1.93607044e-01 8.33313754e-01\n",
            " 1.98668108e-01 1.34312344e-02]\n"
          ]
        }
      ]
    },
    {
      "cell_type": "code",
      "source": [
        "df = pd.DataFrame(coin, columns=['p'])\n",
        "df.info"
      ],
      "metadata": {
        "colab": {
          "base_uri": "https://localhost:8080/"
        },
        "id": "grF7AhnNwp_P",
        "outputId": "0079c985-46f3-42a5-d04e-3bb68f929d6b"
      },
      "execution_count": 65,
      "outputs": [
        {
          "output_type": "execute_result",
          "data": {
            "text/plain": [
              "<bound method DataFrame.info of            p\n",
              "0   0.331470\n",
              "1   0.318026\n",
              "2   0.781628\n",
              "3   0.547927\n",
              "4   0.261384\n",
              "..       ...\n",
              "85  0.984162\n",
              "86  0.193607\n",
              "87  0.833314\n",
              "88  0.198668\n",
              "89  0.013431\n",
              "\n",
              "[90 rows x 1 columns]>"
            ]
          },
          "metadata": {},
          "execution_count": 65
        }
      ]
    },
    {
      "cell_type": "code",
      "source": [
        "import matplotlib.pyplot as plt\n",
        "import pandas as pd\n",
        "import numpy as np\n",
        "import seaborn as sns\n",
        "\n",
        "df = pd.DataFrame(coin, columns=['p'])\n",
        "data = df['p']\n",
        "\n",
        "sns.displot(data)\n",
        "\n",
        "plt.show()"
      ],
      "metadata": {
        "colab": {
          "base_uri": "https://localhost:8080/",
          "height": 369
        },
        "id": "yRoh-VMA0-zL",
        "outputId": "0780a715-df3c-4441-8a7d-bd72a306f464"
      },
      "execution_count": 71,
      "outputs": [
        {
          "output_type": "display_data",
          "data": {
            "image/png": "[encoded data removed]",
            "text/plain": [
              "<Figure size 360x360 with 1 Axes>"
            ]
          },
          "metadata": {
            "needs_background": "light"
          }
        }
      ]
    },
    {
      "cell_type": "code",
      "source": [
        "#Задача 8\n",
        "\n",
        "#Брошены две игральные кости. Найти закон распределения случайной величины X,\n",
        "#равной сумме выпавших очков. Найти вероятности событий X<=4"
      ],
      "metadata": {
        "id": "mhIfGFb9AUf8"
      },
      "execution_count": null,
      "outputs": []
    },
    {
      "cell_type": "code",
      "source": [
        "import pandas as pd\n",
        "import numpy as np\n",
        "import scipy\n",
        "import scipy.stats as sts\n",
        "n = 6\n",
        "p = .45\n",
        "size = 36\n",
        "coin_ = np.random.binomial(n, p, size=size)"
      ],
      "metadata": {
        "id": "Tk7BobbaAhzN"
      },
      "execution_count": 73,
      "outputs": []
    },
    {
      "cell_type": "code",
      "source": [
        "import matplotlib.pyplot as plt\n",
        "import pandas as pd\n",
        "import numpy as np\n",
        "import seaborn as sns\n",
        "\n",
        "df = pd.DataFrame(coin_, columns=['p'])\n",
        "data = df['p']\n",
        "\n",
        "sns.displot(data)\n",
        "\n",
        "plt.show()"
      ],
      "metadata": {
        "colab": {
          "base_uri": "https://localhost:8080/",
          "height": 369
        },
        "id": "ttsa88Zo1fM6",
        "outputId": "90f36407-3ea0-42a4-8bc5-bf29b5a7ecaf"
      },
      "execution_count": 74,
      "outputs": [
        {
          "output_type": "display_data",
          "data": {
            "image/png": "[encoded data removed]",
            "text/plain": [
              "<Figure size 360x360 with 1 Axes>"
            ]
          },
          "metadata": {
            "needs_background": "light"
          }
        }
      ]
    },
    {
      "cell_type": "code",
      "source": [
        "#Условные вероятности\n",
        "#Задача 9\n",
        "\n",
        "#Из колоды (36 карт) вынимают последовательно без возвращения две карты. \n",
        "#Найти вероятность того, что первой картой была шестерка, а второй — семерка. Найти условную вероятность того же события при условии, что обе карты бубновой масти."
      ],
      "metadata": {
        "id": "8OVBNcTiAiL-"
      },
      "execution_count": null,
      "outputs": []
    },
    {
      "cell_type": "code",
      "source": [
        "import random\n",
        "\n",
        "suits = [\"spade\", \"club\", \"heart\", \"diamond\"]\n",
        "faces = [\"6\", \"7\", \"8\", \"9\", \"10\", \"J\", \"Q\", \"K\", \"A\"]\n",
        "\n",
        "cards = []\n",
        "for suit in suits:\n",
        "    for face in faces:\n",
        "        cards.append((suit, face))\n",
        "        cards_new = random.shuffle(cards)"
      ],
      "metadata": {
        "id": "bPuRYAnZ8p-E"
      },
      "execution_count": 89,
      "outputs": []
    }
  ]
}