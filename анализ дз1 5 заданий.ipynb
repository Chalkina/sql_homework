{
  "nbformat": 4,
  "nbformat_minor": 0,
  "metadata": {
    "colab": {
      "name": "lesson4_with_task6.ipynb",
      "provenance": [],
      "collapsed_sections": [],
      "include_colab_link": true
    },
    "kernelspec": {
      "display_name": "Python 3",
      "name": "python3"
    },
    "language_info": {
      "name": "python"
    }
  },
  "cells": [
    {
      "cell_type": "markdown",
      "metadata": {
        "id": "view-in-github",
        "colab_type": "text"
      },
      "source": [
        "<a href=\"https://colab.research.google.com/github/Chalkina/sql_homework/blob/main/%D0%B0%D0%BD%D0%B0%D0%BB%D0%B8%D0%B7%20%D0%B4%D0%B71%205%20%D0%B7%D0%B0%D0%B4%D0%B0%D0%BD%D0%B8%D0%B9.ipynb\" target=\"_parent\"><img src=\"https://colab.research.google.com/assets/colab-badge.svg\" alt=\"Open In Colab\"/></a>"
      ]
    },
    {
      "cell_type": "code",
      "metadata": {
        "id": "8w-uMyA4FZd9"
      },
      "source": [
        "#установка библиотек\n",
        "# !pip install psycopg2\n",
        "# !pip install plotly"
      ],
      "execution_count": null,
      "outputs": []
    },
    {
      "cell_type": "code",
      "metadata": {
        "id": "tg6CUoL3Fo1X",
        "colab": {
          "base_uri": "https://localhost:8080/"
        },
        "outputId": "e05c302b-278b-4ddb-930d-3067a848850c"
      },
      "source": [
        "#проверка подключения PostgreSQL \n",
        "import psycopg2\n",
        "import pandas as pd\n",
        "#Библиотека ждя визуализации\n",
        "from IPython.display import HTML\n",
        "import plotly.express as px\n"
      ],
      "execution_count": 4,
      "outputs": [
        {
          "output_type": "stream",
          "name": "stderr",
          "text": [
            "/usr/local/lib/python3.7/dist-packages/psycopg2/__init__.py:144: UserWarning: The psycopg2 wheel package will be renamed from release 2.8; in order to keep installing from binary please use \"pip install psycopg2-binary\" instead. For details see: <http://initd.org/psycopg/docs/install.html#binary-install-from-pypi>.\n",
            "  \"\"\")\n"
          ]
        }
      ]
    },
    {
      "cell_type": "code",
      "metadata": {
        "id": "UhRcsPMziV0p"
      },
      "source": [
        "--Задача 1\n",
        "Брошено две монеты. Найти вероятность того, что монеты выпали разными сторонами\n"
      ],
      "execution_count": null,
      "outputs": []
    },
    {
      "cell_type": "code",
      "source": [
        "--Вариант 1"
      ],
      "metadata": {
        "id": "Tm7f9-EFDJz6"
      },
      "execution_count": null,
      "outputs": []
    },
    {
      "cell_type": "code",
      "source": [
        "import random\n",
        "orel = 0\n",
        "resh = 0\n",
        "i = 0\n",
        "while i<1:\n",
        "    i += 1\n",
        "    coin = random.randint(1,2)\n",
        "    if coin == 1:\n",
        "        orel += 1\n",
        "    if coin == 2:\n",
        "        resh += 1\n",
        "print (\"Решек\", resh)\n",
        "print (\"Орлов\", orel)\n"
      ],
      "metadata": {
        "colab": {
          "base_uri": "https://localhost:8080/"
        },
        "id": "6iTn1z3DDNL5",
        "outputId": "b8cc0853-50e1-4ab3-b8be-e93852716b10"
      },
      "execution_count": 1,
      "outputs": [
        {
          "output_type": "stream",
          "name": "stdout",
          "text": [
            "Решек 0\n",
            "Орлов 1\n"
          ]
        }
      ]
    },
    {
      "cell_type": "code",
      "source": [
        "--Вариант 2"
      ],
      "metadata": {
        "id": "P5v4JISsDSu_"
      },
      "execution_count": null,
      "outputs": []
    },
    {
      "cell_type": "code",
      "source": [
        "import pandas as pd\n",
        "import numpy as np\n",
        "n = 1\n",
        "p = .45\n",
        "size = 1000\n",
        "coin = np.random.binomial(n, p, size=size)\n",
        "len(coin[coin == 1])/len(coin)\n"
      ],
      "metadata": {
        "colab": {
          "base_uri": "https://localhost:8080/"
        },
        "id": "yzEuWD69ER_T",
        "outputId": "4c94941b-0bb6-40f8-f7d7-8c9828767910"
      },
      "execution_count": 8,
      "outputs": [
        {
          "output_type": "execute_result",
          "data": {
            "text/plain": [
              "0.444"
            ]
          },
          "metadata": {},
          "execution_count": 8
        }
      ]
    },
    {
      "cell_type": "code",
      "source": [
        "--Задача 2\n",
        "Брошено три монеты. Описать множество всех элементарных событий. Найти вероятности следующих событий:\n",
        "1.\tA = {не выпало ни одного герба}\n",
        "2.\tB = {выпало четное число гербов}\n",
        "3.\tC = {на третьей монете выпал герб}"
      ],
      "metadata": {
        "id": "UEtnnALTEV5F"
      },
      "execution_count": null,
      "outputs": []
    },
    {
      "cell_type": "code",
      "source": [
        "import random\n",
        "A = 0\n",
        "B = 0\n",
        "C = 0\n",
        "i = 0\n",
        "while i<3:\n",
        "    i += 1\n",
        "    coin = random.randint(1,2)\n",
        "    if coin == 1:\n",
        "        A += 1\n",
        "    if coin == 2:\n",
        "        B += 1\n",
        "        if coin == 3:\n",
        "          C += 1\n",
        "print (\"A\", A)\n",
        "print (\"B\", B)\n",
        "print (\"C\", C)"
      ],
      "metadata": {
        "colab": {
          "base_uri": "https://localhost:8080/"
        },
        "id": "w8FKKnvwEaSX",
        "outputId": "39093b54-dc4b-4f00-db33-38620943b7f1"
      },
      "execution_count": 9,
      "outputs": [
        {
          "output_type": "stream",
          "name": "stdout",
          "text": [
            "A 0\n",
            "B 3\n",
            "C 0\n"
          ]
        }
      ]
    },
    {
      "cell_type": "code",
      "source": [
        "--Задача 3\n",
        "Из двух претендентов E и L на ответственную должность три члена комиссии должны отобрать одного. Каждый член комиссии должен указать либо одного достойного, либо забраковать обоих. Претендент считается выбранным, если он был признана достойным хотя бы двумя членами комиссии. Найти вероятность событий:\n",
        "A = {рекомендован L}, B = {рекомендован E}"
      ],
      "metadata": {
        "id": "_3m9yZ-UEgiy"
      },
      "execution_count": null,
      "outputs": []
    },
    {
      "cell_type": "code",
      "source": [
        "import pandas as pd\n",
        "import numpy as np\n",
        "n = 7\n",
        "p = .8\n",
        "size = 27\n",
        "coin = np.random.binomial(n, p, size=size)\n",
        "len(coin[coin == 7])/len(coin)"
      ],
      "metadata": {
        "colab": {
          "base_uri": "https://localhost:8080/"
        },
        "id": "2c29MMjEEk0G",
        "outputId": "4a1a68d5-25cc-495f-fcc3-185e7456a709"
      },
      "execution_count": 15,
      "outputs": [
        {
          "output_type": "execute_result",
          "data": {
            "text/plain": [
              "0.25925925925925924"
            ]
          },
          "metadata": {},
          "execution_count": 15
        }
      ]
    },
    {
      "cell_type": "code",
      "source": [
        "--Задача 4\n",
        "Брошено две игральных кости. Описать множество элементарных событий. Найти вероятности событий:\n",
        "A = {вышло две \"шестерки\"}\n",
        "B = {сумма выпавших очков не меньше 11}\n",
        "C = {не выпала ни одна \"шестерка\"}"
      ],
      "metadata": {
        "id": "oO6ALTjwGUw9"
      },
      "execution_count": null,
      "outputs": []
    },
    {
      "cell_type": "code",
      "source": [
        "import pandas as pd\n",
        "import numpy as np\n",
        "n = 1\n",
        "p = .04\n",
        "size = 36\n",
        "coin = np.random.binomial(n, p, size=size)\n",
        "len(coin[coin == 1])/len(coin)"
      ],
      "metadata": {
        "colab": {
          "base_uri": "https://localhost:8080/"
        },
        "id": "QsiHv_WoGboJ",
        "outputId": "e055af20-04ad-4e70-fcee-004a5a19c8a2"
      },
      "execution_count": 24,
      "outputs": [
        {
          "output_type": "execute_result",
          "data": {
            "text/plain": [
              "0.027777777777777776"
            ]
          },
          "metadata": {},
          "execution_count": 24
        }
      ]
    },
    {
      "cell_type": "code",
      "source": [
        "import pandas as pd\n",
        "import numpy as np\n",
        "n = 3\n",
        "p = .023\n",
        "size = 36\n",
        "coin = np.random.binomial(n, p, size=size)\n",
        "len(coin[coin == 1])/len(coin)"
      ],
      "metadata": {
        "colab": {
          "base_uri": "https://localhost:8080/"
        },
        "id": "skibwHQjJDkd",
        "outputId": "0cf154db-c5ae-4e79-f4b1-94b3b237a455"
      },
      "execution_count": 42,
      "outputs": [
        {
          "output_type": "execute_result",
          "data": {
            "text/plain": [
              "0.08333333333333333"
            ]
          },
          "metadata": {},
          "execution_count": 42
        }
      ]
    },
    {
      "cell_type": "code",
      "source": [
        "import pandas as pd\n",
        "import numpy as np\n",
        "n = 25\n",
        "p = .04\n",
        "size = 36\n",
        "coin = np.random.binomial(n, p, size=size)\n",
        "len(coin[coin == 1])/len(coin)"
      ],
      "metadata": {
        "colab": {
          "base_uri": "https://localhost:8080/"
        },
        "id": "W67bbLP3J4Xy",
        "outputId": "f3f97426-04b3-473e-8ecb-d3f0f8480815"
      },
      "execution_count": 105,
      "outputs": [
        {
          "output_type": "execute_result",
          "data": {
            "text/plain": [
              "0.4166666666666667"
            ]
          },
          "metadata": {},
          "execution_count": 105
        }
      ]
    },
    {
      "cell_type": "code",
      "source": [
        "--Задача 5\n",
        "Брошены две игральные кости. Найти вероятность события D = {выпала хотя бы одна шестёрка}"
      ],
      "metadata": {
        "id": "xb4egEdxMszK"
      },
      "execution_count": null,
      "outputs": []
    },
    {
      "cell_type": "code",
      "source": [
        "import pandas as pd\n",
        "import numpy as np\n",
        "n = 11\n",
        "p = .04\n",
        "size = 36\n",
        "coin = np.random.binomial(n, p, size=size)\n",
        "len(coin[coin == 1])/len(coin)"
      ],
      "metadata": {
        "colab": {
          "base_uri": "https://localhost:8080/"
        },
        "id": "cHMcCCVTMzDI",
        "outputId": "c1d59aab-1189-4f87-cdd5-9a68fa01a57f"
      },
      "execution_count": 110,
      "outputs": [
        {
          "output_type": "execute_result",
          "data": {
            "text/plain": [
              "0.3333333333333333"
            ]
          },
          "metadata": {},
          "execution_count": 110
        }
      ]
    },
    {
      "cell_type": "code",
      "source": [
        "--Задача 6\n",
        "В телефонном номере три последние цифры стерлись. Считая, что все возможные значения стершихся цифр равновероятны, найти вероятность событий:\n",
        "A = {Стерлись различные цифры},\n",
        "B = {Стерлись одинаковые цифры},\n",
        "C = {Среди стершихся цифр хотя бы две совпадают},\n",
        "D = {Среди стершихся цифр хотя бы две различны}"
      ],
      "metadata": {
        "id": "nFKFOyLgQLrK"
      },
      "execution_count": null,
      "outputs": []
    },
    {
      "cell_type": "code",
      "source": [
        "import pandas as pd\n",
        "import numpy as np\n",
        "n = 720\n",
        "p = .5\n",
        "size = 1000\n",
        "coin = np.random.binomial(n, p, size=size)\n",
        "len(coin[coin == 1])/len(coin)"
      ],
      "metadata": {
        "colab": {
          "base_uri": "https://localhost:8080/"
        },
        "id": "vkVW7wpFQSqw",
        "outputId": "135c8e59-d669-42fa-f8b4-3382f57693ea"
      },
      "execution_count": 125,
      "outputs": [
        {
          "output_type": "execute_result",
          "data": {
            "text/plain": [
              "0.0"
            ]
          },
          "metadata": {},
          "execution_count": 125
        }
      ]
    }
  ]
}